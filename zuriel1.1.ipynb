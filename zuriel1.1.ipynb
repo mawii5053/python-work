{
 "cells": [
  {
   "cell_type": "code",
   "execution_count": 4,
   "id": "d3284a0e-50bc-406e-ac91-77e84f860b67",
   "metadata": {},
   "outputs": [
    {
     "name": "stdout",
     "output_type": "stream",
     "text": [
      "1\n",
      "3\n",
      "5\n",
      "7\n",
      "9\n"
     ]
    }
   ],
   "source": [
    "# the for loop takes a collection of items and executes a block of code once for each item in the collection.\n",
    "# the while loop runs as long as , or while , a certain condition remains true.\n",
    "# you can use the while loop to count series of numbers.\n",
    "initial_number = 1 \n",
    "while initial_number <= 10: \n",
    "    print(initial_number) \n",
    "    initial_number += 2\n",
    "    "
   ]
  },
  {
   "cell_type": "code",
   "execution_count": 2,
   "id": "f6a34922-fe44-40d3-a3c6-da40999b7205",
   "metadata": {},
   "outputs": [
    {
     "name": "stdin",
     "output_type": "stream",
     "text": [
      "\n",
      "tell me something, and i will repeat it back to you:\n",
      "enter 'quit' to end the program.  dozie\n",
      "\n",
      "tell me something, and i will repeat it back to you:\n",
      "enter 'quit' to end the program.  ugonna\n",
      "\n",
      "tell me something, and i will repeat it back to you:\n",
      "enter 'quit' to end the program.  quit\n"
     ]
    },
    {
     "name": "stdout",
     "output_type": "stream",
     "text": [
      "quit\n"
     ]
    }
   ],
   "source": [
    "prompt = \"\\ntell me something, and i will repeat it back to you:\"\n",
    "prompt += \"\\nenter 'quit' to end the program. \"\n",
    "message = \"\"\n",
    "while message != 'quit':\n",
    "    message = input(prompt)\n",
    "print(message)"
   ]
  },
  {
   "cell_type": "code",
   "execution_count": 3,
   "id": "9e386751-13b8-4c43-bf0d-d1b5a5445e52",
   "metadata": {},
   "outputs": [
    {
     "name": "stdin",
     "output_type": "stream",
     "text": [
      "\n",
      "Please enter the name of the pharmacy you have visited: \n",
      "(Enter quit when you are finished.)  roziel\n"
     ]
    },
    {
     "name": "stdout",
     "output_type": "stream",
     "text": [
      "I have to visit the facility of Roziel \n"
     ]
    },
    {
     "name": "stdin",
     "output_type": "stream",
     "text": [
      "\n",
      "Please enter the name of the pharmacy you have visited: \n",
      "(Enter quit when you are finished.)  curascare\n"
     ]
    },
    {
     "name": "stdout",
     "output_type": "stream",
     "text": [
      "I have to visit the facility of Curascare \n"
     ]
    },
    {
     "name": "stdin",
     "output_type": "stream",
     "text": [
      "\n",
      "Please enter the name of the pharmacy you have visited: \n",
      "(Enter quit when you are finished.)  quit\n"
     ]
    }
   ],
   "source": [
    "# to exit a \"while loop\" immediately without running any remaining code in the loop,use the \"break statement\"\n",
    "# the break statement can be used to control which lines of code are executed and which aren't, so the program only excute code that you wish.\n",
    "prompt = \"\\nPlease enter the name of the pharmacy you have visited: \"\n",
    "prompt += \"\\n(Enter quit when you are finished.) \"\n",
    "while True:\n",
    "    pharmacy = input(prompt)\n",
    "    if pharmacy == \"quit\":\n",
    "        break\n",
    "    else:\n",
    "        print(f\"I have to visit the facility of {pharmacy.title()} \")\n",
    "# you can use the break statement in any python loops"
   ]
  },
  {
   "cell_type": "code",
   "execution_count": 12,
   "id": "0fe44549-ef57-4878-8952-d53c69475c27",
   "metadata": {},
   "outputs": [
    {
     "name": "stdout",
     "output_type": "stream",
     "text": [
      "1\n",
      "3\n",
      "5\n",
      "7\n",
      "9\n"
     ]
    }
   ],
   "source": [
    "# instead of breaking out of a loop entirely without executing the rest of its code, i can use the \"continue statement\"\n",
    "# the continue statement return to the beginning of the loop based on the result of a conditional test.\n",
    "initial_number = 0  # initial number is less than 10\n",
    "while initial_number < 10:\n",
    "    initial_number += 1 # we increment by 1\n",
    "    if initial_number % 2 == 0: # the if statement checks the modulo of initial number and 2\n",
    "        continue # the continue statement tells python to ignore the rest of the loop and return to the beginning\n",
    "    print(initial_number) # if the initial number is not divisible by 2, the rest of the loop is executed and the initial number is printed."
   ]
  },
  {
   "cell_type": "code",
   "execution_count": 13,
   "id": "c35308cc-7240-4765-b26b-b9a669596e32",
   "metadata": {},
   "outputs": [
    {
     "name": "stdout",
     "output_type": "stream",
     "text": [
      "1\n",
      "2\n",
      "3\n",
      "4\n",
      "5\n",
      "6\n",
      "7\n",
      "8\n",
      "9\n",
      "10\n"
     ]
    }
   ],
   "source": [
    "# every while loop needs a way to stop running so it wont continue to run forever\n",
    "x = 1\n",
    "while x <= 10:\n",
    "    print(x)\n",
    "    x += 1"
   ]
  },
  {
   "cell_type": "code",
   "execution_count": 28,
   "id": "0555671e-c286-4fb4-82e2-205bceb72bfb",
   "metadata": {},
   "outputs": [
    {
     "name": "stdout",
     "output_type": "stream",
     "text": [
      "verifying user: Jacob\n",
      "verifying user: Nosa\n",
      "verifying user: Dozie\n",
      "verifying user: Brain\n",
      "verifying user: Rose\n",
      "\n",
      "the following users have been confirmed:\n",
      "Jacob\n",
      "Nosa\n",
      "Dozie\n",
      "Brain\n",
      "Rose\n"
     ]
    }
   ],
   "source": [
    "# using \"while loop\" with lists and dictionaries allows you to collect, store, and organize lots of input to examine and report on later\n",
    "# e.g looking at a new list of newly registered but unverified users of a website\n",
    "    # start with users that need  to be verified,\n",
    "    # and an empty list to hold confirmed users.\n",
    "unconfirmed_users = ['rose' , 'brain' , 'dozie' , 'nosa' , 'jacob' ]\n",
    "confirmed_users = []\n",
    "    # verify each user untill there are no more unconfirmed user.\n",
    "    # move each verified user into the list of confirmed users.\n",
    "while unconfirmed_users:\n",
    "    current_user = unconfirmed_users.pop()\n",
    "    print(f\"verifying user: {current_user.title()}\")\n",
    "    confirmed_users.append(current_user)\n",
    " # display all confirmed users.\n",
    "print(f\"\\nthe following users have been confirmed:\")\n",
    "for confirmed_user in confirmed_users:\n",
    "    print(confirmed_user.title())\n",
    "    "
   ]
  },
  {
   "cell_type": "code",
   "execution_count": 31,
   "id": "bba51562-787c-4d2a-9d14-59fd2c57f432",
   "metadata": {},
   "outputs": [
    {
     "name": "stdout",
     "output_type": "stream",
     "text": [
      "['rice', 'beans', 'garri', 'fufu', 'veg', 'bread', 'beans']\n",
      "['rice', 'garri', 'fufu', 'veg', 'bread']\n"
     ]
    }
   ],
   "source": [
    "# removing all instances of specific values from a list, you can run a  while loop until the specific value is no longer in the list.\n",
    "foods = ['rice' , 'beans' , 'garri', 'fufu' , 'veg' , 'bread', 'beans']\n",
    "print(foods)\n",
    "\n",
    "while 'beans' in foods:\n",
    "    foods.remove('beans')\n",
    "print(foods)"
   ]
  },
  {
   "cell_type": "code",
   "execution_count": 37,
   "id": "85672898-4bdf-4bd6-bf6a-c4037e81ffa6",
   "metadata": {},
   "outputs": [
    {
     "name": "stdout",
     "output_type": "stream",
     "text": [
      "hello!\n"
     ]
    }
   ],
   "source": [
    "# defining a function\n",
    "def greet_user(): # this informs python that a function is defined, it ends in a colon.\n",
    "    \"\"\"display a simple greetings.\"\"\" # this is a docstrings which describe what the defined function should do, they are enclosed in triple quotes.\n",
    "\n",
    "print(\"hello!\")  # this is the only actual code in the body of this function, greet_user() has just one job: print(\"hello!\")  \n",
    "greet_user()"
   ]
  },
  {
   "cell_type": "code",
   "execution_count": 43,
   "id": "61b7a619-4103-4d82-9f96-6d2e8f86e558",
   "metadata": {},
   "outputs": [
    {
     "name": "stdout",
     "output_type": "stream",
     "text": [
      "hello, Nnadozie!\n"
     ]
    }
   ],
   "source": [
    "def greet_user(username): # great_user is a function which has a variable (username).\n",
    "    \"\"\"display a simple greeting.\"\"\" # the variable(username) in the definition of greet_user() is an example of a PARAMETER which is a piece of info the function needs to do its job.\n",
    "    print(f\"hello, {username.title()}!\")  \n",
    "greet_user(\"nnadozie\") # the value 'nnadozie' in greet_user('nnadozie') is an example of an argument.\n",
    "# an argument is a piece of information that's passed from a function call to a function"
   ]
  },
  {
   "cell_type": "code",
   "execution_count": 48,
   "id": "3a661bf7-e30c-4295-a126-5873ff85ef63",
   "metadata": {},
   "outputs": [
    {
     "name": "stdout",
     "output_type": "stream",
     "text": [
      "i am learning about funtions\n"
     ]
    }
   ],
   "source": [
    "def display_message():\n",
    "    \"\"\"telling everyone what you are learning about this chapter\"\"\"\n",
    "    print(\"i am learning about funtions\")\n",
    "display_message()    "
   ]
  },
  {
   "cell_type": "code",
   "execution_count": 49,
   "id": "1ab1c699-695d-4c91-b0f6-85a832791988",
   "metadata": {},
   "outputs": [
    {
     "name": "stdout",
     "output_type": "stream",
     "text": [
      "one of my favorite book is Alice In Wonder Land\n"
     ]
    }
   ],
   "source": [
    "def favorite_book(title):\n",
    "    print(f\"one of my favorite book is {title.title()}\")\n",
    "favorite_book('alice in wonder land')"
   ]
  },
  {
   "cell_type": "code",
   "execution_count": 56,
   "id": "2d5db593-5cf4-4247-b65c-0105aad6de92",
   "metadata": {},
   "outputs": [
    {
     "name": "stdout",
     "output_type": "stream",
     "text": [
      "\n",
      "i have a hamster.\n",
      "my hamster's name is Harry\n"
     ]
    }
   ],
   "source": [
    "# a function definition can have multiple parameters, a function call may need multiple arguments.\n",
    "# arguments can be passed to a functions in a number of ways such as the POSITIONAL and KEYWORD.\n",
    "# the POSITIONAL ARGUMENTS needs to be in the same order the parameters were written.\n",
    "# this is an example of a positional argument\n",
    "def describe_pet(animal_type, pet_name):\n",
    "    \"\"\"Display information about a pet\"\"\"\n",
    "    print(f\"\\ni have a {animal_type}.\")\n",
    "    print(f\"my {animal_type}'s name is {pet_name.title()}\")    \n",
    "describe_pet('hamster', 'harry')"
   ]
  },
  {
   "cell_type": "code",
   "execution_count": 57,
   "id": "70cfb776-5e62-4b2a-9cb6-816508ccff1b",
   "metadata": {},
   "outputs": [
    {
     "name": "stdout",
     "output_type": "stream",
     "text": [
      "\n",
      "i have a dog.\n",
      "my dog's name is Willie\n"
     ]
    }
   ],
   "source": [
    "def describe_pet(animal_type, pet_name):\n",
    "    \"\"\"Display information about a pet\"\"\"\n",
    "    print(f\"\\ni have a {animal_type}.\")\n",
    "    print(f\"my {animal_type}'s name is {pet_name.title()}\")    \n",
    "describe_pet('dog', 'willie')"
   ]
  },
  {
   "cell_type": "code",
   "execution_count": 58,
   "id": "ade9a892-0fd0-4ef1-a9bf-6d18a34b9428",
   "metadata": {},
   "outputs": [
    {
     "name": "stdout",
     "output_type": "stream",
     "text": [
      "\n",
      "i have a hamster.\n",
      "my hamster's name is Harry\n"
     ]
    }
   ],
   "source": [
    "# a keyword argument is a name-value pair that you pass to a function.\n",
    "# you directly associate the name and the value within the argument,so when you pass the argument to the function,there is no confusion.\n",
    "# keyword argument free you from having to worry about correctly odering your arguments in the function call.\n",
    "# they also clarify the role of each value in the funtion call.\n",
    "def describe_pet(animal_type, pet_name):\n",
    "    \"\"\"Display information about a pet\"\"\"\n",
    "    print(f\"\\ni have a {animal_type}.\")\n",
    "    print(f\"my {animal_type}'s name is {pet_name.title()}\")    \n",
    "describe_pet(animal_type= 'hamster', pet_name = 'harry') # the function describe_pet() didnt change.\n",
    "# when the function was called, we explicitly tell python which parameter each argument should be matched with"
   ]
  },
  {
   "cell_type": "code",
   "execution_count": 60,
   "id": "7839fa2d-df68-4884-92bd-4273cf95acf0",
   "metadata": {},
   "outputs": [
    {
     "name": "stdout",
     "output_type": "stream",
     "text": [
      "\n",
      "i have a dog.\n",
      "my dog's name is Jake\n"
     ]
    }
   ],
   "source": [
    "# when writing a function , you can define a default value for each parameter.\n",
    "# if an argument for a parameter is provided in the function call, python uses the argument value, if not it uses the parameter's default value.\n",
    "# so when you define a default value for a parameter, you can exclude the corresponding argument you'd usually write in the function call.\n",
    "# using default values can simplify your function calls and clarify the ways in which your functions are typically used.\n",
    "\n",
    "\n",
    "def describe_pet(pet_name, animal_type= 'dog'): # it contains a default value \"dog\" for animal_type\n",
    "    \"\"\"Display information about a pet\"\"\"\n",
    "    print(f\"\\ni have a {animal_type}.\")\n",
    "    print(f\"my {animal_type}'s name is {pet_name.title()}\")    \n",
    "describe_pet(pet_name = 'jake') # when the function was called, animal_type was not specified"
   ]
  },
  {
   "cell_type": "code",
   "execution_count": 64,
   "id": "f64bc625-d9b5-4fba-8683-92fb9b02fadf",
   "metadata": {},
   "outputs": [
    {
     "name": "stdout",
     "output_type": "stream",
     "text": [
      "Nnadozie Ifeanyi\n"
     ]
    }
   ],
   "source": [
    "# Return values\n",
    "# a function doesnt always have to display its output directly.\n",
    "# instead, it can process some data and then return a value or set of values.\n",
    "# the value the function returns is called a RETURN VALUE.\n",
    "# the return statement takes a value  from inside a function and sends it back to the line that called the function.\n",
    "def get_formatted_name(first_name , last_name): # the get_formatted_name() takes as parameter a first and last name\n",
    "    \"\"\"Return a full name , neatly formatted.\"\"\"\n",
    "    full_name = f\"{first_name} {last_name}\" # the function combines these two names,adds a space between them and assign the result to full_name\n",
    "    \n",
    "    return full_name.title() # the value of full_name is converted to title case and then returned to the calling line\n",
    "    \n",
    "pharmacist = get_formatted_name('nnadozie', 'ifeanyi') # a variable \"pharmacist\" was assigned because a function that returns a value was called\n",
    "print(pharmacist)"
   ]
  },
  {
   "cell_type": "code",
   "execution_count": 65,
   "id": "e888da10-cc9c-4424-a607-30fa2b195f48",
   "metadata": {},
   "outputs": [
    {
     "name": "stdout",
     "output_type": "stream",
     "text": [
      "Deborah Nora Bassey\n"
     ]
    }
   ],
   "source": [
    "# making an argument optional is very vital so that people  using the function can choose to provide extra information only if they want to.\n",
    "# a default value can be used to make an argument optional.\n",
    "def get_formatted_name(first_name , middle_name, last_name):\n",
    "    \"\"\"Return a full name , neatly formatted.\"\"\"\n",
    "    full_name = f\"{first_name} {middle_name} {last_name}\"\n",
    "    return full_name.title()\n",
    "nurse = get_formatted_name('deborah', 'nora', 'bassey')\n",
    "print(nurse)\n",
    "# to make the middle name optional, we can give the middle name argument an empty default value and ignore the argument unless the user provides a value."
   ]
  },
  {
   "cell_type": "code",
   "execution_count": 84,
   "id": "391f6069-cb6e-4532-b0fe-14846b6bb081",
   "metadata": {},
   "outputs": [
    {
     "name": "stdout",
     "output_type": "stream",
     "text": [
      "Godwin Dozie Bassey\n"
     ]
    }
   ],
   "source": [
    "# to make the middle name optional, we can give the middle name argument an empty default value and ignore the argument unless the user provides a value\n",
    "def get_formatted_name(first_name , last_name, middle_name=\"\"):\n",
    "    \"\"\"Return a full name , neatly formatted.\"\"\"   \n",
    "    if middle_name:\n",
    "        full_name = f\"{first_name} {middle_name} {last_name}\"\n",
    "    else:\n",
    "        full_name = f\"{first_name} {last_name}\"\n",
    "    return full_name.title()\n",
    "doctor = get_formatted_name('godwin', 'bassey', 'dozie')\n",
    "print(doctor)"
   ]
  },
  {
   "cell_type": "code",
   "execution_count": 85,
   "id": "316d6bb7-078f-4d1c-aa20-f8bfcfb49520",
   "metadata": {},
   "outputs": [
    {
     "name": "stdout",
     "output_type": "stream",
     "text": [
      "Godwin Bassey\n"
     ]
    }
   ],
   "source": [
    "# to make the middle name optional, we can give the middle name argument an empty default value and ignore the argument unless the user provides a value\n",
    "def get_formatted_name(first_name , last_name, middle_name=\"\"):\n",
    "    \"\"\"Return a full name , neatly formatted.\"\"\"   \n",
    "    if middle_name:\n",
    "        full_name = f\"{first_name} {middle_name} {last_name}\"\n",
    "    else:\n",
    "        full_name = f\"{first_name} {last_name}\"\n",
    "    return full_name.title()\n",
    "doctor = get_formatted_name('godwin', 'bassey')\n",
    "print(doctor)"
   ]
  },
  {
   "cell_type": "code",
   "execution_count": 87,
   "id": "7a7591cf-1516-4c2a-abdb-47bf9ac9434a",
   "metadata": {},
   "outputs": [
    {
     "name": "stdout",
     "output_type": "stream",
     "text": [
      "{'first': 'precious', 'last': 'ozua'}\n"
     ]
    }
   ],
   "source": [
    "# a function can return any kind of value you need it to, including more complicated data structures like list an dictionaries.\n",
    "def building_person(first_name, last_name):\n",
    "    \"\"\"Return a dictionary of information about a person\"\"\"\n",
    "    person = {'first': first_name, 'last':last_name} # the function building_person takes in a first and last name and puts this value into a dictionary\n",
    "                # the value of first_name is stored with the key 'first', and the value of the last_name is stored with the key 'last'.\n",
    "    return person  # the entire dictionary representing the person is returned here\n",
    "teacher = building_person('precious', 'ozua')\n",
    "print(teacher) # the returned value is printed here"
   ]
  },
  {
   "cell_type": "code",
   "execution_count": 88,
   "id": "009fa0a5-5f12-4ce9-8a97-1eb31826dbae",
   "metadata": {},
   "outputs": [
    {
     "name": "stdout",
     "output_type": "stream",
     "text": [
      "{'first': 'nancy', 'last': 'ozua', 'age': 45}\n"
     ]
    }
   ],
   "source": [
    "# i can easily extend this function to accept optional values like middle name, age, an occupation, or any other information about the person.\n",
    "def building_person(first_name, last_name, age=None): # an optional parameter \"age\" was added to the function definition and was assigned None.\n",
    "                                    # None is used when a variable has no specific value assigned to it. it is a placeholder value\n",
    "    \"\"\"Return a dictionary of information about a person\"\"\"\n",
    "    person = {'first': first_name, 'last':last_name}\n",
    "    if age:\n",
    "        person['age']= age\n",
    "        return person\n",
    "teacher = building_person('nancy', 'ozua', age=45)\n",
    "print(teacher)"
   ]
  },
  {
   "cell_type": "code",
   "execution_count": 100,
   "id": "0e8d7d01-e235-457c-9638-25aa69150033",
   "metadata": {},
   "outputs": [
    {
     "name": "stdout",
     "output_type": "stream",
     "text": [
      "\n",
      "hello, Nnadozie Agwulonu! \n"
     ]
    }
   ],
   "source": [
    "# you can also use a function with a while loop\n",
    "def get_formatted_name(first_name , last_name):\n",
    "    \"\"\"Return a full name , neatly formatted.\"\"\"\n",
    "    full_name = f\"{first_name} {last_name}\"\n",
    "    return full_name.title()\n",
    "    while True:\n",
    "        print(\"\\nplease tell me your name:  \")\n",
    "        f_name = input(\"first name: \")\n",
    "        l_name = input(\"last name:  \")\n",
    "formatted_name = get_formatted_name(first_name, last_name)\n",
    "print(f\"\\nhello, {formatted_name}! \")\n",
    "        "
   ]
  },
  {
   "cell_type": "code",
   "execution_count": 107,
   "id": "c38f6739-8752-445f-a110-b6485db3d7c8",
   "metadata": {},
   "outputs": [],
   "source": [
    "# the one problem with the while loop : defining a quit condition, where do we put the quit condition when a series of input is asked ?\n",
    "# the break statement offers a straight forward way to exit the loop at either prompt.\n",
    "def get_ancestor_name(first_name , last_name):\n",
    "    \"\"\"Return a full name , neatly formatted.\"\"\"\n",
    "    full_name = f\"{first_name} {last_name}\"\n",
    "    return full_name.title()\n",
    "    while True:\n",
    "        print(\"\\nplease tell me your name:  \")\n",
    "        print(\"(enter 'q' at any time to quit)\")\n",
    "        f_name = input(\"first name: \")\n",
    "        if f_name == 'q':\n",
    "            break\n",
    "        l_name = input(\"last name:  \")\n",
    "        if l_name == 'q':\n",
    "            break\n",
    "    ancestor_name = get_ancestor_name(first_name, last_name)\n",
    "    print(f\"\\nhello, {ancestor_name}! \")\n",
    "        "
   ]
  },
  {
   "cell_type": "code",
   "execution_count": null,
   "id": "3082e823-c0c5-4259-bb5e-b64da23798ee",
   "metadata": {},
   "outputs": [],
   "source": []
  }
 ],
 "metadata": {
  "kernelspec": {
   "display_name": "Python 3 (ipykernel)",
   "language": "python",
   "name": "python3"
  },
  "language_info": {
   "codemirror_mode": {
    "name": "ipython",
    "version": 3
   },
   "file_extension": ".py",
   "mimetype": "text/x-python",
   "name": "python",
   "nbconvert_exporter": "python",
   "pygments_lexer": "ipython3",
   "version": "3.13.0"
  }
 },
 "nbformat": 4,
 "nbformat_minor": 5
}
