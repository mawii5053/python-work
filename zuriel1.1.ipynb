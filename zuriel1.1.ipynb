{
 "cells": [
  {
   "cell_type": "code",
   "execution_count": null,
   "id": "9d9cc4a5-7739-4500-99a9-562cf3e84d00",
   "metadata": {},
   "outputs": [],
   "source": []
  },
  {
   "cell_type": "code",
   "execution_count": 4,
   "id": "d3284a0e-50bc-406e-ac91-77e84f860b67",
   "metadata": {},
   "outputs": [
    {
     "name": "stdout",
     "output_type": "stream",
     "text": [
      "1\n",
      "3\n",
      "5\n",
      "7\n",
      "9\n"
     ]
    }
   ],
   "source": [
    "# the for loop takes a collection of items and executes a block of code once for each item in the collection.\n",
    "# the while loop runs as long as , or while , a certain condition remains true.\n",
    "# you can use the while loop to count series of numbers.\n",
    "initial_number = 1 \n",
    "while initial_number <= 10: \n",
    "    print(initial_number) \n",
    "    initial_number += 2\n",
    "    "
   ]
  },
  {
   "cell_type": "code",
   "execution_count": 2,
   "id": "f6a34922-fe44-40d3-a3c6-da40999b7205",
   "metadata": {},
   "outputs": [
    {
     "name": "stdin",
     "output_type": "stream",
     "text": [
      "\n",
      "tell me something, and i will repeat it back to you:\n",
      "enter 'quit' to end the program.  dozie\n",
      "\n",
      "tell me something, and i will repeat it back to you:\n",
      "enter 'quit' to end the program.  ugonna\n",
      "\n",
      "tell me something, and i will repeat it back to you:\n",
      "enter 'quit' to end the program.  quit\n"
     ]
    },
    {
     "name": "stdout",
     "output_type": "stream",
     "text": [
      "quit\n"
     ]
    }
   ],
   "source": [
    "prompt = \"\\ntell me something, and i will repeat it back to you:\"\n",
    "prompt += \"\\nenter 'quit' to end the program. \"\n",
    "message = \"\"\n",
    "while message != 'quit':\n",
    "    message = input(prompt)\n",
    "print(message)"
   ]
  },
  {
   "cell_type": "code",
   "execution_count": 3,
   "id": "9e386751-13b8-4c43-bf0d-d1b5a5445e52",
   "metadata": {},
   "outputs": [
    {
     "name": "stdin",
     "output_type": "stream",
     "text": [
      "\n",
      "Please enter the name of the pharmacy you have visited: \n",
      "(Enter quit when you are finished.)  roziel\n"
     ]
    },
    {
     "name": "stdout",
     "output_type": "stream",
     "text": [
      "I have to visit the facility of Roziel \n"
     ]
    },
    {
     "name": "stdin",
     "output_type": "stream",
     "text": [
      "\n",
      "Please enter the name of the pharmacy you have visited: \n",
      "(Enter quit when you are finished.)  curascare\n"
     ]
    },
    {
     "name": "stdout",
     "output_type": "stream",
     "text": [
      "I have to visit the facility of Curascare \n"
     ]
    },
    {
     "name": "stdin",
     "output_type": "stream",
     "text": [
      "\n",
      "Please enter the name of the pharmacy you have visited: \n",
      "(Enter quit when you are finished.)  quit\n"
     ]
    }
   ],
   "source": [
    "# to exit a \"while loop\" immediately without running any remaining code in the loop,use the \"break statement\"\n",
    "# the break statement can be used to control which lines of code are executed and which aren't, so the program only excute code that you wish.\n",
    "prompt = \"\\nPlease enter the name of the pharmacy you have visited: \"\n",
    "prompt += \"\\n(Enter quit when you are finished.) \"\n",
    "while True:\n",
    "    pharmacy = input(prompt)\n",
    "    if pharmacy == \"quit\":\n",
    "        break\n",
    "    else:\n",
    "        print(f\"I have to visit the facility of {pharmacy.title()} \")\n",
    "# you can use the break statement in any python loops"
   ]
  },
  {
   "cell_type": "code",
   "execution_count": 12,
   "id": "0fe44549-ef57-4878-8952-d53c69475c27",
   "metadata": {},
   "outputs": [
    {
     "name": "stdout",
     "output_type": "stream",
     "text": [
      "1\n",
      "3\n",
      "5\n",
      "7\n",
      "9\n"
     ]
    }
   ],
   "source": [
    "# instead of breaking out of a loop entirely without executing the rest of its code, i can use the \"continue statement\"\n",
    "# the continue statement return to the beginning of the loop based on the result of a conditional test.\n",
    "initial_number = 0  # initial number is less than 10\n",
    "while initial_number < 10:\n",
    "    initial_number += 1 # we increment by 1\n",
    "    if initial_number % 2 == 0: # the if statement checks the modulo of initial number and 2\n",
    "        continue # the continue statement tells python to ignore the rest of the loop and return to the beginning\n",
    "    print(initial_number) # if the initial number is not divisible by 2, the rest of the loop is executed and the initial number is printed."
   ]
  },
  {
   "cell_type": "code",
   "execution_count": 13,
   "id": "c35308cc-7240-4765-b26b-b9a669596e32",
   "metadata": {},
   "outputs": [
    {
     "name": "stdout",
     "output_type": "stream",
     "text": [
      "1\n",
      "2\n",
      "3\n",
      "4\n",
      "5\n",
      "6\n",
      "7\n",
      "8\n",
      "9\n",
      "10\n"
     ]
    }
   ],
   "source": [
    "# every while loop needs a way to stop running so it wont continue to run forever\n",
    "x = 1\n",
    "while x <= 10:\n",
    "    print(x)\n",
    "    x += 1"
   ]
  },
  {
   "cell_type": "code",
   "execution_count": 28,
   "id": "0555671e-c286-4fb4-82e2-205bceb72bfb",
   "metadata": {},
   "outputs": [
    {
     "name": "stdout",
     "output_type": "stream",
     "text": [
      "verifying user: Jacob\n",
      "verifying user: Nosa\n",
      "verifying user: Dozie\n",
      "verifying user: Brain\n",
      "verifying user: Rose\n",
      "\n",
      "the following users have been confirmed:\n",
      "Jacob\n",
      "Nosa\n",
      "Dozie\n",
      "Brain\n",
      "Rose\n"
     ]
    }
   ],
   "source": [
    "# using \"while loop\" with lists and dictionaries allows you to collect, store, and organize lots of input to examine and report on later\n",
    "# e.g looking at a new list of newly registered but unverified users of a website\n",
    "    # start with users that need  to be verified,\n",
    "    # and an empty list to hold confirmed users.\n",
    "unconfirmed_users = ['rose' , 'brain' , 'dozie' , 'nosa' , 'jacob' ]\n",
    "confirmed_users = []\n",
    "    # verify each user untill there are no more unconfirmed user.\n",
    "    # move each verified user into the list of confirmed users.\n",
    "while unconfirmed_users:\n",
    "    current_user = unconfirmed_users.pop()\n",
    "    print(f\"verifying user: {current_user.title()}\")\n",
    "    confirmed_users.append(current_user)\n",
    " # display all confirmed users.\n",
    "print(f\"\\nthe following users have been confirmed:\")\n",
    "for confirmed_user in confirmed_users:\n",
    "    print(confirmed_user.title())\n",
    "    "
   ]
  },
  {
   "cell_type": "code",
   "execution_count": 31,
   "id": "bba51562-787c-4d2a-9d14-59fd2c57f432",
   "metadata": {},
   "outputs": [
    {
     "name": "stdout",
     "output_type": "stream",
     "text": [
      "['rice', 'beans', 'garri', 'fufu', 'veg', 'bread', 'beans']\n",
      "['rice', 'garri', 'fufu', 'veg', 'bread']\n"
     ]
    }
   ],
   "source": [
    "# removing all instances of specific values from a list, you can run a  while loop until the specific value is no longer in the list.\n",
    "foods = ['rice' , 'beans' , 'garri', 'fufu' , 'veg' , 'bread', 'beans']\n",
    "print(foods)\n",
    "\n",
    "while 'beans' in foods:\n",
    "    foods.remove('beans')\n",
    "print(foods)"
   ]
  },
  {
   "cell_type": "code",
   "execution_count": 37,
   "id": "85672898-4bdf-4bd6-bf6a-c4037e81ffa6",
   "metadata": {},
   "outputs": [
    {
     "name": "stdout",
     "output_type": "stream",
     "text": [
      "hello!\n"
     ]
    }
   ],
   "source": [
    "# defining a function\n",
    "def greet_user(): # this informs python that a function is defined, it ends in a colon.\n",
    "    \"\"\"display a simple greetings.\"\"\" # this is a docstrings which describe what the defined function should do, they are enclosed in triple quotes.\n",
    "\n",
    "print(\"hello!\")  # this is the only actual code in the body of this function, greet_user() has just one job: print(\"hello!\")  \n",
    "greet_user()"
   ]
  },
  {
   "cell_type": "code",
   "execution_count": 43,
   "id": "61b7a619-4103-4d82-9f96-6d2e8f86e558",
   "metadata": {},
   "outputs": [
    {
     "name": "stdout",
     "output_type": "stream",
     "text": [
      "hello, Nnadozie!\n"
     ]
    }
   ],
   "source": [
    "def greet_user(username): # great_user is a function which has a variable (username).\n",
    "    \"\"\"display a simple greeting.\"\"\" # the variable(username) in the definition of greet_user() is an example of a PARAMETER which is a piece of info the function needs to do its job.\n",
    "    print(f\"hello, {username.title()}!\")  \n",
    "greet_user(\"nnadozie\") # the value 'nnadozie' in greet_user('nnadozie') is an example of an argument.\n",
    "# an argument is a piece of information that's passed from a function call to a function"
   ]
  },
  {
   "cell_type": "code",
   "execution_count": 48,
   "id": "3a661bf7-e30c-4295-a126-5873ff85ef63",
   "metadata": {},
   "outputs": [
    {
     "name": "stdout",
     "output_type": "stream",
     "text": [
      "i am learning about funtions\n"
     ]
    }
   ],
   "source": [
    "def display_message():\n",
    "    \"\"\"telling everyone what you are learning about this chapter\"\"\"\n",
    "    print(\"i am learning about funtions\")\n",
    "display_message()    "
   ]
  },
  {
   "cell_type": "code",
   "execution_count": 49,
   "id": "1ab1c699-695d-4c91-b0f6-85a832791988",
   "metadata": {},
   "outputs": [
    {
     "name": "stdout",
     "output_type": "stream",
     "text": [
      "one of my favorite book is Alice In Wonder Land\n"
     ]
    }
   ],
   "source": [
    "def favorite_book(title):\n",
    "    print(f\"one of my favorite book is {title.title()}\")\n",
    "favorite_book('alice in wonder land')"
   ]
  },
  {
   "cell_type": "code",
   "execution_count": 56,
   "id": "2d5db593-5cf4-4247-b65c-0105aad6de92",
   "metadata": {},
   "outputs": [
    {
     "name": "stdout",
     "output_type": "stream",
     "text": [
      "\n",
      "i have a hamster.\n",
      "my hamster's name is Harry\n"
     ]
    }
   ],
   "source": [
    "# a function definition can have multiple parameters, a function call may need multiple arguments.\n",
    "# arguments can be passed to a functions in a number of ways such as the POSITIONAL and KEYWORD.\n",
    "# the POSITIONAL ARGUMENTS needs to be in the same order the parameters were written.\n",
    "# this is an example of a positional argument\n",
    "def describe_pet(animal_type, pet_name):\n",
    "    \"\"\"Display information about a pet\"\"\"\n",
    "    print(f\"\\ni have a {animal_type}.\")\n",
    "    print(f\"my {animal_type}'s name is {pet_name.title()}\")    \n",
    "describe_pet('hamster', 'harry')"
   ]
  },
  {
   "cell_type": "code",
   "execution_count": 57,
   "id": "70cfb776-5e62-4b2a-9cb6-816508ccff1b",
   "metadata": {},
   "outputs": [
    {
     "name": "stdout",
     "output_type": "stream",
     "text": [
      "\n",
      "i have a dog.\n",
      "my dog's name is Willie\n"
     ]
    }
   ],
   "source": [
    "def describe_pet(animal_type, pet_name):\n",
    "    \"\"\"Display information about a pet\"\"\"\n",
    "    print(f\"\\ni have a {animal_type}.\")\n",
    "    print(f\"my {animal_type}'s name is {pet_name.title()}\")    \n",
    "describe_pet('dog', 'willie')"
   ]
  },
  {
   "cell_type": "code",
   "execution_count": 58,
   "id": "ade9a892-0fd0-4ef1-a9bf-6d18a34b9428",
   "metadata": {},
   "outputs": [
    {
     "name": "stdout",
     "output_type": "stream",
     "text": [
      "\n",
      "i have a hamster.\n",
      "my hamster's name is Harry\n"
     ]
    }
   ],
   "source": [
    "# a keyword argument is a name-value pair that you pass to a function.\n",
    "# you directly associate the name and the value within the argument,so when you pass the argument to the function,there is no confusion.\n",
    "# keyword argument free you from having to worry about correctly odering your arguments in the function call.\n",
    "# they also clarify the role of each value in the funtion call.\n",
    "def describe_pet(animal_type, pet_name):\n",
    "    \"\"\"Display information about a pet\"\"\"\n",
    "    print(f\"\\ni have a {animal_type}.\")\n",
    "    print(f\"my {animal_type}'s name is {pet_name.title()}\")    \n",
    "describe_pet(animal_type= 'hamster', pet_name = 'harry') # the function describe_pet() didnt change.\n",
    "# when the function was called, we explicitly tell python which parameter each argument should be matched with"
   ]
  },
  {
   "cell_type": "code",
   "execution_count": 60,
   "id": "7839fa2d-df68-4884-92bd-4273cf95acf0",
   "metadata": {},
   "outputs": [
    {
     "name": "stdout",
     "output_type": "stream",
     "text": [
      "\n",
      "i have a dog.\n",
      "my dog's name is Jake\n"
     ]
    }
   ],
   "source": [
    "# when writing a function , you can define a default value for each parameter.\n",
    "# if an argument for a parameter is provided in the function call, python uses the argument value, if not it uses the parameter's default value.\n",
    "# so when you define a default value for a parameter, you can exclude the corresponding argument you'd usually write in the function call.\n",
    "# using default values can simplify your function calls and clarify the ways in which your functions are typically used.\n",
    "\n",
    "\n",
    "def describe_pet(pet_name, animal_type= 'dog'): # it contains a default value \"dog\" for animal_type\n",
    "    \"\"\"Display information about a pet\"\"\"\n",
    "    print(f\"\\ni have a {animal_type}.\")\n",
    "    print(f\"my {animal_type}'s name is {pet_name.title()}\")    \n",
    "describe_pet(pet_name = 'jake') # when the function was called, animal_type was not specified"
   ]
  },
  {
   "cell_type": "code",
   "execution_count": 64,
   "id": "f64bc625-d9b5-4fba-8683-92fb9b02fadf",
   "metadata": {},
   "outputs": [
    {
     "name": "stdout",
     "output_type": "stream",
     "text": [
      "Nnadozie Ifeanyi\n"
     ]
    }
   ],
   "source": [
    "# Return values\n",
    "# a function doesnt always have to display its output directly.\n",
    "# instead, it can process some data and then return a value or set of values.\n",
    "# the value the function returns is called a RETURN VALUE.\n",
    "# the return statement takes a value  from inside a function and sends it back to the line that called the function.\n",
    "def get_formatted_name(first_name , last_name): # the get_formatted_name() takes as parameter a first and last name\n",
    "    \"\"\"Return a full name , neatly formatted.\"\"\"\n",
    "    full_name = f\"{first_name} {last_name}\" # the function combines these two names,adds a space between them and assign the result to full_name\n",
    "    \n",
    "    return full_name.title() # the value of full_name is converted to title case and then returned to the calling line\n",
    "    \n",
    "pharmacist = get_formatted_name('nnadozie', 'ifeanyi') # a variable \"pharmacist\" was assigned because a function that returns a value was called\n",
    "print(pharmacist)"
   ]
  },
  {
   "cell_type": "code",
   "execution_count": 65,
   "id": "e888da10-cc9c-4424-a607-30fa2b195f48",
   "metadata": {},
   "outputs": [
    {
     "name": "stdout",
     "output_type": "stream",
     "text": [
      "Deborah Nora Bassey\n"
     ]
    }
   ],
   "source": [
    "# making an argument optional is very vital so that people  using the function can choose to provide extra information only if they want to.\n",
    "# a default value can be used to make an argument optional.\n",
    "def get_formatted_name(first_name , middle_name, last_name):\n",
    "    \"\"\"Return a full name , neatly formatted.\"\"\"\n",
    "    full_name = f\"{first_name} {middle_name} {last_name}\"\n",
    "    return full_name.title()\n",
    "nurse = get_formatted_name('deborah', 'nora', 'bassey')\n",
    "print(nurse)\n",
    "# to make the middle name optional, we can give the middle name argument an empty default value and ignore the argument unless the user provides a value."
   ]
  },
  {
   "cell_type": "code",
   "execution_count": 84,
   "id": "391f6069-cb6e-4532-b0fe-14846b6bb081",
   "metadata": {},
   "outputs": [
    {
     "name": "stdout",
     "output_type": "stream",
     "text": [
      "Godwin Dozie Bassey\n"
     ]
    }
   ],
   "source": [
    "# to make the middle name optional, we can give the middle name argument an empty default value and ignore the argument unless the user provides a value\n",
    "def get_formatted_name(first_name , last_name, middle_name=\"\"):\n",
    "    \"\"\"Return a full name , neatly formatted.\"\"\"   \n",
    "    if middle_name:\n",
    "        full_name = f\"{first_name} {middle_name} {last_name}\"\n",
    "    else:\n",
    "        full_name = f\"{first_name} {last_name}\"\n",
    "    return full_name.title()\n",
    "doctor = get_formatted_name('godwin', 'bassey', 'dozie')\n",
    "print(doctor)"
   ]
  },
  {
   "cell_type": "code",
   "execution_count": 85,
   "id": "316d6bb7-078f-4d1c-aa20-f8bfcfb49520",
   "metadata": {},
   "outputs": [
    {
     "name": "stdout",
     "output_type": "stream",
     "text": [
      "Godwin Bassey\n"
     ]
    }
   ],
   "source": [
    "# to make the middle name optional, we can give the middle name argument an empty default value and ignore the argument unless the user provides a value\n",
    "def get_formatted_name(first_name , last_name, middle_name=\"\"):\n",
    "    \"\"\"Return a full name , neatly formatted.\"\"\"   \n",
    "    if middle_name:\n",
    "        full_name = f\"{first_name} {middle_name} {last_name}\"\n",
    "    else:\n",
    "        full_name = f\"{first_name} {last_name}\"\n",
    "    return full_name.title()\n",
    "doctor = get_formatted_name('godwin', 'bassey')\n",
    "print(doctor)"
   ]
  },
  {
   "cell_type": "code",
   "execution_count": 87,
   "id": "7a7591cf-1516-4c2a-abdb-47bf9ac9434a",
   "metadata": {},
   "outputs": [
    {
     "name": "stdout",
     "output_type": "stream",
     "text": [
      "{'first': 'precious', 'last': 'ozua'}\n"
     ]
    }
   ],
   "source": [
    "# a function can return any kind of value you need it to, including more complicated data structures like list an dictionaries.\n",
    "def building_person(first_name, last_name):\n",
    "    \"\"\"Return a dictionary of information about a person\"\"\"\n",
    "    person = {'first': first_name, 'last':last_name} # the function building_person takes in a first and last name and puts this value into a dictionary\n",
    "                # the value of first_name is stored with the key 'first', and the value of the last_name is stored with the key 'last'.\n",
    "    return person  # the entire dictionary representing the person is returned here\n",
    "teacher = building_person('precious', 'ozua')\n",
    "print(teacher) # the returned value is printed here"
   ]
  },
  {
   "cell_type": "code",
   "execution_count": 88,
   "id": "009fa0a5-5f12-4ce9-8a97-1eb31826dbae",
   "metadata": {},
   "outputs": [
    {
     "name": "stdout",
     "output_type": "stream",
     "text": [
      "{'first': 'nancy', 'last': 'ozua', 'age': 45}\n"
     ]
    }
   ],
   "source": [
    "# i can easily extend this function to accept optional values like middle name, age, an occupation, or any other information about the person.\n",
    "def building_person(first_name, last_name, age=None): # an optional parameter \"age\" was added to the function definition and was assigned None.\n",
    "                                    # None is used when a variable has no specific value assigned to it. it is a placeholder value\n",
    "    \"\"\"Return a dictionary of information about a person\"\"\"\n",
    "    person = {'first': first_name, 'last':last_name}\n",
    "    if age:\n",
    "        person['age']= age\n",
    "        return person\n",
    "teacher = building_person('nancy', 'ozua', age=45)\n",
    "print(teacher)"
   ]
  },
  {
   "cell_type": "code",
   "execution_count": 110,
   "id": "0e8d7d01-e235-457c-9638-25aa69150033",
   "metadata": {},
   "outputs": [
    {
     "name": "stdout",
     "output_type": "stream",
     "text": [
      "\n",
      "hello, Nnadozie Agwulonu! \n"
     ]
    }
   ],
   "source": [
    "# you can also use a function with a while loop\n",
    "def get_formatted_name(first_name , last_name):\n",
    "    \"\"\"Return a full name , neatly formatted.\"\"\"\n",
    "    full_name = f\"{first_name} {last_name}\"\n",
    "    return full_name.title()\n",
    "    while True:\n",
    "        print(\"\\nplease tell me your name:  \")\n",
    "        f_name = input(\"first name: \")\n",
    "        l_name = input(\"last name:  \")\n",
    "formatted_name = get_formatted_name(first_name, last_name)\n",
    "print(f\"\\nhello, {formatted_name}! \")\n",
    "        "
   ]
  },
  {
   "cell_type": "code",
   "execution_count": 109,
   "id": "c38f6739-8752-445f-a110-b6485db3d7c8",
   "metadata": {},
   "outputs": [
    {
     "name": "stdout",
     "output_type": "stream",
     "text": [
      "\n",
      "hello, Nnadozie Agwulonu! \n"
     ]
    }
   ],
   "source": [
    "# the one problem with the while loop : defining a quit condition, where do we put the quit condition when a series of input is asked ?\n",
    "# the break statement offers a straight forward way to exit the loop at either prompt.\n",
    "def get_ancestor_name(first_name , last_name):\n",
    "    \"\"\"Return a full name , neatly formatted.\"\"\"\n",
    "    full_name = f\"{first_name} {last_name}\"\n",
    "    return full_name.title()\n",
    "    while True:\n",
    "        print(\"\\nplease tell me your name:  \")\n",
    "        print(\"(enter 'q' at any time to quit)\")\n",
    "        f_name = input(\"first name: \")\n",
    "        if f_name == 'q':\n",
    "            break\n",
    "        l_name = input(\"last name:  \")\n",
    "        if l_name == 'q':\n",
    "            break\n",
    "ancestor_name = get_ancestor_name(first_name, last_name)\n",
    "print(f\"\\nhello, {ancestor_name}! \")\n",
    "        "
   ]
  },
  {
   "cell_type": "code",
   "execution_count": 111,
   "id": "3082e823-c0c5-4259-bb5e-b64da23798ee",
   "metadata": {},
   "outputs": [
    {
     "name": "stdout",
     "output_type": "stream",
     "text": [
      "{'first': 'santiago', 'last': 'chile'}\n"
     ]
    }
   ],
   "source": [
    "def city_function(city_name, country_name):\n",
    "    \"\"\"Return a dictionary of information about a continent\"\"\"\n",
    "    continent = {'first': city_name, 'last':country_name} # the function building_person takes in a first and last name and puts this value into a dictionary\n",
    "                # the value of first_name is stored with the key 'first', and the value of the last_name is stored with the key 'last'.\n",
    "    return continent  # the entire dictionary representing the person is returned here\n",
    "teacher = city_function('santiago', 'chile')\n",
    "print(teacher) # the returned value is printed here"
   ]
  },
  {
   "cell_type": "code",
   "execution_count": 123,
   "id": "7f4392c9-2df3-4a0a-9802-b063c0d7a549",
   "metadata": {},
   "outputs": [
    {
     "name": "stdout",
     "output_type": "stream",
     "text": [
      "Hello , Dozie\n",
      "Hello , Ifeanyi\n",
      "Hello , Agwulonu\n"
     ]
    }
   ],
   "source": [
    "# to pass a list to a function is very useful, it could be a list of names, numbers, or  more complex objects such as dictionaries.\n",
    "# when you pass a list to a function, the function gets direct access to the content of the list\n",
    "def greet_user(names):\n",
    "    \"\"\"print a simple greeting to each user in the list\"\"\"\n",
    "    for name in names:\n",
    "        message = f\"Hello , {name.title()}\"\n",
    "        print(message)\n",
    "usernames = ['dozie', 'ifeanyi', 'agwulonu'] # we defined a list of users and then pass the list usernames to greet_user\n",
    "greet_user(usernames)"
   ]
  },
  {
   "cell_type": "code",
   "execution_count": 137,
   "id": "217e2121-42d5-4391-92f4-aa63a6795ae5",
   "metadata": {},
   "outputs": [
    {
     "name": "stdout",
     "output_type": "stream",
     "text": [
      "printing model: dodecahedron\n",
      "printing model: robot pendant\n",
      "printing model: phone case\n",
      "\n",
      "the following models have been printed:\n",
      "dodecahedron\n",
      "robot pendant\n",
      "phone case\n"
     ]
    }
   ],
   "source": [
    "# when you pass a list to a function , the function can modify the list.\n",
    "# any changes made to the list inside the function's body are permanent, allowing you to work efficiently even with large amount of data.\n",
    "      # lets consider a company that creates a 3D print models of design that users submit.\n",
    "\n",
    "\"\"\"start with some design that need to be printed\"\"\"\n",
    "unprinted_designs = ['phone case', 'robot pendant', 'dodecahedron']\n",
    "completed_models = []\n",
    "\"\"\"    simulate printing each design, until none are left    \"\"\"\n",
    "\"\"\"    move each design to completed_models after printing   \"\"\"\n",
    "while unprinted_designs:\n",
    "    current_design = unprinted_designs.pop()\n",
    "    print(f\"printing model: {current_design}\")\n",
    "    completed_models.append(current_design)\n",
    "\"\"\"     display all completed models    \"\"\"\n",
    "print(\"\\nthe following models have been printed:\")\n",
    "for completed_model in completed_models:\n",
    "    print(completed_model)"
   ]
  },
  {
   "cell_type": "code",
   "execution_count": 187,
   "id": "a8f91dc4-c7a8-4347-b42a-dcf622073f0b",
   "metadata": {},
   "outputs": [],
   "source": [
    "# similarly, this code can be written like this\n",
    "\n",
    "          \n",
    "    \n",
    "        \n",
    "        "
   ]
  },
  {
   "cell_type": "code",
   "execution_count": 189,
   "id": "20dec506-c361-4880-b60a-7bc1010db810",
   "metadata": {},
   "outputs": [
    {
     "name": "stdout",
     "output_type": "stream",
     "text": [
      "Printing model: dodecahedron\n",
      "Printing model: robot pendant\n",
      "Printing model: phone case\n",
      "\n",
      "The following models have been printed:\n",
      "dodecahedron\n",
      "robot pendant\n",
      "phone case\n"
     ]
    }
   ],
   "source": [
    "# similarly, this code can be written like this\n",
    "\n",
    "def print_models(unprinted_designs, completed_designs): # we define the function print_models() with two parameters(unprinted and completed designs)\n",
    "    \"\"\"Simulate printing each design and move to completed_models.\"\"\"\n",
    "    while unprinted_designs:\n",
    "        current_design = unprinted_designs.pop()\n",
    "        print(f\"Printing model: {current_design}\")\n",
    "        completed_designs.append(current_design)\n",
    "\n",
    "def show_completed_models(completed_designs): # we define the function show_completed_design() with one parameter (completed models)\n",
    "    \"\"\"Show all models that were printed.\"\"\"\n",
    "    print(\"\\nThe following models have been printed:\")\n",
    "    for completed_model in completed_designs:\n",
    "        print(completed_model)\n",
    "\n",
    "# Define lists\n",
    "unprinted_designs = ['phone case', 'robot pendant', 'dodecahedron']\n",
    "completed_models = []\n",
    "\n",
    "# Call functions\n",
    "print_models(unprinted_designs, completed_models)\n",
    "show_completed_models(completed_models)\n"
   ]
  },
  {
   "cell_type": "code",
   "execution_count": 192,
   "id": "ae446624-95ae-493b-8000-752b03936d55",
   "metadata": {},
   "outputs": [
    {
     "name": "stdout",
     "output_type": "stream",
     "text": [
      "\n",
      "making a 16-inch pizza with the following toppings:\n",
      "-pepperoni\n",
      "\n",
      "making a 12-inch pizza with the following toppings:\n",
      "-mushroom\n",
      "-green pepper\n",
      "-carrot\n"
     ]
    }
   ],
   "source": [
    "# if you want a function to accept several different kinds of arguments, \n",
    "# the parameter that accepts a arbitrary number of arguments must be placed last in the function definition.\n",
    "# python matches positional and keyword arguments first and then collects any remaining arguments in the final parameter.\n",
    "def make_pizza(size, *toppings): # for example, if the function needs to take in a size for the pizza,that parameter must come before *toppings\n",
    "    \"\"\"Summarize the pizza we are about to make.\"\"\"\n",
    "    print(f\"\\nmaking a {size}-inch pizza with the following toppings:\")\n",
    "    for topping in toppings:\n",
    "        print(f\"-{topping}\")\n",
    "make_pizza(16, 'pepperoni')\n",
    "make_pizza(12, 'mushroom', 'green pepper', 'carrot')"
   ]
  },
  {
   "cell_type": "code",
   "execution_count": 196,
   "id": "6f37f30b-b705-43bd-8596-a7e8464164a8",
   "metadata": {},
   "outputs": [
    {
     "name": "stdout",
     "output_type": "stream",
     "text": [
      "{'location': 'ozuoba', 'field': 'pharmacy', 'first_name': 'nnadozie', 'last_name': 'agwulonu'}\n"
     ]
    }
   ],
   "source": [
    "# using arbitrary keyword argument\n",
    "# sometimes you'll want to accept an arbitrary number of arguments,but you wont't know ahead of time what kind of information will be passed to the function.\n",
    "# in this case, you can write functions that accept as many key-value pairs as the calling statement provides.\n",
    "def build_profile(first, last, **user_info):\n",
    "    \"\"\"build adictionary containing everything we know about a user.\"\"\"\n",
    "    user_info['first_name'] = first\n",
    "    user_info['last_name'] = last\n",
    "    return user_info\n",
    "user_profile = build_profile('nnadozie', 'agwulonu', location = 'ozuoba', field = 'pharmacy')\n",
    "print(user_profile)"
   ]
  },
  {
   "cell_type": "code",
   "execution_count": 200,
   "id": "34ef2450-7b13-4258-b1c8-19daeda2fc74",
   "metadata": {},
   "outputs": [
    {
     "name": "stdout",
     "output_type": "stream",
     "text": [
      "\n",
      "making a 16 -inch pizza with the following toppings:\n",
      "-crayfish\n",
      "\n",
      "making a 12 -inch pizza with the following toppings:\n",
      "-mushrooms\n",
      "-green peppers\n",
      "-extra cheese\n"
     ]
    }
   ],
   "source": [
    "\"\"\"storing functions in modules\"\"\"\n",
    "\n",
    "# one advantage of functions is the way they separate blocks of code from your main program.\n",
    "\"\"\"by using descriptive names for your functions, your main program will be much easier to follow\"\"\"\n",
    "\n",
    "# storing your function in a seperate file called a module and then importing that module into your main program.\n",
    "\"\"\"an import statement tells python to make the code in a module available in the currently running program file\"\"\"\n",
    "\n",
    "# storing your functions in a different file allows you to hide the details of your program's code and focus on its higher level logic.\n",
    "\"\"\"it aalso allows  you to reuse functions in many different programs\"\"\"\n",
    "\n",
    "# when you store your function in separate files, you can share those file with other programmers without having to share your entire program.\n",
    "\n",
    " # to call a function from an imported module, enter the name of the module you imported, followed by the name of the function, separated by a dot.\n",
    "\"\"\" a module is a file ending in .py that contains the code you want to import into your program\"\"\"\n",
    "\n",
    "import pizza\n",
    "pizza.make_pizza(16, 'crayfish')\n",
    "pizza.make_pizza(12, 'mushrooms', 'green peppers', 'extra cheese')\n"
   ]
  },
  {
   "cell_type": "code",
   "execution_count": 202,
   "id": "07635f4c-2b9e-4564-896b-7da3557e06a8",
   "metadata": {},
   "outputs": [
    {
     "name": "stdout",
     "output_type": "stream",
     "text": [
      "\n",
      "making a 17 -inch pizza with the following toppings:\n",
      "-tomatoes\n",
      "\n",
      "making a 20 -inch pizza with the following toppings:\n",
      "-cashew\n",
      "-groundnut\n",
      "-potatoes\n"
     ]
    }
   ],
   "source": [
    "\"\"\" importing specific functions\"\"\"\n",
    "# the general syntax for this approach is \"module_name import function_name\"\n",
    "# you can import as many functions as you want from a module by separating  each function's name by a comma.\n",
    "\"\"\"module name import function_0, function_1, function_2\"\"\"\n",
    "\n",
    "from pizza import make_pizza                      # with this syntax,you dont need to use the dot notation when you call a function.\n",
    "make_pizza(17, 'tomatoes')                  # we have explicitly imported the function make_pizza() in the import statement,we can call it by name when\n",
    "make_pizza(20, 'cashew', 'groundnut', 'potatoes')     # we use the function"
   ]
  },
  {
   "cell_type": "code",
   "execution_count": 203,
   "id": "835c3ba9-dae2-44fa-983f-7ae658b17780",
   "metadata": {},
   "outputs": [
    {
     "name": "stdout",
     "output_type": "stream",
     "text": [
      "\n",
      "making a 17 -inch pizza with the following toppings:\n",
      "-orange\n",
      "\n",
      "making a 20 -inch pizza with the following toppings:\n",
      "-red\n",
      "-blue\n",
      "-coconut\n"
     ]
    }
   ],
   "source": [
    "\"\"\"using as to give a function an alias\"\"\"\n",
    "# if the name of a function you are importing might conflict with an existing name in your program or if the function name is long,\n",
    "# you can use a short , unique alias to nickname the function\n",
    "\"\"\" the general syntax for providing an alias is: module_name import function_name as fn\"\"\"\n",
    "\n",
    "from pizza import make_pizza as cj\n",
    "cj(17, 'orange')\n",
    "cj(20, 'red', 'blue', 'coconut')"
   ]
  },
  {
   "cell_type": "code",
   "execution_count": 207,
   "id": "5b458178-61f5-4119-877c-938c5095c9a8",
   "metadata": {},
   "outputs": [
    {
     "name": "stdout",
     "output_type": "stream",
     "text": [
      "\n",
      "making a 17 -inch pizza with the following toppings:\n",
      "-red\n",
      "\n",
      "making a 20 -inch pizza with the following toppings:\n",
      "-blu\n",
      "-green\n",
      "-white\n"
     ]
    }
   ],
   "source": [
    "\"\"\"using as to give a module an alias\"\"\"\n",
    "# you can also provide an alias for a module, it allows you to call the module function more quickly\n",
    "\"\"\"the general syntax is import module_name as mn\"\"\"\n",
    "import pizza as ox\n",
    "ox.make_pizza(17, 'red')\n",
    "ox.make_pizza(20, 'blu', 'green', 'white')"
   ]
  },
  {
   "cell_type": "code",
   "execution_count": 208,
   "id": "c091202b-24c9-47c6-9d25-97891d5a99af",
   "metadata": {},
   "outputs": [
    {
     "name": "stdout",
     "output_type": "stream",
     "text": [
      "\n",
      "making a 17 -inch pizza with the following toppings:\n",
      "-red\n",
      "\n",
      "making a 20 -inch pizza with the following toppings:\n",
      "-blu\n",
      "-green\n",
      "-white\n"
     ]
    }
   ],
   "source": [
    "\"\"\"importing all function from a module\"\"\"\n",
    "# you can tell python to import every function in a module by using the asterisk(*) operator.\n",
    "from pizza import *\n",
    "make_pizza(17, 'red')\n",
    "make_pizza(20, 'blu', 'green', 'white')"
   ]
  },
  {
   "cell_type": "code",
   "execution_count": null,
   "id": "dc456824-de6d-4e08-8a9d-adb86f52c3bf",
   "metadata": {},
   "outputs": [],
   "source": [
    "\"\"\"styling a function\"\"\"\n",
    "# functions should have a descriptive names and these names should use lowercase letters and underscore. it applies to modules's name also.\n",
    "# every function should have a comment that explains concisely what the function does,it should appear immediately after the function definition.\n",
    "# if you specify a default value for a parameter, no space should be used on either side of the equal sign.\n",
    "\"\"\" def function_name(parameter_0,parameter_1=default value\"\"\"\n",
    "# all import should be written at the begining of the file. the only exception is if you use comments at the begining of your file to describe the prog."
   ]
  },
  {
   "cell_type": "code",
   "execution_count": 211,
   "id": "c96678c0-cc0c-4531-b6c1-48db225d1904",
   "metadata": {},
   "outputs": [],
   "source": [
    "\"\"\"classes\"\"\"\n",
    "# a class define the general behaviour that a whole category of objects can have.\n",
    "# when you create individual objects from the class, each objects is automatically equipped with the general behaviour, you can then give a trait.\n",
    "# making an object from a class is called INSTANTIATION, and you work with instances of a class.\n",
    "# specification of the kind of information that can be stored in instances, you will define the action that can be taken with these instances.\n",
    "# you will also write classes that extend the functionality of existing classes, so similar classes can share code efficiently.\n",
    "# you will store your classes in modules and import classes written by other programmers into your own program files.\n",
    "\"\"\"creating and using a class\"\"\"\n",
    "class Human: # we defined a class and called it human\n",
    "    \"\"\"a simple attempt to describe a human\"\"\" # we write a docstring describing what this class does\n",
    "    def __init__(self, name ,age):\n",
    "        \"\"\"initialize name and age attributes\"\"\"\n",
    "        self.name = name\n",
    "        self.age = age\n",
    "    def dance(self):\n",
    "        \"\"\"a human dancing in response to a command\"\"\"\n",
    "        print(f\"{self.name} is now dancing.\")\n",
    "    def jump(self):\n",
    "        \"\"\"simulate jumping over in response to command\"\"\"\n",
    "        print(f\"{self.name} jumped over!\")\n",
    "# the __init__() method is a special method that python runs automatically when ever we create new instance based on the human class.\n",
    "# it has two leading under scores and two trailing underscores, a convention tha prevents python default method name from conflicting with your method name.\n",
    "# we define the __init__ method to have three parameters: self, name and age\n",
    "# the self parameter is required in the method definition , and it must come first before the other parameters.\n",
    "    \"\"\"it must also be included in the definition because when python calls this method later (to create an instance for human),\n",
    "    the method calls will automatically pass the self argument.\"\"\"\n",
    "# every method call associated with an instance automatically passes self, which is a reference to the instance itself ;\n",
    "    \"\"\" it gives the individual instance access to the attributes and methods in the class\"\"\"\n",
    "# when we make an instance of Human, python will call the __init__() method from the Human class .\n",
    "   \"\"\" we will pass Human() a name and an age as arguments; self is passed automatically, so we dont need to pass it.\n",
    "   whenever we want to make an instance from the Human class, we'll provide values for only the last two parameters, name and age\"\"\"\n",
    "# the two variable having the prefix self is available to every method in the class, and will also be able to access these variables through\n",
    "  \"\"\"any instance created from the class\"\"\"\n",
    "   \"\"\"the line self.name = name , takes the value associated with the parameter \"name\" and assign it to the variable 'name', which is then attached\n",
    "   to the instance being created. the same process happens with self.age = age. Variables that are accessible through instances like this are called \n",
    "   Attributes\"\"\"\n",
    "# the human class has two other methods defined; dance() and jump()\n",
    "   \"\"\"they dont need additional information to run, we just define them to have one parameter, self.\"\"\"\n",
    "   \"\"\"the instances we create later will have access to these methods. in other words, they,ll be able to dance and jump.\"\"\"\n",
    "   \"\"\"they simply print a message saying the dog is dancing or jumping because they dont do much for now. but the concept can be extented to a realistic\n",
    "   situations.\"\"\""
   ]
  },
  {
   "cell_type": "code",
   "execution_count": null,
   "id": "ea6f97a5-e973-4442-a67c-06a9be4d8612",
   "metadata": {},
   "outputs": [],
   "source": []
  }
 ],
 "metadata": {
  "kernelspec": {
   "display_name": "Python 3 (ipykernel)",
   "language": "python",
   "name": "python3"
  },
  "language_info": {
   "codemirror_mode": {
    "name": "ipython",
    "version": 3
   },
   "file_extension": ".py",
   "mimetype": "text/x-python",
   "name": "python",
   "nbconvert_exporter": "python",
   "pygments_lexer": "ipython3",
   "version": "3.13.0"
  }
 },
 "nbformat": 4,
 "nbformat_minor": 5
}
