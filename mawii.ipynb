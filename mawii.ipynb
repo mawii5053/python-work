{
 "cells": [
  {
   "cell_type": "code",
   "execution_count": 1,
   "id": "be9ac3b4-3065-4eb2-a673-6de286627f33",
   "metadata": {},
   "outputs": [
    {
     "name": "stdin",
     "output_type": "stream",
     "text": [
      "enter result(1= pass, 2= fail):   1\n",
      "enter result(1= pass, 2= fail):   1\n",
      "enter result(1= pass, 2= fail):   1\n",
      "enter result(1= pass, 2= fail):   1\n",
      "enter result(1= pass, 2= fail):   2\n",
      "enter result(1= pass, 2= fail):   1\n",
      "enter result(1= pass, 2= fail):   1\n",
      "enter result(1= pass, 2= fail):   1\n",
      "enter result(1= pass, 2= fail):   1\n",
      "enter result(1= pass, 2= fail):   1\n"
     ]
    },
    {
     "name": "stdout",
     "output_type": "stream",
     "text": [
      "passed: 9\n",
      "failed: 1\n",
      "bonus to malawii\n"
     ]
    },
    {
     "name": "stdin",
     "output_type": "stream",
     "text": [
      "enter an integer:   20\n"
     ]
    },
    {
     "name": "stdout",
     "output_type": "stream",
     "text": [
      "20 is even\n"
     ]
    },
    {
     "name": "stdin",
     "output_type": "stream",
     "text": [
      "enter an integer:   15\n"
     ]
    },
    {
     "name": "stdout",
     "output_type": "stream",
     "text": [
      "15 is odd\n",
      "9\n",
      "27\n",
      "81\n",
      "P  r  o  g  r  a  m  m  i  n  g  0 1 2 3 4 5 6 7 8 9 0 1 3 6 10 15 21 28 36 45 55 66 78 91 105 "
     ]
    }
   ],
   "source": [
    "# Nested Control Statements\n",
    "#eg \n",
    "#a college offers a course that prepares students pharmacy licensing test.\n",
    "#the college wants to know how well its students did on the exam.\n",
    "#write a programm to compute the result, a list of 10 students were given.\n",
    "#write 1 if student passed and 2 if student failed. \n",
    "\n",
    "\"\"\"using nested control statement to analyze examination results\"\"\"\n",
    "\n",
    "#initialize variables\n",
    "passes = 0 # number of passes\n",
    "failures = 0 # number of failures\n",
    "\n",
    "# process 10 students\n",
    "for student in range(10):\n",
    "    # get one exam result\n",
    "    result = int(input('enter result(1= pass, 2= fail):  '))\n",
    "    if result == 1:\n",
    "        passes = passes + 1\n",
    "    else:\n",
    "        failures = failures + 1\n",
    "# termination phase\n",
    "print('passed:', passes)\n",
    "print('failed:', failures)\n",
    "\n",
    "if passes > 8:\n",
    "    print('bonus to malawii')\n",
    "\n",
    "# using a for statement to input two integers\n",
    "# using a nested if...else statemente to display whether each value is even or odd.\n",
    "# enter 20 and 15 to test my code\n",
    "\n",
    "for count in range(2):\n",
    "    value = int(input('enter an integer:  '))\n",
    "    if value % 2 == 0:\n",
    "        print(f'{value} is even')\n",
    "    else:\n",
    "        print(f'{value} is odd')    \n",
    "    \n",
    "\n",
    "\n",
    "# while statement\n",
    "# this statement allows you to repeat one or more actions while a condition remains True. the statement is called a loop.\n",
    "# using a while loop to find the first power of 3 larger than 50\n",
    "\n",
    "numbers = 3\n",
    "while numbers <= 50:\n",
    "    numbers = numbers * 3\n",
    "    print(numbers)    \n",
    "\n",
    "# for statement allows you to repeat an action or several actions, it perfoms its action for each item in a sequence of items\n",
    "#for example\n",
    "for character in \"Programming\":\n",
    "    print(character, end = \"  \")\n",
    "\n",
    "#range function create an iterable object that represent a sequence of consecutive\n",
    "#integer values starting from 0 and continuing up to , but not including, the argument value\n",
    "\n",
    "for counter in range(10):\n",
    "    print(counter, end=' ')\n",
    "\n",
    "total = 0\n",
    "for numbers in range(15):\n",
    "    total = total + numbers\n",
    "    print(total, end= ' ')"
   ]
  },
  {
   "cell_type": "code",
   "execution_count": 3,
   "id": "b90ec9c9-2371-4a6d-ad86-b3f38e4bf93a",
   "metadata": {},
   "outputs": [
    {
     "name": "stdin",
     "output_type": "stream",
     "text": [
      "enter result(1= pass, 2= fail):   1\n",
      "enter result(1= pass, 2= fail):   2\n",
      "enter result(1= pass, 2= fail):   1\n",
      "enter result(1= pass, 2= fail):   2\n",
      "enter result(1= pass, 2= fail):   1\n",
      "enter result(1= pass, 2= fail):   1\n",
      "enter result(1= pass, 2= fail):   2\n",
      "enter result(1= pass, 2= fail):   2\n",
      "enter result(1= pass, 2= fail):   2\n",
      "enter result(1= pass, 2= fail):   1\n"
     ]
    },
    {
     "name": "stdout",
     "output_type": "stream",
     "text": [
      "passed: 5\n",
      "failed: 5\n"
     ]
    },
    {
     "name": "stdin",
     "output_type": "stream",
     "text": [
      "enter an integer:   20\n"
     ]
    },
    {
     "name": "stdout",
     "output_type": "stream",
     "text": [
      "20 is even\n"
     ]
    },
    {
     "name": "stdin",
     "output_type": "stream",
     "text": [
      "enter an integer:   15\n"
     ]
    },
    {
     "name": "stdout",
     "output_type": "stream",
     "text": [
      "15 is odd\n",
      "9\n",
      "27\n",
      "81\n",
      "P  r  o  g  r  a  m  m  i  n  g  0 1 2 3 4 5 6 7 8 9 0 1 3 6 10 15 21 28 36 45 55 66 78 91 105 "
     ]
    }
   ],
   "source": [
    "# Nested Control Statements\n",
    "#eg \n",
    "#a college offers a course that prepares students pharmacy licensing test.\n",
    "#the college wants to know how well its students did on the exam.\n",
    "#write a programm to compute the result, a list of 10 students were given.\n",
    "#write 1 if student passed and 2 if student failed. \n",
    "\n",
    "\"\"\"using nested control statement to analyze examination results\"\"\"\n",
    "\n",
    "#initialize variables\n",
    "passes = 0 # number of passes\n",
    "failures = 0 # number of failures\n",
    "\n",
    "# process 10 students\n",
    "for student in range(10):\n",
    "    # get one exam result\n",
    "    result = int(input('enter result(1= pass, 2= fail):  '))\n",
    "    if result == 1:\n",
    "        passes = passes + 1\n",
    "    else:\n",
    "        failures = failures + 1\n",
    "# termination phase\n",
    "print('passed:', passes)\n",
    "print('failed:', failures)\n",
    "\n",
    "if passes > 8:\n",
    "    print('bonus to malawii')\n",
    "\n",
    "# using a for statement to input two integers\n",
    "# using a nested if...else statemente to display whether each value is even or odd.\n",
    "# enter 20 and 15 to test my code\n",
    "\n",
    "for count in range(2):\n",
    "    value = int(input('enter an integer:  '))\n",
    "    if value % 2 == 0:\n",
    "        print(f'{value} is even')\n",
    "    else:\n",
    "        print(f'{value} is odd')    \n",
    "    \n",
    "\n",
    "\n",
    "# while statement\n",
    "# this statement allows you to repeat one or more actions while a condition remains True. the statement is called a loop.\n",
    "# using a while loop to find the first power of 3 larger than 50\n",
    "\n",
    "numbers = 3\n",
    "while numbers <= 50:\n",
    "    numbers = numbers * 3\n",
    "    print(numbers)    \n",
    "\n",
    "# for statement allows you to repeat an action or several actions, it perfoms its action for each item in a sequence of items\n",
    "#for example\n",
    "for character in \"Programming\":\n",
    "    print(character, end = \"  \")\n",
    "\n",
    "#range function create an iterable object that represent a sequence of consecutive\n",
    "#integer values starting from 0 and continuing up to , but not including, the argument value\n",
    "\n",
    "for counter in range(10):\n",
    "    print(counter, end=' ')\n",
    "\n",
    "total = 0\n",
    "for numbers in range(15):\n",
    "    total = total + numbers\n",
    "    print(total, end= ' ')"
   ]
  },
  {
   "cell_type": "code",
   "execution_count": 4,
   "id": "542a0839-ec49-4520-87a4-5603b67c560a",
   "metadata": {},
   "outputs": [
    {
     "name": "stdout",
     "output_type": "stream",
     "text": [
      "9 10 11 12 13 14 15 16 17 18 "
     ]
    }
   ],
   "source": [
    "# Range function() has two and three-argument version;\n",
    "# 1 argument version produces a sequence of consecutive integers from 0 up to, but not including, the argument value.\n",
    "# 2 argument version produces a sequence of consecutive integers from its first arguments value up to,but not including the second argument value\n",
    "# 3 argument version produces a sequence of integers from its first argument value up to, but not including the second argument value,incrementing or decrementing(if negative) by the third argument value, which is known as step\n",
    "\n",
    "for number in range(9, 19):  # 1 argument in range\n",
    "    print(number, end= ' ')"
   ]
  },
  {
   "cell_type": "code",
   "execution_count": 5,
   "id": "d4943706-1952-4bd1-b78d-b458dc49dc12",
   "metadata": {},
   "outputs": [
    {
     "name": "stdout",
     "output_type": "stream",
     "text": [
      "1 4 7 "
     ]
    }
   ],
   "source": [
    "for number in range(1, 10, 3):  # 2 argument in range\n",
    "    print(number, end= ' ')"
   ]
  },
  {
   "cell_type": "code",
   "execution_count": 6,
   "id": "dba201b3-88fb-4066-8ea1-d802f87836f7",
   "metadata": {},
   "outputs": [
    {
     "name": "stdout",
     "output_type": "stream",
     "text": [
      "10 8 6 4 2 "
     ]
    }
   ],
   "source": [
    "for number in range(10, 0, -2): # 3 argument in range\n",
    "    print(number, end= ' ')"
   ]
  },
  {
   "cell_type": "code",
   "execution_count": 7,
   "id": "b9bac549-2069-48dd-abcf-211ea329ce5b",
   "metadata": {},
   "outputs": [
    {
     "name": "stdout",
     "output_type": "stream",
     "text": [
      "2 6 12 20 30 42 56 72 90 110 132 156 182 210 240 272 306 342 380 420 462 506 552 600 650 702 756 812 870 930 992 1056 1122 1190 1260 1332 1406 1482 1560 1640 1722 1806 1892 1980 2070 2162 2256 2352 2450 2550 "
     ]
    }
   ],
   "source": [
    "# what is the value of the total sum of even number between 2 to 500\n",
    "\n",
    "total = 0\n",
    "for number in range(2, 101, 2):\n",
    "    total += number\n",
    "    print(total, end= \" \")\n",
    "    "
   ]
  },
  {
   "cell_type": "code",
   "execution_count": null,
   "id": "f53d054c-851a-4015-b2cc-d668daa7f5a4",
   "metadata": {},
   "outputs": [],
   "source": []
  }
 ],
 "metadata": {
  "kernelspec": {
   "display_name": "Python 3 (ipykernel)",
   "language": "python",
   "name": "python3"
  },
  "language_info": {
   "codemirror_mode": {
    "name": "ipython",
    "version": 3
   },
   "file_extension": ".py",
   "mimetype": "text/x-python",
   "name": "python",
   "nbconvert_exporter": "python",
   "pygments_lexer": "ipython3",
   "version": "3.13.0"
  }
 },
 "nbformat": 4,
 "nbformat_minor": 5
}
