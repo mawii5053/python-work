{
 "cells": [
  {
   "cell_type": "code",
   "execution_count": 1,
   "id": "be9ac3b4-3065-4eb2-a673-6de286627f33",
   "metadata": {},
   "outputs": [
    {
     "name": "stdin",
     "output_type": "stream",
     "text": [
      "enter result(1= pass, 2= fail):   1\n",
      "enter result(1= pass, 2= fail):   1\n",
      "enter result(1= pass, 2= fail):   1\n",
      "enter result(1= pass, 2= fail):   1\n",
      "enter result(1= pass, 2= fail):   2\n",
      "enter result(1= pass, 2= fail):   1\n",
      "enter result(1= pass, 2= fail):   1\n",
      "enter result(1= pass, 2= fail):   1\n",
      "enter result(1= pass, 2= fail):   1\n",
      "enter result(1= pass, 2= fail):   1\n"
     ]
    },
    {
     "name": "stdout",
     "output_type": "stream",
     "text": [
      "passed: 9\n",
      "failed: 1\n",
      "bonus to malawii\n"
     ]
    },
    {
     "name": "stdin",
     "output_type": "stream",
     "text": [
      "enter an integer:   20\n"
     ]
    },
    {
     "name": "stdout",
     "output_type": "stream",
     "text": [
      "20 is even\n"
     ]
    },
    {
     "name": "stdin",
     "output_type": "stream",
     "text": [
      "enter an integer:   15\n"
     ]
    },
    {
     "name": "stdout",
     "output_type": "stream",
     "text": [
      "15 is odd\n",
      "9\n",
      "27\n",
      "81\n",
      "P  r  o  g  r  a  m  m  i  n  g  0 1 2 3 4 5 6 7 8 9 0 1 3 6 10 15 21 28 36 45 55 66 78 91 105 "
     ]
    }
   ],
   "source": [
    "# Nested Control Statements\n",
    "#eg \n",
    "#a college offers a course that prepares students pharmacy licensing test.\n",
    "#the college wants to know how well its students did on the exam.\n",
    "#write a programm to compute the result, a list of 10 students were given.\n",
    "#write 1 if student passed and 2 if student failed. \n",
    "\n",
    "\"\"\"using nested control statement to analyze examination results\"\"\"\n",
    "\n",
    "#initialize variables\n",
    "passes = 0 # number of passes\n",
    "failures = 0 # number of failures\n",
    "\n",
    "# process 10 students\n",
    "for student in range(10):\n",
    "    # get one exam result\n",
    "    result = int(input('enter result(1= pass, 2= fail):  '))\n",
    "    if result == 1:\n",
    "        passes = passes + 1\n",
    "    else:\n",
    "        failures = failures + 1\n",
    "# termination phase\n",
    "print('passed:', passes)\n",
    "print('failed:', failures)\n",
    "\n",
    "if passes > 8:\n",
    "    print('bonus to malawii')\n",
    "\n",
    "# using a for statement to input two integers\n",
    "# using a nested if...else statemente to display whether each value is even or odd.\n",
    "# enter 20 and 15 to test my code\n",
    "\n",
    "for count in range(2):\n",
    "    value = int(input('enter an integer:  '))\n",
    "    if value % 2 == 0:\n",
    "        print(f'{value} is even')\n",
    "    else:\n",
    "        print(f'{value} is odd')    \n",
    "    \n",
    "\n",
    "\n",
    "# while statement\n",
    "# this statement allows you to repeat one or more actions while a condition remains True. the statement is called a loop.\n",
    "# using a while loop to find the first power of 3 larger than 50\n",
    "\n",
    "numbers = 3\n",
    "while numbers <= 50:\n",
    "    numbers = numbers * 3\n",
    "    print(numbers)    \n",
    "\n",
    "# for statement allows you to repeat an action or several actions, it perfoms its action for each item in a sequence of items\n",
    "#for example\n",
    "for character in \"Programming\":\n",
    "    print(character, end = \"  \")\n",
    "\n",
    "#range function create an iterable object that represent a sequence of consecutive\n",
    "#integer values starting from 0 and continuing up to , but not including, the argument value\n",
    "\n",
    "for counter in range(10):\n",
    "    print(counter, end=' ')\n",
    "\n",
    "total = 0\n",
    "for numbers in range(15):\n",
    "    total = total + numbers\n",
    "    print(total, end= ' ')"
   ]
  },
  {
   "cell_type": "code",
   "execution_count": 3,
   "id": "b90ec9c9-2371-4a6d-ad86-b3f38e4bf93a",
   "metadata": {},
   "outputs": [
    {
     "name": "stdin",
     "output_type": "stream",
     "text": [
      "enter result(1= pass, 2= fail):   1\n",
      "enter result(1= pass, 2= fail):   2\n",
      "enter result(1= pass, 2= fail):   1\n",
      "enter result(1= pass, 2= fail):   2\n",
      "enter result(1= pass, 2= fail):   1\n",
      "enter result(1= pass, 2= fail):   1\n",
      "enter result(1= pass, 2= fail):   2\n",
      "enter result(1= pass, 2= fail):   2\n",
      "enter result(1= pass, 2= fail):   2\n",
      "enter result(1= pass, 2= fail):   1\n"
     ]
    },
    {
     "name": "stdout",
     "output_type": "stream",
     "text": [
      "passed: 5\n",
      "failed: 5\n"
     ]
    },
    {
     "name": "stdin",
     "output_type": "stream",
     "text": [
      "enter an integer:   20\n"
     ]
    },
    {
     "name": "stdout",
     "output_type": "stream",
     "text": [
      "20 is even\n"
     ]
    },
    {
     "name": "stdin",
     "output_type": "stream",
     "text": [
      "enter an integer:   15\n"
     ]
    },
    {
     "name": "stdout",
     "output_type": "stream",
     "text": [
      "15 is odd\n",
      "9\n",
      "27\n",
      "81\n",
      "P  r  o  g  r  a  m  m  i  n  g  0 1 2 3 4 5 6 7 8 9 0 1 3 6 10 15 21 28 36 45 55 66 78 91 105 "
     ]
    }
   ],
   "source": [
    "# Nested Control Statements\n",
    "#eg \n",
    "#a college offers a course that prepares students pharmacy licensing test.\n",
    "#the college wants to know how well its students did on the exam.\n",
    "#write a programm to compute the result, a list of 10 students were given.\n",
    "#write 1 if student passed and 2 if student failed. \n",
    "\n",
    "\"\"\"using nested control statement to analyze examination results\"\"\"\n",
    "\n",
    "#initialize variables\n",
    "passes = 0 # number of passes\n",
    "failures = 0 # number of failures\n",
    "\n",
    "# process 10 students\n",
    "for student in range(10):\n",
    "    # get one exam result\n",
    "    result = int(input('enter result(1= pass, 2= fail):  '))\n",
    "    if result == 1:\n",
    "        passes = passes + 1\n",
    "    else:\n",
    "        failures = failures + 1\n",
    "# termination phase\n",
    "print('passed:', passes)\n",
    "print('failed:', failures)\n",
    "\n",
    "if passes > 8:\n",
    "    print('bonus to malawii')\n",
    "\n",
    "# using a for statement to input two integers\n",
    "# using a nested if...else statemente to display whether each value is even or odd.\n",
    "# enter 20 and 15 to test my code\n",
    "\n",
    "for count in range(2):\n",
    "    value = int(input('enter an integer:  '))\n",
    "    if value % 2 == 0:\n",
    "        print(f'{value} is even')\n",
    "    else:\n",
    "        print(f'{value} is odd')    \n",
    "    \n",
    "\n",
    "\n",
    "# while statement\n",
    "# this statement allows you to repeat one or more actions while a condition remains True. the statement is called a loop.\n",
    "# using a while loop to find the first power of 3 larger than 50\n",
    "\n",
    "numbers = 3\n",
    "while numbers <= 50:\n",
    "    numbers = numbers * 3\n",
    "    print(numbers)    \n",
    "\n",
    "# for statement allows you to repeat an action or several actions, it perfoms its action for each item in a sequence of items\n",
    "#for example\n",
    "for character in \"Programming\":\n",
    "    print(character, end = \"  \")\n",
    "\n",
    "#range function create an iterable object that represent a sequence of consecutive\n",
    "#integer values starting from 0 and continuing up to , but not including, the argument value\n",
    "\n",
    "for counter in range(10):\n",
    "    print(counter, end=' ')\n",
    "\n",
    "total = 0\n",
    "for numbers in range(15):\n",
    "    total = total + numbers\n",
    "    print(total, end= ' ')"
   ]
  },
  {
   "cell_type": "code",
   "execution_count": 4,
   "id": "542a0839-ec49-4520-87a4-5603b67c560a",
   "metadata": {},
   "outputs": [
    {
     "name": "stdout",
     "output_type": "stream",
     "text": [
      "9 10 11 12 13 14 15 16 17 18 "
     ]
    }
   ],
   "source": [
    "# Range function() has two and three-argument version;\n",
    "# 1 argument version produces a sequence of consecutive integers from 0 up to, but not including, the argument value.\n",
    "# 2 argument version produces a sequence of consecutive integers from its first arguments value up to,but not including the second argument value\n",
    "# 3 argument version produces a sequence of integers from its first argument value up to, but not including the second argument value,incrementing or decrementing(if negative) by the third argument value, which is known as step\n",
    "\n",
    "for number in range(9, 19):  # 1 argument in range\n",
    "    print(number, end= ' ')"
   ]
  },
  {
   "cell_type": "code",
   "execution_count": 5,
   "id": "d4943706-1952-4bd1-b78d-b458dc49dc12",
   "metadata": {},
   "outputs": [
    {
     "name": "stdout",
     "output_type": "stream",
     "text": [
      "1 4 7 "
     ]
    }
   ],
   "source": [
    "for number in range(1, 10, 3):  # 2 argument in range\n",
    "    print(number, end= ' ')"
   ]
  },
  {
   "cell_type": "code",
   "execution_count": 6,
   "id": "dba201b3-88fb-4066-8ea1-d802f87836f7",
   "metadata": {},
   "outputs": [
    {
     "name": "stdout",
     "output_type": "stream",
     "text": [
      "10 8 6 4 2 "
     ]
    }
   ],
   "source": [
    "for number in range(10, 0, -2): # 3 argument in range\n",
    "    print(number, end= ' ')"
   ]
  },
  {
   "cell_type": "code",
   "execution_count": 7,
   "id": "b9bac549-2069-48dd-abcf-211ea329ce5b",
   "metadata": {},
   "outputs": [
    {
     "name": "stdout",
     "output_type": "stream",
     "text": [
      "2 6 12 20 30 42 56 72 90 110 132 156 182 210 240 272 306 342 380 420 462 506 552 600 650 702 756 812 870 930 992 1056 1122 1190 1260 1332 1406 1482 1560 1640 1722 1806 1892 1980 2070 2162 2256 2352 2450 2550 "
     ]
    }
   ],
   "source": [
    "# what is the value of the total sum of even number between 2 to 500\n",
    "\n",
    "total = 0\n",
    "for number in range(2, 101, 2):\n",
    "    total += number\n",
    "    print(total, end= \" \")\n",
    "    "
   ]
  },
  {
   "cell_type": "code",
   "execution_count": 8,
   "id": "f53d054c-851a-4015-b2cc-d668daa7f5a4",
   "metadata": {},
   "outputs": [
    {
     "name": "stdout",
     "output_type": "stream",
     "text": [
      "1000.00\n"
     ]
    }
   ],
   "source": [
    "## the decimal module defines type decimal and its capabilities.\n",
    "## to use capabilities from a module, you must first import the entire module; such as import decimal(from decimal import deecimal)\n",
    "\n",
    "from decimal import Decimal\n",
    "principal = Decimal('1000.00')\n",
    "print(principal)"
   ]
  },
  {
   "cell_type": "code",
   "execution_count": 9,
   "id": "99ead67e-d85e-48d9-b7e4-ea2fc22a864d",
   "metadata": {},
   "outputs": [
    {
     "name": "stdout",
     "output_type": "stream",
     "text": [
      "0.05\n"
     ]
    }
   ],
   "source": [
    "rate = Decimal('0.05')\n",
    "print(rate)"
   ]
  },
  {
   "cell_type": "code",
   "execution_count": 44,
   "id": "b90c555d-fca0-47dd-be44-72d62e3ebf53",
   "metadata": {},
   "outputs": [
    {
     "name": "stdout",
     "output_type": "stream",
     "text": [
      "1     1050.0\n",
      "2     1102.5\n",
      "3     1157.6\n",
      "4     1215.5\n"
     ]
    }
   ],
   "source": [
    "# a mad man invested #1000 in roziel pharmacy at 5% interest. assuming he didnt request for his principal,calculate the amount at the end of each year for 10years\n",
    "  \n",
    "# use a = p(1 + r)^n\n",
    "\n",
    "for year in range(1, 5):\n",
    "    amount = principal *(1 + rate)**year\n",
    "    print(f'{year:>1} {amount:>10.1f}')\n",
    "    "
   ]
  },
  {
   "cell_type": "code",
   "execution_count": 47,
   "id": "8170a701-a5a0-47d1-bff1-b807a06a3ec8",
   "metadata": {},
   "outputs": [
    {
     "name": "stdout",
     "output_type": "stream",
     "text": [
      "2656.25\n"
     ]
    }
   ],
   "source": [
    "# a tax on a pharmacy is 6.25% and the bill amount is #2500, use type Decimal to calculate the total bill.\n",
    "# print the result with 2 digits to the rightof the decimal point\n",
    "\n",
    "from decimal import Decimal\n",
    "print(f\"{Decimal('2500') * Decimal('1.0625'):.2f}\")"
   ]
  },
  {
   "cell_type": "code",
   "execution_count": 48,
   "id": "b7cb0d77-0481-4802-8cdc-a74e6f6b124e",
   "metadata": {},
   "outputs": [
    {
     "name": "stdout",
     "output_type": "stream",
     "text": [
      "0 1 2 3 4 5 6 7 8 9 10 11 12 13 14 15 16 17 18 19 "
     ]
    }
   ],
   "source": [
    "# the break and continue statement alters the loop flow of control.\n",
    "# executing a break statement in a while loop or for loop immediately exits that statement.\n",
    "\n",
    "for number in range(1000000):\n",
    "    if number == 20:\n",
    "        break\n",
    "    print(number, end= \" \")"
   ]
  },
  {
   "cell_type": "code",
   "execution_count": 49,
   "id": "7e8762e0-769a-4df1-b5f1-90f83a147320",
   "metadata": {},
   "outputs": [
    {
     "name": "stdout",
     "output_type": "stream",
     "text": [
      "0 1 2 3 4 5 6 7 8 10 11 "
     ]
    }
   ],
   "source": [
    "for number in range(12):\n",
    "    if number == 9:\n",
    "        continue\n",
    "    print(number, end= \" \")"
   ]
  },
  {
   "cell_type": "code",
   "execution_count": 2,
   "id": "d759b73f-3443-4f97-bf95-24c3f6f40cc3",
   "metadata": {},
   "outputs": [
    {
     "name": "stdout",
     "output_type": "stream",
     "text": [
      "shut up\n"
     ]
    }
   ],
   "source": [
    "# the boolean operetor \"and\" , \"or\" and \"not\" are used to combine simple conditions\n",
    "# the conditional operators > < >= <= and  != can be used to form simple conditions.\n",
    "\n",
    "# the boolean operator \"and\"\n",
    "# it ensurea that two conditions are both true\n",
    "group = 'adult'\n",
    "age = 30\n",
    "if group == 'adult' and age >= 27:\n",
    "    print('shut up')\n"
   ]
  },
  {
   "cell_type": "code",
   "execution_count": 3,
   "id": "fd8cd146-3301-4bc8-8ae4-0ef9bc1765ab",
   "metadata": {},
   "outputs": [
    {
     "name": "stdout",
     "output_type": "stream",
     "text": [
      "students gets a C\n"
     ]
    }
   ],
   "source": [
    "# boolean operator \"or\"\n",
    "# it is used to test whether one or both of two conditions are true\n",
    "\n",
    "pharmacy_test = 60\n",
    "unn_exam = 80\n",
    "if pharmacy_test >= 70 or unn_exam >= 70:\n",
    "    print('students gets a C')"
   ]
  },
  {
   "cell_type": "code",
   "execution_count": 4,
   "id": "db935ea8-f60c-49b7-ab66-d77d7d6d3395",
   "metadata": {},
   "outputs": [
    {
     "name": "stdout",
     "output_type": "stream",
     "text": [
      "the next grade is 89\n"
     ]
    }
   ],
   "source": [
    "# boolean operator \"not\" reverses the meaning of a condition - true becomes false and false becomes true\n",
    "# this is a unary operator\n",
    "# it has one operand, the not operator is placed before a condition.\n",
    "grade = 89\n",
    "if not grade == -1:\n",
    "    print('the next grade is' , grade)"
   ]
  },
  {
   "cell_type": "code",
   "execution_count": 7,
   "id": "1ee4926a-f12e-4f50-a440-3f6b49cc65ae",
   "metadata": {},
   "outputs": [
    {
     "data": {
      "text/plain": [
       "66.28571428571429"
      ]
     },
     "execution_count": 7,
     "metadata": {},
     "output_type": "execute_result"
    }
   ],
   "source": [
    "# measures of central tendency produces a single value that represent a central value in a set of values.\n",
    "# mean is the average value in a set of values\n",
    "# median is the middle value when all the values are arranged in sorted order\n",
    "# mode is the most frequent occuring value in a set of values\n",
    "# 'sum' calculates the total \n",
    "# 'len' returns the number of grades\n",
    "\n",
    "grades = [96, 67, 83, 23, 54, 90, 51]\n",
    "sum(grades) / len(grades)\n"
   ]
  },
  {
   "cell_type": "code",
   "execution_count": 14,
   "id": "c65470a6-43b1-4a49-a0da-d5d76b77ae8a",
   "metadata": {},
   "outputs": [
    {
     "data": {
      "text/plain": [
       "75.85714285714286"
      ]
     },
     "execution_count": 14,
     "metadata": {},
     "output_type": "execute_result"
    }
   ],
   "source": [
    "grades = [96, 67, 83, 90, 54, 90, 51]\n",
    "statistics.mean(grades)"
   ]
  },
  {
   "cell_type": "code",
   "execution_count": 15,
   "id": "1b4a0a91-c6f1-4616-b063-38d03ee18730",
   "metadata": {},
   "outputs": [
    {
     "data": {
      "text/plain": [
       "83"
      ]
     },
     "execution_count": 15,
     "metadata": {},
     "output_type": "execute_result"
    }
   ],
   "source": [
    "grades = [96, 67, 83, 90, 54, 90, 51]\n",
    "statistics.median(grades)"
   ]
  },
  {
   "cell_type": "code",
   "execution_count": 16,
   "id": "3d580706-9362-4860-aec4-bf91848374d1",
   "metadata": {},
   "outputs": [
    {
     "data": {
      "text/plain": [
       "90"
      ]
     },
     "execution_count": 16,
     "metadata": {},
     "output_type": "execute_result"
    }
   ],
   "source": [
    "grades = [96, 67, 83, 90, 54, 90, 51]\n",
    "statistics.mode(grades)"
   ]
  },
  {
   "cell_type": "code",
   "execution_count": 17,
   "id": "09208d40-0b17-4428-84ff-a78d3d3e7aba",
   "metadata": {},
   "outputs": [
    {
     "data": {
      "text/plain": [
       "[51, 54, 67, 83, 90, 90, 96]"
      ]
     },
     "execution_count": 17,
     "metadata": {},
     "output_type": "execute_result"
    }
   ],
   "source": [
    "grades = [96, 67, 83, 90, 54, 90, 51]\n",
    "sorted(grades)"
   ]
  },
  {
   "cell_type": "code",
   "execution_count": 19,
   "id": "024a4bdb-e389-4c3a-b30e-3792370fb1cb",
   "metadata": {},
   "outputs": [
    {
     "data": {
      "text/plain": [
       "75.85714285714286"
      ]
     },
     "execution_count": 19,
     "metadata": {},
     "output_type": "execute_result"
    }
   ],
   "source": [
    "import statistics\n",
    "values = [47, 95, 88, 73, 88, 84]\n",
    "statistics.mean(values)"
   ]
  },
  {
   "cell_type": "code",
   "execution_count": 20,
   "id": "4741a90d-f328-4f7a-b1c7-364f93dfbe9a",
   "metadata": {},
   "outputs": [
    {
     "data": {
      "text/plain": [
       "88"
      ]
     },
     "execution_count": 20,
     "metadata": {},
     "output_type": "execute_result"
    }
   ],
   "source": [
    "values = [47, 95, 88, 73, 88, 84]\n",
    "statistics.mode(values)"
   ]
  },
  {
   "cell_type": "code",
   "execution_count": 21,
   "id": "85dac55f-4a18-4dde-a009-451c7b58bd9e",
   "metadata": {},
   "outputs": [
    {
     "data": {
      "text/plain": [
       "86.0"
      ]
     },
     "execution_count": 21,
     "metadata": {},
     "output_type": "execute_result"
    }
   ],
   "source": [
    "values = [47, 95, 88, 73, 88, 84]\n",
    "statistics.median(values)"
   ]
  },
  {
   "cell_type": "code",
   "execution_count": 23,
   "id": "6cf6e76c-541a-4679-9c17-5a532de48d64",
   "metadata": {},
   "outputs": [
    {
     "data": {
      "text/plain": [
       "49"
      ]
     },
     "execution_count": 23,
     "metadata": {},
     "output_type": "execute_result"
    }
   ],
   "source": [
    "# defining function begins with the \"def\" keywords\n",
    "def square(number):\n",
    "    \"\"\"calculate the square of number.\"\"\"\n",
    "    return number ** 2\n",
    "square(7)"
   ]
  },
  {
   "cell_type": "code",
   "execution_count": 24,
   "id": "ce99182b-43e5-4e89-a4d6-f82a5fe0dce0",
   "metadata": {},
   "outputs": [
    {
     "data": {
      "text/plain": [
       "6.25"
      ]
     },
     "execution_count": 24,
     "metadata": {},
     "output_type": "execute_result"
    }
   ],
   "source": [
    "square(2.5)"
   ]
  },
  {
   "cell_type": "code",
   "execution_count": 25,
   "id": "68d9f1c1-b2c5-4c23-9e20-83ad49b1264d",
   "metadata": {},
   "outputs": [
    {
     "data": {
      "text/plain": [
       "5.0"
      ]
     },
     "execution_count": 25,
     "metadata": {},
     "output_type": "execute_result"
    }
   ],
   "source": [
    "def square_root(number):\n",
    "    return number ** 0.5 # or number ** (1/2)\n",
    "square_root(25)"
   ]
  },
  {
   "cell_type": "code",
   "execution_count": 33,
   "id": "47c575cc-e8d3-45cd-9586-d6c8d99d4839",
   "metadata": {},
   "outputs": [
    {
     "data": {
      "text/plain": [
       "36"
      ]
     },
     "execution_count": 33,
     "metadata": {},
     "output_type": "execute_result"
    }
   ],
   "source": [
    "# functions with multiple parameters\n",
    "def mininum(value1, value2, value3):\n",
    "    min_value = value1\n",
    "    if value2 > min_value:\n",
    "        min_value = value2\n",
    "    if value3 > min_value:\n",
    "        min_value = value3\n",
    "    return min_value\n",
    "mininum(12, 27, 36)"
   ]
  },
  {
   "cell_type": "code",
   "execution_count": 34,
   "id": "8ae16f22-aabe-4e95-8210-d28f04bdb457",
   "metadata": {},
   "outputs": [
    {
     "data": {
      "text/plain": [
       "45.6"
      ]
     },
     "execution_count": 34,
     "metadata": {},
     "output_type": "execute_result"
    }
   ],
   "source": [
    "def mininum(value1, value2, value3):\n",
    "    min_value = value1\n",
    "    if value2 > min_value:\n",
    "        min_value = value2\n",
    "    if value3 > min_value:\n",
    "        min_value = value3\n",
    "    return min_value\n",
    "mininum(12.3,45.6,9.7)"
   ]
  },
  {
   "cell_type": "code",
   "execution_count": 37,
   "id": "22d71307-a75a-4e26-b245-cdf1c27a4313",
   "metadata": {},
   "outputs": [
    {
     "data": {
      "text/plain": [
       "7"
      ]
     },
     "execution_count": 37,
     "metadata": {},
     "output_type": "execute_result"
    }
   ],
   "source": [
    "def mininum(value1, value2, value3):\n",
    "    min_value = value1\n",
    "    if value2 > min_value:\n",
    "        min_value = value2\n",
    "    if value3 > min_value:\n",
    "        min_value = value3\n",
    "    return min_value\n",
    "mininum(3,5,7)"
   ]
  },
  {
   "cell_type": "code",
   "execution_count": 39,
   "id": "047fd5bf-8dca-4fd3-b4d6-cc9c9fda4719",
   "metadata": {},
   "outputs": [
    {
     "name": "stdout",
     "output_type": "stream",
     "text": [
      "6 2 5 1 3 4 2 5 5 2 "
     ]
    }
   ],
   "source": [
    "# random number generation introduces the element of chance in python.\n",
    "# for example , lets produce 10 random integers in the range 1-6 to stimulate rolling a six-sided die\n",
    "import random\n",
    "for roll in range(10):\n",
    "    print(random.randrange(1, 7), end=' ')\n",
    "\n",
    "# the randrange function generates an integer from the first argument value(1) up to, but not including the second argument value(7)."
   ]
  },
  {
   "cell_type": "code",
   "execution_count": 46,
   "id": "8da9ce59-16b8-4357-900a-9621e879592d",
   "metadata": {},
   "outputs": [
    {
     "name": "stdout",
     "output_type": "stream",
     "text": [
      "face    frequency\n",
      "   1      1001548\n",
      "   2      1000418\n",
      "   3       999919\n",
      "   4      1001249\n",
      "   5       997999\n",
      "   6       998867\n"
     ]
    }
   ],
   "source": [
    "# LETS TRY ROLLING a six-sided die 6,000,000 times.\n",
    "import random\n",
    "# face frequency counters\n",
    "frequency1 = 0\n",
    "frequency2 = 0\n",
    "frequency3 = 0\n",
    "frequency4 = 0\n",
    "frequency5 = 0\n",
    "frequency6 = 0\n",
    "# 6,000,000 die rolls\n",
    "for roll in range(6_000_000): # note underscore separators\n",
    "    face = random.randrange(1, 7)\n",
    "    # increment appropriate face counter\n",
    "    if face == 1:\n",
    "        frequency1 += 1\n",
    "    elif face == 2:\n",
    "        frequency2 += 1\n",
    "    elif face == 3:\n",
    "        frequency3 += 1\n",
    "    elif face == 4:\n",
    "        frequency4 += 1\n",
    "    elif face == 5:\n",
    "        frequency5 += 1\n",
    "    elif face == 6:\n",
    "        frequency6 += 1\n",
    "print(f'face{\"frequency\":>13}')\n",
    "print(f'{1:>4}{frequency1:>13}') \n",
    "print(f'{2:>4}{frequency2:>13}')\n",
    "print(f'{3:>4}{frequency3:>13}')\n",
    "print(f'{4:>4}{frequency4:>13}')\n",
    "print(f'{5:>4}{frequency5:>13}')\n",
    "print(f'{6:>4}{frequency6:>13}')\n",
    "\n",
    "# the above script uses nested control statements to determine the number of times each die face appears.\n",
    "# the 'for' statement iterates 6,000,000 times\n",
    "# underscore (_) digit separator was used to make the value 6000000 readable\n",
    "# for each die roll, the script adds 1 to the appropriate counter variable"
   ]
  },
  {
   "cell_type": "code",
   "execution_count": 47,
   "id": "d9471951-8de4-47fa-9fd9-188a70eb1a02",
   "metadata": {},
   "outputs": [
    {
     "name": "stdout",
     "output_type": "stream",
     "text": [
      "1 2 2 3 6 2 4 1 6 1 "
     ]
    }
   ],
   "source": [
    "# seeding the random-number generator for reproducibility.\n",
    "# the randrange function generates a pseudorandom numbers based on an internal calculation tha begins with a numerical value known as SEED.\n",
    "\n",
    "random.seed(32)\n",
    "for roll in range(10):\n",
    "    print(random.randrange(1, 7), end= ' ')"
   ]
  },
  {
   "cell_type": "code",
   "execution_count": 48,
   "id": "8619402d-601c-468e-92c0-96c37f78749c",
   "metadata": {},
   "outputs": [
    {
     "name": "stdout",
     "output_type": "stream",
     "text": [
      "1 3 5 3 1 5 6 4 3 5 "
     ]
    }
   ],
   "source": [
    "for roll in range(10):\n",
    "    print(random.randrange(1, 7), end= ' ')\n",
    "    # this generates a different values because it simply continues the pseudorandom number sequence that began in [47]"
   ]
  },
  {
   "cell_type": "code",
   "execution_count": 51,
   "id": "c35c04fb-ef4d-4076-b3e8-c5050f124264",
   "metadata": {},
   "outputs": [
    {
     "name": "stdout",
     "output_type": "stream",
     "text": [
      "H T T T H T H H T H T T H H T T T H T H "
     ]
    }
   ],
   "source": [
    "# eg\n",
    "# use a for statement, randrange and a conditional expression to stimulate 20 coin flips, displaying H for head and T for tail on the same line.\n",
    "\n",
    "import random\n",
    "for j in range(20):\n",
    "    print('H' if random.randrange(2) == 0 else 'T', end= ' ')"
   ]
  },
  {
   "cell_type": "code",
   "execution_count": 60,
   "id": "ba931015-8645-4ee8-85a1-c1f45b86f333",
   "metadata": {},
   "outputs": [
    {
     "name": "stdout",
     "output_type": "stream",
     "text": [
      "player rolled 5 + 3 = 8\n",
      "point is  8\n",
      "player loses\n"
     ]
    }
   ],
   "source": [
    "# a two six-sided dice , when the dice come to rest, the sum of the spots on the two upward faces is calculated.\n",
    "#if the sum is 7 or 11 on the first roll, you win.\n",
    "# if the sum is 2,3 or 12 on the first roll, you lose.\n",
    "# if the sum is 4, 5, 6,8,9 or 10 on the first roll, that sum becomes your points.\n",
    "# to win , you must continue rolling the dice until you make your point.\n",
    "# you lose by rolling a 7 before making your point.\n",
    "\n",
    "\"\"\"stimulating the dice game\"\"\"\n",
    "import random\n",
    "def dice_roll():\n",
    "    \"\"\" roll two dice and return their face values as a tuple\"\"\"\n",
    "    die1 = random.randrange(1, 7)\n",
    "    die2 = random.randrange(1, 7)\n",
    "    return (die1, die2) # pack die face values into a tuple\n",
    "def dice_display(dice):\n",
    "    \"\"\"display one roll of two dice.\"\"\"\n",
    "    die1, die2 = dice  # unpack the tuple into variables die1 and die2\n",
    "    print(f\"player rolled {die1} + {die2} = {sum(dice)}\")\n",
    "die_values = dice_roll() # first roll\n",
    "dice_display(die_values)\n",
    "# determin game status and point, based on first roll\n",
    "sum_of_dice = sum(die_values)\n",
    "if sum_of_dice in (7, 11): # win\n",
    "    game_status = \"won\"\n",
    "elif sum_of_dice in (2, 3, 12): # lost\n",
    "    game_status = \"lost\"\n",
    "else: # remember point\n",
    "    game_status = \"continue\"\n",
    "    my_point = sum_of_dice\n",
    "    print(\"point is \", my_point)\n",
    "# continue rolling until player wins or loses\n",
    "while game_status == \"CONTINUE\":\n",
    "    die_values = dice_roll()\n",
    "    dice_display(die_values)\n",
    "    sum_of_dice = sum(die_values)\n",
    "    if sum_of_dice == my_point: # win by making points\n",
    "        game_status = \"won\"\n",
    "    elif sum_of_dice == 7: # lost by rolling 7\n",
    "        game_status = \"lost\"\n",
    "# display \"wins\" or \"loses\" messages\n",
    "if game_status == \"won\":\n",
    "    print('player wins')\n",
    "else:\n",
    "    print('player loses')\n"
   ]
  },
  {
   "cell_type": "code",
   "execution_count": 61,
   "id": "58ab2b1d-dca5-4651-9ef5-d812b0974fcd",
   "metadata": {},
   "outputs": [
    {
     "name": "stdout",
     "output_type": "stream",
     "text": [
      "('nri', [90, 76, 81])\n"
     ]
    }
   ],
   "source": [
    "# eg\n",
    "# pack a food tuple with the name nri and the list [90, 76, 81],\n",
    "# display the tuple, then unpack it into variables name and types, display their class\n",
    "\n",
    "food = (\"nri\" , [90, 76, 81])\n",
    "print(food)"
   ]
  },
  {
   "cell_type": "code",
   "execution_count": 63,
   "id": "a3d83fb5-2045-4ff5-98c0-cf4098f40c43",
   "metadata": {},
   "outputs": [
    {
     "name": "stdout",
     "output_type": "stream",
     "text": [
      "nri: [90, 76, 81]\n"
     ]
    }
   ],
   "source": [
    "name, types = food\n",
    "print(f\"{name}: {types}\")"
   ]
  },
  {
   "cell_type": "code",
   "execution_count": 74,
   "id": "e72416e0-1ce7-4db2-b5bd-ca7c424e74ff",
   "metadata": {},
   "outputs": [
    {
     "data": {
      "text/plain": [
       "6"
      ]
     },
     "execution_count": 74,
     "metadata": {},
     "output_type": "execute_result"
    }
   ],
   "source": [
    "# a default parameter value is specified following a parameter name with an \"=\" and a \"value\"\n",
    "# any parameter with default parameter values must appear in the parameter list to the right of parameter that do not have defaults.\n",
    "def rectangle_area(length=2,width=3):\n",
    "    \"\"\"return a rectangle's area\"\"\"\n",
    "    return length * width\n",
    "rectangle_area() # there is no argument here, python uses both default parameters (2, 3)"
   ]
  },
  {
   "cell_type": "code",
   "execution_count": 76,
   "id": "f85a83ba-d015-44ff-b060-f3271fe6d4f3",
   "metadata": {},
   "outputs": [
    {
     "data": {
      "text/plain": [
       "30"
      ]
     },
     "execution_count": 76,
     "metadata": {},
     "output_type": "execute_result"
    }
   ],
   "source": [
    "rectangle_area(10) # there is just one argument here (10), arguments are assigned from left to right, so 10 takes the length, 3 takes the width"
   ]
  },
  {
   "cell_type": "code",
   "execution_count": 77,
   "id": "51dcba18-5590-448f-a95d-596790846f0f",
   "metadata": {},
   "outputs": [
    {
     "data": {
      "text/plain": [
       "50"
      ]
     },
     "execution_count": 77,
     "metadata": {},
     "output_type": "execute_result"
    }
   ],
   "source": [
    "rectangle_area(10, 5) # both arguments are present in this case, python ignores the default parameters"
   ]
  },
  {
   "cell_type": "code",
   "execution_count": 78,
   "id": "890e9bb3-35fd-4c23-8c4f-39f6a2517649",
   "metadata": {},
   "outputs": [
    {
     "data": {
      "text/plain": [
       "50"
      ]
     },
     "execution_count": 78,
     "metadata": {},
     "output_type": "execute_result"
    }
   ],
   "source": [
    "# keyword argument can be used to pass argument in any order\n",
    "def rectangle_area(length, width):\n",
    "    \"\"\"return rectangle's area\"\"\"\n",
    "    return length * width\n",
    "rectangle_area(width=5, length=10) # remember, they do not need to match their position"
   ]
  },
  {
   "cell_type": "code",
   "execution_count": 83,
   "id": "5b8c4d59-270b-4bc9-94b0-129b9272ad0a",
   "metadata": {},
   "outputs": [
    {
     "data": {
      "text/plain": [
       "7.5"
      ]
     },
     "execution_count": 83,
     "metadata": {},
     "output_type": "execute_result"
    }
   ],
   "source": [
    "# arbitrary argument list such as built in functions min and max, can receive any number of arguments.\n",
    "# min has two required parameters (arg1 and arg2) and an optional third parameter of the form *args, indicating that the function can receive any number s additional arguments\n",
    "# the * before the parameter name tells python to pack any remaining arguments into a tuple that is passed to the args parameter.\n",
    "\n",
    "min(88, 75, 96, 55, 83) # arg1 receives 88, arg2 receives 75 and *args receives the tuple (96, 55, 83)\n",
    "\n",
    "# lets define average function that can receive any number of arguments\n",
    "def average(*args):\n",
    "    return sum(args) / len(args) \n",
    "# the parameter name args is used by convention, if the function has multiple parameter, the *args is the rightmost parameter\n",
    "average(5, 10)"
   ]
  },
  {
   "cell_type": "code",
   "execution_count": 84,
   "id": "7a7c8360-be37-49f2-918d-1dbfba97318c",
   "metadata": {},
   "outputs": [
    {
     "data": {
      "text/plain": [
       "10.0"
      ]
     },
     "execution_count": 84,
     "metadata": {},
     "output_type": "execute_result"
    }
   ],
   "source": [
    "average(5, 10, 15)"
   ]
  },
  {
   "cell_type": "code",
   "execution_count": 85,
   "id": "7935846d-3c19-41e9-a8b6-0e921b7f0cfa",
   "metadata": {},
   "outputs": [
    {
     "data": {
      "text/plain": [
       "12.5"
      ]
     },
     "execution_count": 85,
     "metadata": {},
     "output_type": "execute_result"
    }
   ],
   "source": [
    "average(5, 10, 15, 20)"
   ]
  },
  {
   "cell_type": "code",
   "execution_count": 86,
   "id": "5e820eb6-6155-453a-9f0a-9a64d9136c54",
   "metadata": {},
   "outputs": [
    {
     "data": {
      "text/plain": [
       "258.8"
      ]
     },
     "execution_count": 86,
     "metadata": {},
     "output_type": "execute_result"
    }
   ],
   "source": [
    "# you can unpack a tuples, list or other iterable element to pass them as individual function argument\n",
    "# the * operator when applied to an iterable argument in a function call, unpacks its element .\n",
    "\n",
    "medicine_price = [100, 375, 289, 210, 320]\n",
    "average(*medicine_price)"
   ]
  },
  {
   "cell_type": "code",
   "execution_count": 87,
   "id": "b6959dec-5aa2-4c3a-a072-6385a40e9ec2",
   "metadata": {},
   "outputs": [
    {
     "data": {
      "text/plain": [
       "400000"
      ]
     },
     "execution_count": 87,
     "metadata": {},
     "output_type": "execute_result"
    }
   ],
   "source": [
    "# a function name roziel_pharmacy receives an arbitrary argument list and returns the product of all the argument.\n",
    "# call the function with the argument 50, 80, and 100, the with the sequence of integers by range(1, 8,  2)\n",
    "\n",
    "def roziel_pharmacy(*apc):\n",
    "    product = 1\n",
    "    for value in apc:\n",
    "        product *= value\n",
    "    return product\n",
    "roziel_pharmacy(50, 80, 100)"
   ]
  },
  {
   "cell_type": "code",
   "execution_count": 88,
   "id": "a0b23dd0-8c03-4717-b6ea-ea2fc3937eba",
   "metadata": {},
   "outputs": [
    {
     "data": {
      "text/plain": [
       "105"
      ]
     },
     "execution_count": 88,
     "metadata": {},
     "output_type": "execute_result"
    }
   ],
   "source": [
    "roziel_pharmacy(*range(1, 8, 2))"
   ]
  },
  {
   "cell_type": "code",
   "execution_count": 89,
   "id": "118a9b7a-3e30-42c6-8cda-22d89b838457",
   "metadata": {},
   "outputs": [
    {
     "data": {
      "text/plain": [
       "140720954991720"
      ]
     },
     "execution_count": 89,
     "metadata": {},
     "output_type": "execute_result"
    }
   ],
   "source": [
    "# the built-in id function is used to obtain a unique int value which identifies only that object while it remains in memory\n",
    "x = 7\n",
    "id(x)"
   ]
  },
  {
   "cell_type": "code",
   "execution_count": 92,
   "id": "fd8cb01b-0938-4c8f-8d77-ccf0de224359",
   "metadata": {},
   "outputs": [
    {
     "name": "stdout",
     "output_type": "stream",
     "text": [
      "id(number): 140720954991720\n"
     ]
    },
    {
     "data": {
      "text/plain": [
       "343"
      ]
     },
     "execution_count": 92,
     "metadata": {},
     "output_type": "execute_result"
    }
   ],
   "source": [
    "# let's try to pass an object to a function\n",
    "def cube(number):\n",
    "    print('id(number):', id(number))\n",
    "    return number **3\n",
    "cube(x)"
   ]
  },
  {
   "cell_type": "code",
   "execution_count": 93,
   "id": "835561b1-9ecb-4aaf-b462-f97864f5adb2",
   "metadata": {},
   "outputs": [
    {
     "name": "stdout",
     "output_type": "stream",
     "text": [
      "number is x: True\n"
     ]
    },
    {
     "data": {
      "text/plain": [
       "343"
      ]
     },
     "execution_count": 93,
     "metadata": {},
     "output_type": "execute_result"
    }
   ],
   "source": [
    "# let's test object idetities with the \"is\" operator.\n",
    "# it can prove if the argument and the parameter refer to the same object by displaying \"True\" if the two operands have the same identity\n",
    "\n",
    "def cube(number):\n",
    "    print ('number is x:', number is x) # x is a global varaible\n",
    "    return number **3\n",
    "cube(x)"
   ]
  },
  {
   "cell_type": "code",
   "execution_count": 81,
   "id": "e80d1db0-d55e-4972-9553-b167b43c6588",
   "metadata": {},
   "outputs": [
    {
     "name": "stdout",
     "output_type": "stream",
     "text": [
      "id(number) before modifying number: 140720954991592\n",
      "id(number) after modifying number: 140720954992360\n"
     ]
    },
    {
     "data": {
      "text/plain": [
       "27"
      ]
     },
     "execution_count": 81,
     "metadata": {},
     "output_type": "execute_result"
    }
   ],
   "source": [
    "# IMMUTABLE objects as arguments; immutable means unmodifiable, \n",
    "# when a function receives as an argument reference to an immutable object such as int, float, string or tuple.\n",
    "# you cannot modify the original immutable objects value.\n",
    "\n",
    "def cube(number):\n",
    "    print('id(number) before modifying number:' , id(number))\n",
    "    number **= 3\n",
    "    print('id(number) after modifying number:' , id(number))\n",
    "    return number\n",
    "cube(3)"
   ]
  },
  {
   "cell_type": "code",
   "execution_count": 94,
   "id": "03eb49ae-35ff-46cf-ae95-a67068b037fb",
   "metadata": {},
   "outputs": [
    {
     "data": {
      "text/plain": [
       "5.4"
      ]
     },
     "execution_count": 94,
     "metadata": {},
     "output_type": "execute_result"
    }
   ],
   "source": [
    "# measure of dispersion include finding the variance and standard deviation of a porpulation or sample size.\n",
    "# to determine the variance, find the mean value, subtract the mean value from the initial value, \n",
    "# square the resulting value to get a positive value, finally, calculate the mean of the squares.\n",
    "\n",
    "import statistics\n",
    "statistics.pvariance([3,6,8,5,1,7,4,8,2,6])"
   ]
  },
  {
   "cell_type": "code",
   "execution_count": 95,
   "id": "0d1b4b1f-d75b-4f3d-845d-c5576c933a9d",
   "metadata": {},
   "outputs": [
    {
     "data": {
      "text/plain": [
       "2.32379000772445"
      ]
     },
     "execution_count": 95,
     "metadata": {},
     "output_type": "execute_result"
    }
   ],
   "source": [
    "# the standard deviation is the square root of the variance\n",
    "statistics.pstdev([3,6,8,5,1,7,4,8,2,6])"
   ]
  },
  {
   "cell_type": "code",
   "execution_count": 96,
   "id": "8ce01821-bfb8-4487-a5b5-33e4920d2bf7",
   "metadata": {},
   "outputs": [
    {
     "data": {
      "text/plain": [
       "2.32379000772445"
      ]
     },
     "execution_count": 96,
     "metadata": {},
     "output_type": "execute_result"
    }
   ],
   "source": [
    "# passing the pvariance functions result to the math module sqrt function also confirms the result from the standard deviation\n",
    "\n",
    "import math\n",
    "math.sqrt(statistics.pvariance([3,6,8,5,1,7,4,8,2,6]))"
   ]
  },
  {
   "cell_type": "code",
   "execution_count": 99,
   "id": "e7ea86a3-e30a-446c-aded-1cde2bd402a2",
   "metadata": {},
   "outputs": [
    {
     "name": "stdout",
     "output_type": "stream",
     "text": [
      "[-45, 8, 0, 56, 1943]\n"
     ]
    }
   ],
   "source": [
    "# list typically stores homogeneous data(values of same data type) and heterogeneous data(data of different types)\n",
    "# [-45, 8, 0 , 56, 1943] is an example of homogeneous data\n",
    "# ['dozie', 'sheila', 3.57, 2986] is an example of an heterogeneous data\n",
    "# the first element in a list has an index of 0, the second element has an index 1, the third element has an index 2 etc\n",
    "# an index must be an integer or an integer expression\n",
    "# lists are mutable i.e their elements can be modified\n",
    "# to determine the lists length, we use the len function\n",
    "# strings and tuple are immutable i.e they cant be modified\n",
    "\n",
    "c = [-45, 8, 0, 56, 1943] # lists\n",
    "print(c)\n"
   ]
  },
  {
   "cell_type": "code",
   "execution_count": 100,
   "id": "40d28bb3-74ef-4957-9207-b3692876d839",
   "metadata": {},
   "outputs": [
    {
     "data": {
      "text/plain": [
       "-45"
      ]
     },
     "execution_count": 100,
     "metadata": {},
     "output_type": "execute_result"
    }
   ],
   "source": [
    "c[0] # indexing\n"
   ]
  },
  {
   "cell_type": "code",
   "execution_count": 101,
   "id": "48594b1e-b924-4fd0-b027-cc9f95043b0b",
   "metadata": {},
   "outputs": [
    {
     "data": {
      "text/plain": [
       "1943"
      ]
     },
     "execution_count": 101,
     "metadata": {},
     "output_type": "execute_result"
    }
   ],
   "source": [
    "c[4] #idexing"
   ]
  },
  {
   "cell_type": "code",
   "execution_count": 102,
   "id": "4ef8b5fe-cc4d-4c24-8d01-60080b746fe5",
   "metadata": {},
   "outputs": [
    {
     "data": {
      "text/plain": [
       "1943"
      ]
     },
     "execution_count": 102,
     "metadata": {},
     "output_type": "execute_result"
    }
   ],
   "source": [
    "c[-1]"
   ]
  },
  {
   "cell_type": "code",
   "execution_count": 103,
   "id": "60e94de5-24a3-4675-a954-f78580f49e15",
   "metadata": {},
   "outputs": [
    {
     "data": {
      "text/plain": [
       "-45"
      ]
     },
     "execution_count": 103,
     "metadata": {},
     "output_type": "execute_result"
    }
   ],
   "source": [
    "c[-5]"
   ]
  },
  {
   "cell_type": "code",
   "execution_count": 104,
   "id": "b8d10360-92b1-4529-80c7-d27e5ddb8fa7",
   "metadata": {},
   "outputs": [
    {
     "data": {
      "text/plain": [
       "56"
      ]
     },
     "execution_count": 104,
     "metadata": {},
     "output_type": "execute_result"
    }
   ],
   "source": [
    "a = 1\n",
    "b = 2\n",
    "c[a + b] # indexing"
   ]
  },
  {
   "cell_type": "code",
   "execution_count": 105,
   "id": "4b119bf3-91ed-411a-8eb7-bcfa29a11295",
   "metadata": {},
   "outputs": [
    {
     "data": {
      "text/plain": [
       "[-45, 8, 2024, 56, 1943]"
      ]
     },
     "execution_count": 105,
     "metadata": {},
     "output_type": "execute_result"
    }
   ],
   "source": [
    "c[2] = 2024 # list are mutable\n",
    "c"
   ]
  },
  {
   "cell_type": "code",
   "execution_count": 106,
   "id": "64f08e8d-9d33-411a-a2eb-59fb7ca068f3",
   "metadata": {},
   "outputs": [
    {
     "data": {
      "text/plain": [
       "5"
      ]
     },
     "execution_count": 106,
     "metadata": {},
     "output_type": "execute_result"
    }
   ],
   "source": [
    "# in determining the length of a list, we use the inbuilt len function\n",
    "len(c)"
   ]
  },
  {
   "cell_type": "code",
   "execution_count": 107,
   "id": "53cafd03-7c99-4d88-a3f4-901814cc662e",
   "metadata": {},
   "outputs": [
    {
     "data": {
      "text/plain": [
       "1943"
      ]
     },
     "execution_count": 107,
     "metadata": {},
     "output_type": "execute_result"
    }
   ],
   "source": [
    "# also you can assess a list from the end with negative indices\n",
    "c[-1]"
   ]
  },
  {
   "cell_type": "code",
   "execution_count": 108,
   "id": "881a14c0-4abe-40b5-b05f-5b838fa5a8b6",
   "metadata": {},
   "outputs": [
    {
     "data": {
      "text/plain": [
       "-45"
      ]
     },
     "execution_count": 108,
     "metadata": {},
     "output_type": "execute_result"
    }
   ],
   "source": [
    "c[-5]"
   ]
  },
  {
   "cell_type": "code",
   "execution_count": 110,
   "id": "aea5e6bc-ddfb-47f7-88cc-cc06b967b36e",
   "metadata": {},
   "outputs": [
    {
     "data": {
      "text/plain": [
       "[1, 2, 3, 4, 5, 6, 7, 8, 9]"
      ]
     },
     "execution_count": 110,
     "metadata": {},
     "output_type": "execute_result"
    }
   ],
   "source": [
    "# appending to a list with +=, you have to start with an empty list [] then use the for statement and += to append the values.\n",
    "mawii_list = []\n",
    "for number in range(1, 10):\n",
    "    mawii_list += [number]\n",
    "mawii_list    "
   ]
  },
  {
   "cell_type": "code",
   "execution_count": 111,
   "id": "d2f4d5e2-fa1d-4a83-b327-b5ac082dd044",
   "metadata": {},
   "outputs": [
    {
     "data": {
      "text/plain": [
       "[20, 40, 60, 50, 80, 100]"
      ]
     },
     "execution_count": 111,
     "metadata": {},
     "output_type": "execute_result"
    }
   ],
   "source": [
    "# you can also concatenate two lists, two tuple or two strings using the + operator\n",
    "mawii_list_one = [20, 40, 60]\n",
    "rose_list_1 = [50, 80, 100]\n",
    "concatenated_list = mawii_list_one + rose_list_1\n",
    "concatenated_list"
   ]
  },
  {
   "cell_type": "code",
   "execution_count": 112,
   "id": "72b1e6e6-0c48-4d32-a15d-2042bb8ff009",
   "metadata": {},
   "outputs": [
    {
     "name": "stdout",
     "output_type": "stream",
     "text": [
      "0: 20\n",
      "1: 40\n",
      "2: 60\n",
      "3: 50\n",
      "4: 80\n",
      "5: 100\n"
     ]
    }
   ],
   "source": [
    "# you can also use the for and range to access lists indices an values\n",
    "for i in range(len(concatenated_list)):\n",
    "    print(f'{i}: {concatenated_list[i]}')"
   ]
  },
  {
   "cell_type": "code",
   "execution_count": 113,
   "id": "1f2c0d5a-439a-40f2-96f6-be2131955fa8",
   "metadata": {},
   "outputs": [
    {
     "data": {
      "text/plain": [
       "True"
      ]
     },
     "execution_count": 113,
     "metadata": {},
     "output_type": "execute_result"
    }
   ],
   "source": [
    "# the comparison operator can compare lists element by element\n",
    "q = [1, 2, 3]\n",
    "w = [1, 2, 3]\n",
    "e= [1, 2, 3, 4]\n",
    "q == w"
   ]
  },
  {
   "cell_type": "code",
   "execution_count": 114,
   "id": "8997bae9-35fd-487d-bfe9-51b23ce2d95b",
   "metadata": {},
   "outputs": [
    {
     "data": {
      "text/plain": [
       "False"
      ]
     },
     "execution_count": 114,
     "metadata": {},
     "output_type": "execute_result"
    }
   ],
   "source": [
    "q == e"
   ]
  },
  {
   "cell_type": "code",
   "execution_count": 115,
   "id": "5bd70fba-bfc0-47eb-a7d5-7288634eb962",
   "metadata": {},
   "outputs": [
    {
     "data": {
      "text/plain": [
       "True"
      ]
     },
     "execution_count": 115,
     "metadata": {},
     "output_type": "execute_result"
    }
   ],
   "source": [
    "q < e"
   ]
  },
  {
   "cell_type": "code",
   "execution_count": 117,
   "id": "15aab908-8e17-487d-adc9-7712234f9ba8",
   "metadata": {},
   "outputs": [
    {
     "data": {
      "text/plain": [
       "True"
      ]
     },
     "execution_count": 117,
     "metadata": {},
     "output_type": "execute_result"
    }
   ],
   "source": [
    "e >= w"
   ]
  },
  {
   "cell_type": "code",
   "execution_count": 118,
   "id": "d9d0cda5-ad41-4921-9fb4-28379f1f5ed6",
   "metadata": {},
   "outputs": [
    {
     "data": {
      "text/plain": [
       "[1, 4, 9, 16, 25, 36, 49]"
      ]
     },
     "execution_count": 118,
     "metadata": {},
     "output_type": "execute_result"
    }
   ],
   "source": [
    "# create a function roziel_list that squares each element of a list with numbers containing 1 through 7.\n",
    "def roziel_list(values):\n",
    "    for i in range(len(values)):\n",
    "        values[i] **= 2\n",
    "\n",
    "numbers = [1, 2, 3 , 4, 5, 6, 7]\n",
    "roziel_list(numbers)\n",
    "numbers\n",
    "        \n",
    "        \n",
    "        "
   ]
  },
  {
   "cell_type": "code",
   "execution_count": 119,
   "id": "e5c287b5-149b-4e7b-b003-eb170e4d9a60",
   "metadata": {},
   "outputs": [
    {
     "data": {
      "text/plain": [
       "['p', 'y', 'r', 'a', 'n', 't', 'r', 'i', 'n']"
      ]
     },
     "execution_count": 119,
     "metadata": {},
     "output_type": "execute_result"
    }
   ],
   "source": [
    "# use an empty list named faruq and += augumented assignment statement to convert the string 'pyrantrin' into a list\n",
    "faruq = []\n",
    "faruq += 'pyrantrin'\n",
    "faruq"
   ]
  },
  {
   "cell_type": "code",
   "execution_count": 120,
   "id": "03c7ece7-02fc-47f5-af91-c796d8879996",
   "metadata": {},
   "outputs": [
    {
     "data": {
      "text/plain": [
       "()"
      ]
     },
     "execution_count": 120,
     "metadata": {},
     "output_type": "execute_result"
    }
   ],
   "source": [
    "# a Tuple is immutable, stores heterogeneous data but the data can be homogeneous, it cannot change its length of number during program execution.\n",
    "# to create a Tuple , you need to use an empty parenthesis ()\n",
    "adil_tuple = ()\n",
    "adil_tuple"
   ]
  },
  {
   "cell_type": "code",
   "execution_count": 121,
   "id": "c81f3315-e1ee-4579-adea-50aaee96b9cd",
   "metadata": {},
   "outputs": [
    {
     "data": {
      "text/plain": [
       "0"
      ]
     },
     "execution_count": 121,
     "metadata": {},
     "output_type": "execute_result"
    }
   ],
   "source": [
    "len(adil_tuple)"
   ]
  },
  {
   "cell_type": "code",
   "execution_count": 122,
   "id": "f7efdb24-c113-419c-9ecf-6e8d14fe07bf",
   "metadata": {},
   "outputs": [
    {
     "data": {
      "text/plain": [
       "('favour', 'dozie', 'nne')"
      ]
     },
     "execution_count": 122,
     "metadata": {},
     "output_type": "execute_result"
    }
   ],
   "source": [
    "adil_tuple = 'favour', 'dozie', 'nne'\n",
    "adil_tuple"
   ]
  },
  {
   "cell_type": "code",
   "execution_count": 123,
   "id": "08e5e043-0c65-45a7-b7bb-012895c2170b",
   "metadata": {},
   "outputs": [
    {
     "data": {
      "text/plain": [
       "3"
      ]
     },
     "execution_count": 123,
     "metadata": {},
     "output_type": "execute_result"
    }
   ],
   "source": [
    "len(adil_tuple)"
   ]
  },
  {
   "cell_type": "code",
   "execution_count": 124,
   "id": "a7d208aa-9fed-42aa-a3f0-ee7b07daee20",
   "metadata": {},
   "outputs": [
    {
     "data": {
      "text/plain": [
       "('jacob', 'kste', 'malachi')"
      ]
     },
     "execution_count": 124,
     "metadata": {},
     "output_type": "execute_result"
    }
   ],
   "source": [
    "malawii_tuple = ( 'jacob', 'kste', 'malachi')\n",
    "malawii_tuple"
   ]
  },
  {
   "cell_type": "code",
   "execution_count": 126,
   "id": "621abc06-d771-487a-a55f-c2c6b0ad29ef",
   "metadata": {},
   "outputs": [
    {
     "data": {
      "text/plain": [
       "(100, 200, 300)"
      ]
     },
     "execution_count": 126,
     "metadata": {},
     "output_type": "execute_result"
    }
   ],
   "source": [
    "# assessing elements in tuple can be done individually. tuple indices starts with 0 same way with list\n",
    "drug_tuple = (100, 200, 300)\n",
    "drug_tuple"
   ]
  },
  {
   "cell_type": "code",
   "execution_count": 127,
   "id": "25b2f00a-c5bd-45d3-8231-d72c7e94786f",
   "metadata": {},
   "outputs": [
    {
     "data": {
      "text/plain": [
       "600"
      ]
     },
     "execution_count": 127,
     "metadata": {},
     "output_type": "execute_result"
    }
   ],
   "source": [
    "drug_tuple[0] + drug_tuple[1] + drug_tuple[2]"
   ]
  },
  {
   "cell_type": "code",
   "execution_count": 130,
   "id": "31855253-3210-49e2-8b6a-db65d4b2d795",
   "metadata": {},
   "outputs": [
    {
     "data": {
      "text/plain": [
       "(10, 20, 30)"
      ]
     },
     "execution_count": 130,
     "metadata": {},
     "output_type": "execute_result"
    }
   ],
   "source": [
    "# adding items to tuple and strings still use the += augmented assignment statement despite being immutable.\n",
    "vega_tuple1 = (10, 20, 30)\n",
    "vega_tuple2 = vega_tuple1\n",
    "vega_tuple2"
   ]
  },
  {
   "cell_type": "code",
   "execution_count": 131,
   "id": "cd6a883b-d292-43ca-8057-2ece54579655",
   "metadata": {},
   "outputs": [
    {
     "data": {
      "text/plain": [
       "(10, 20, 30, 40, 50)"
      ]
     },
     "execution_count": 131,
     "metadata": {},
     "output_type": "execute_result"
    }
   ],
   "source": [
    "vega_tuple1 += (40, 50)  # concatenation of another value into vega_tuple1 using +=\n",
    "vega_tuple1\n",
    "# remember,for a string or tuple, the item to the right of += must be a string or tuple respectively"
   ]
  },
  {
   "cell_type": "code",
   "execution_count": 132,
   "id": "ad4b1bc1-9d8f-47c2-abea-51e5db02cbc5",
   "metadata": {},
   "outputs": [
    {
     "data": {
      "text/plain": [
       "(10, 20, 30)"
      ]
     },
     "execution_count": 132,
     "metadata": {},
     "output_type": "execute_result"
    }
   ],
   "source": [
    "vega_tuple2 # this still remains the same with vega_tuple1 before the concatenation "
   ]
  },
  {
   "cell_type": "code",
   "execution_count": 133,
   "id": "2a189d64-adbc-444b-922d-1a2f54b1be78",
   "metadata": {},
   "outputs": [
    {
     "data": {
      "text/plain": [
       "[1, 2, 3, 4, 5, 6, 7, 8, 9, 10, 11]"
      ]
     },
     "execution_count": 133,
     "metadata": {},
     "output_type": "execute_result"
    }
   ],
   "source": [
    "# appending tuples to a list\n",
    "numbers = [1,2,3,4,5,6,7,8,9,]          # list\n",
    "numbers += (10,11)                     # tuple\n",
    "numbers"
   ]
  },
  {
   "cell_type": "code",
   "execution_count": 135,
   "id": "cb672643-b407-44eb-8e3a-ec2926995abc",
   "metadata": {},
   "outputs": [
    {
     "data": {
      "text/plain": [
       "('savio', 'ahiwe', 'enudi', [98, 85, 88])"
      ]
     },
     "execution_count": 135,
     "metadata": {},
     "output_type": "execute_result"
    }
   ],
   "source": [
    "# tuples may contain mutable objects\n",
    "\n",
    "class_tuple = ('savio', 'ahiwe', 'enudi', [98, 67, 88]) # despite tuple being immutable, its list element are mutable\n",
    "class_tuple[3][1] = 85 # [3] is an element of the tuple containing the list, [1] is the positioning on the list\n",
    "class_tuple\n"
   ]
  },
  {
   "cell_type": "code",
   "execution_count": 142,
   "id": "19ae87cb-653d-4660-b621-cf08a91fbc6a",
   "metadata": {},
   "outputs": [
    {
     "data": {
      "text/plain": [
       "'akorita'"
      ]
     },
     "execution_count": 142,
     "metadata": {},
     "output_type": "execute_result"
    }
   ],
   "source": [
    "# unpacking any sequence involves assigning the sequence to a comma-separated list of variables\n",
    "pharmacy_tuple = ( 'akorita', 'azaya', [100, 105, 206])\n",
    "native_name, grades , house = pharmacy_tuple\n",
    "native_name"
   ]
  },
  {
   "cell_type": "code",
   "execution_count": 143,
   "id": "4b13b15d-b017-4c4e-b0b9-86e500f0146f",
   "metadata": {},
   "outputs": [
    {
     "data": {
      "text/plain": [
       "'azaya'"
      ]
     },
     "execution_count": 143,
     "metadata": {},
     "output_type": "execute_result"
    }
   ],
   "source": [
    "grades"
   ]
  },
  {
   "cell_type": "code",
   "execution_count": 144,
   "id": "c9752b53-3ae2-403c-9ba5-76cb5ef94c9e",
   "metadata": {},
   "outputs": [
    {
     "data": {
      "text/plain": [
       "[100, 105, 206]"
      ]
     },
     "execution_count": 144,
     "metadata": {},
     "output_type": "execute_result"
    }
   ],
   "source": [
    "house"
   ]
  },
  {
   "cell_type": "code",
   "execution_count": 145,
   "id": "318206aa-96f2-46b3-824a-20fec94989ca",
   "metadata": {},
   "outputs": [
    {
     "name": "stdout",
     "output_type": "stream",
     "text": [
      "b y e\n"
     ]
    }
   ],
   "source": [
    "# we can also unpack a string, a list and a sequence produced by range\n",
    "first, second, third = 'bye'\n",
    "print(f\"{first} {second} {third}\")"
   ]
  },
  {
   "cell_type": "code",
   "execution_count": 146,
   "id": "37c9ab64-a3d8-4c23-86ad-a8d24aa5561c",
   "metadata": {},
   "outputs": [
    {
     "name": "stdout",
     "output_type": "stream",
     "text": [
      "1 2 3\n"
     ]
    }
   ],
   "source": [
    "un , duo , treis = [1, 2 ,3]\n",
    "print(f\"{un} {duo} {treis}\")"
   ]
  },
  {
   "cell_type": "code",
   "execution_count": 154,
   "id": "59a89f37-2923-42d4-a14c-1977e33d157c",
   "metadata": {},
   "outputs": [
    {
     "name": "stdout",
     "output_type": "stream",
     "text": [
      "10 20 30\n"
     ]
    }
   ],
   "source": [
    "cinq , six , sept = range(10,40, 10)\n",
    "print(f\"{cinq} {six} {sept}\")"
   ]
  },
  {
   "cell_type": "code",
   "execution_count": null,
   "id": "d6df6c91-0ad6-426d-9c1c-cc37835044ca",
   "metadata": {},
   "outputs": [],
   "source": []
  }
 ],
 "metadata": {
  "kernelspec": {
   "display_name": "Python 3 (ipykernel)",
   "language": "python",
   "name": "python3"
  },
  "language_info": {
   "codemirror_mode": {
    "name": "ipython",
    "version": 3
   },
   "file_extension": ".py",
   "mimetype": "text/x-python",
   "name": "python",
   "nbconvert_exporter": "python",
   "pygments_lexer": "ipython3",
   "version": "3.13.0"
  }
 },
 "nbformat": 4,
 "nbformat_minor": 5
}
