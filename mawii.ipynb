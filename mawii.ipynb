{
 "cells": [
  {
   "cell_type": "code",
   "execution_count": 1,
   "id": "be9ac3b4-3065-4eb2-a673-6de286627f33",
   "metadata": {},
   "outputs": [
    {
     "name": "stdin",
     "output_type": "stream",
     "text": [
      "enter result(1= pass, 2= fail):   1\n",
      "enter result(1= pass, 2= fail):   1\n",
      "enter result(1= pass, 2= fail):   1\n",
      "enter result(1= pass, 2= fail):   1\n",
      "enter result(1= pass, 2= fail):   2\n",
      "enter result(1= pass, 2= fail):   1\n",
      "enter result(1= pass, 2= fail):   1\n",
      "enter result(1= pass, 2= fail):   1\n",
      "enter result(1= pass, 2= fail):   1\n",
      "enter result(1= pass, 2= fail):   1\n"
     ]
    },
    {
     "name": "stdout",
     "output_type": "stream",
     "text": [
      "passed: 9\n",
      "failed: 1\n",
      "bonus to malawii\n"
     ]
    },
    {
     "name": "stdin",
     "output_type": "stream",
     "text": [
      "enter an integer:   20\n"
     ]
    },
    {
     "name": "stdout",
     "output_type": "stream",
     "text": [
      "20 is even\n"
     ]
    },
    {
     "name": "stdin",
     "output_type": "stream",
     "text": [
      "enter an integer:   15\n"
     ]
    },
    {
     "name": "stdout",
     "output_type": "stream",
     "text": [
      "15 is odd\n",
      "9\n",
      "27\n",
      "81\n",
      "P  r  o  g  r  a  m  m  i  n  g  0 1 2 3 4 5 6 7 8 9 0 1 3 6 10 15 21 28 36 45 55 66 78 91 105 "
     ]
    }
   ],
   "source": [
    "# Nested Control Statements\n",
    "#eg \n",
    "#a college offers a course that prepares students pharmacy licensing test.\n",
    "#the college wants to know how well its students did on the exam.\n",
    "#write a programm to compute the result, a list of 10 students were given.\n",
    "#write 1 if student passed and 2 if student failed. \n",
    "\n",
    "\"\"\"using nested control statement to analyze examination results\"\"\"\n",
    "\n",
    "#initialize variables\n",
    "passes = 0 # number of passes\n",
    "failures = 0 # number of failures\n",
    "\n",
    "# process 10 students\n",
    "for student in range(10):\n",
    "    # get one exam result\n",
    "    result = int(input('enter result(1= pass, 2= fail):  '))\n",
    "    if result == 1:\n",
    "        passes = passes + 1\n",
    "    else:\n",
    "        failures = failures + 1\n",
    "# termination phase\n",
    "print('passed:', passes)\n",
    "print('failed:', failures)\n",
    "\n",
    "if passes > 8:\n",
    "    print('bonus to malawii')\n",
    "\n",
    "# using a for statement to input two integers\n",
    "# using a nested if...else statemente to display whether each value is even or odd.\n",
    "# enter 20 and 15 to test my code\n",
    "\n",
    "for count in range(2):\n",
    "    value = int(input('enter an integer:  '))\n",
    "    if value % 2 == 0:\n",
    "        print(f'{value} is even')\n",
    "    else:\n",
    "        print(f'{value} is odd')    \n",
    "    \n",
    "\n",
    "\n",
    "# while statement\n",
    "# this statement allows you to repeat one or more actions while a condition remains True. the statement is called a loop.\n",
    "# using a while loop to find the first power of 3 larger than 50\n",
    "\n",
    "numbers = 3\n",
    "while numbers <= 50:\n",
    "    numbers = numbers * 3\n",
    "    print(numbers)    \n",
    "\n",
    "# for statement allows you to repeat an action or several actions, it perfoms its action for each item in a sequence of items\n",
    "#for example\n",
    "for character in \"Programming\":\n",
    "    print(character, end = \"  \")\n",
    "\n",
    "#range function create an iterable object that represent a sequence of consecutive\n",
    "#integer values starting from 0 and continuing up to , but not including, the argument value\n",
    "\n",
    "for counter in range(10):\n",
    "    print(counter, end=' ')\n",
    "\n",
    "total = 0\n",
    "for numbers in range(15):\n",
    "    total = total + numbers\n",
    "    print(total, end= ' ')"
   ]
  },
  {
   "cell_type": "code",
   "execution_count": 2,
   "id": "24d8d6e5-7d00-44cd-a1c0-b590cbe0bb58",
   "metadata": {},
   "outputs": [
    {
     "ename": "SyntaxError",
     "evalue": "invalid syntax (339777499.py, line 1)",
     "output_type": "error",
     "traceback": [
      "\u001b[1;36m  Cell \u001b[1;32mIn[2], line 1\u001b[1;36m\u001b[0m\n\u001b[1;33m    git status\u001b[0m\n\u001b[1;37m        ^\u001b[0m\n\u001b[1;31mSyntaxError\u001b[0m\u001b[1;31m:\u001b[0m invalid syntax\n"
     ]
    }
   ],
   "source": [
    "git status\n"
   ]
  },
  {
   "cell_type": "code",
   "execution_count": null,
   "id": "b90ec9c9-2371-4a6d-ad86-b3f38e4bf93a",
   "metadata": {},
   "outputs": [],
   "source": []
  }
 ],
 "metadata": {
  "kernelspec": {
   "display_name": "Python 3 (ipykernel)",
   "language": "python",
   "name": "python3"
  },
  "language_info": {
   "codemirror_mode": {
    "name": "ipython",
    "version": 3
   },
   "file_extension": ".py",
   "mimetype": "text/x-python",
   "name": "python",
   "nbconvert_exporter": "python",
   "pygments_lexer": "ipython3",
   "version": "3.13.0"
  }
 },
 "nbformat": 4,
 "nbformat_minor": 5
}
