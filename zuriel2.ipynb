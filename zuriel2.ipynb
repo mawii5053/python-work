{
 "cells": [
  {
   "cell_type": "code",
   "execution_count": 2,
   "id": "0230c77a-0718-43d3-9206-9843f8d85fb5",
   "metadata": {},
   "outputs": [
    {
     "name": "stdout",
     "output_type": "stream",
     "text": [
      "1\n",
      "2\n",
      "3\n",
      "4\n",
      "5\n"
     ]
    }
   ],
   "source": [
    "# the for loop takes a collection of items and executes a block of code once for each item in the collection.\n",
    "# the while loop runs as long as , or while , a certain condition remains true.\n",
    "# you can use the while loop to count series of numbers.\n",
    "initial_number = 1 \n",
    "while initial_number <= 5: \n",
    "    print(initial_number) \n",
    "    initial_number += 1\n",
    "    "
   ]
  },
  {
   "cell_type": "code",
   "execution_count": 1,
   "id": "53d3421d-d42c-4639-a148-3b9a13a75c6d",
   "metadata": {},
   "outputs": [
    {
     "name": "stdin",
     "output_type": "stream",
     "text": [
      "\n",
      "tell me something, and i will repeat it back to you:\n",
      "enter 'quit' to end the program.  dozie\n",
      "\n",
      "tell me something, and i will repeat it back to you:\n",
      "enter 'quit' to end the program.  dozie\n",
      "\n",
      "tell me something, and i will repeat it back to you:\n",
      "enter 'quit' to end the program.  agwulonu\n",
      "\n",
      "tell me something, and i will repeat it back to you:\n",
      "enter 'quit' to end the program.  quit\n"
     ]
    },
    {
     "name": "stdout",
     "output_type": "stream",
     "text": [
      "quit\n"
     ]
    }
   ],
   "source": [
    "prompt = \"\\ntell me something, and i will repeat it back to you:\"\n",
    "prompt += \"\\nenter 'quit' to end the program. \"\n",
    "message = \"\"\n",
    "while message != 'quit':\n",
    "    message = input(prompt)\n",
    "print(message)"
   ]
  },
  {
   "cell_type": "code",
   "execution_count": null,
   "id": "41001b55-bbb3-4b51-b6ef-46cca1c8e9cd",
   "metadata": {},
   "outputs": [],
   "source": [
    "# to exit a \"while loop\" immediately without running any remaining code in the loop,use the \"break statement\"\n",
    "# the break statement can be used to control which lines of code are executed and which aren't, so the program only excute code that you wish.\n",
    "prompt = \"\\nPlease enter the name of the pharmacy you have visited: \"\n",
    "prompt += \"\\n(Enter quit when you are finished.) \"\n",
    "while True:\n",
    "    pharmacy = input(prompt)\n",
    "    if pharmacy == \"quit\":\n",
    "        break\n",
    "    else:\n",
    "        print(f\"I have to visit the facility of {pharmacy.title()} \")"
   ]
  },
  {
   "cell_type": "code",
   "execution_count": null,
   "id": "b871f8d6-0dd8-4fc2-bf04-cb02bc80d943",
   "metadata": {},
   "outputs": [],
   "source": []
  }
 ],
 "metadata": {
  "kernelspec": {
   "display_name": "Python 3 (ipykernel)",
   "language": "python",
   "name": "python3"
  },
  "language_info": {
   "codemirror_mode": {
    "name": "ipython",
    "version": 3
   },
   "file_extension": ".py",
   "mimetype": "text/x-python",
   "name": "python",
   "nbconvert_exporter": "python",
   "pygments_lexer": "ipython3",
   "version": "3.13.0"
  }
 },
 "nbformat": 4,
 "nbformat_minor": 5
}
