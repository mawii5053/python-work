{
 "cells": [
  {
   "cell_type": "code",
   "execution_count": 1,
   "id": "62cefd9c-396d-4afa-8382-4a1f19f2e5ae",
   "metadata": {},
   "outputs": [
    {
     "data": {
      "text/plain": [
       "117"
      ]
     },
     "execution_count": 1,
     "metadata": {},
     "output_type": "execute_result"
    }
   ],
   "source": [
    "45 + 72"
   ]
  },
  {
   "cell_type": "code",
   "execution_count": 2,
   "id": "ba1fcb51-3c31-4d86-ba03-7ba787635620",
   "metadata": {},
   "outputs": [
    {
     "data": {
      "text/plain": [
       "21.75"
      ]
     },
     "execution_count": 2,
     "metadata": {},
     "output_type": "execute_result"
    }
   ],
   "source": [
    "5 * (12.7 - 4) / 2  # asterisk (*) is for multiplication and forward slash (/) for division, parenthesis () force the evaluation order\n",
    "# whole numbers are called integers, while numbers with decimal points are called floating point numbers"
   ]
  },
  {
   "cell_type": "code",
   "execution_count": null,
   "id": "8ec32ab0-b536-4669-8320-29e013ac6377",
   "metadata": {},
   "outputs": [],
   "source": []
  }
 ],
 "metadata": {
  "kernelspec": {
   "display_name": "Python 3 (ipykernel)",
   "language": "python",
   "name": "python3"
  },
  "language_info": {
   "codemirror_mode": {
    "name": "ipython",
    "version": 3
   },
   "file_extension": ".py",
   "mimetype": "text/x-python",
   "name": "python",
   "nbconvert_exporter": "python",
   "pygments_lexer": "ipython3",
   "version": "3.13.0"
  }
 },
 "nbformat": 4,
 "nbformat_minor": 5
}
