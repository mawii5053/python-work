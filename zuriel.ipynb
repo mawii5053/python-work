{
 "cells": [
  {
   "cell_type": "code",
   "execution_count": 4,
   "id": "9f2923de-9e60-46c5-966b-4265dcf4b560",
   "metadata": {},
   "outputs": [
    {
     "name": "stdin",
     "output_type": "stream",
     "text": [
      "what is your surname ? Agwulonu\n"
     ]
    }
   ],
   "source": [
    "# getting input from the user; the built-in  input function requests and obtains user input:\n",
    "name = input(\"what is your surname ?\")\n",
    "# firstly, input displays its string argument called a prompt to tell the user what to type and wait for the user to respond.\n",
    "# we typed Agwulonu and pressed enter\n",
    "# the input function then returns Agwulonu as a string that the program can use \n",
    "# input function always return a string"
   ]
  },
  {
   "cell_type": "code",
   "execution_count": 5,
   "id": "94783706-476a-4581-a512-48105a6aa5d5",
   "metadata": {},
   "outputs": [
    {
     "data": {
      "text/plain": [
       "'Agwulonu'"
      ]
     },
     "execution_count": 5,
     "metadata": {},
     "output_type": "execute_result"
    }
   ],
   "source": [
    "name"
   ]
  },
  {
   "cell_type": "code",
   "execution_count": 8,
   "id": "d19186e7-f2ed-43eb-a9dc-b32ee9853a3b",
   "metadata": {},
   "outputs": [
    {
     "name": "stdout",
     "output_type": "stream",
     "text": [
      "Agwulonu\n"
     ]
    }
   ],
   "source": [
    "print(name)"
   ]
  },
  {
   "cell_type": "code",
   "execution_count": 31,
   "id": "941c7406-2eb3-4326-bcae-d9ab4e077f16",
   "metadata": {},
   "outputs": [
    {
     "name": "stdin",
     "output_type": "stream",
     "text": [
      " : 20\n"
     ]
    }
   ],
   "source": [
    "# getting an integer from the user, the need to convert the string to an integer using the int function is necessary\n",
    "concentration_of_piroxicam = int(input(\" :\"))"
   ]
  },
  {
   "cell_type": "code",
   "execution_count": 21,
   "id": "8ef62bdc-2f1f-4e82-8c45-7cce96a98974",
   "metadata": {},
   "outputs": [],
   "source": [
    "concentration_of_piroxicam = int(concentration_of_piroxicam)"
   ]
  },
  {
   "cell_type": "code",
   "execution_count": 22,
   "id": "3db2a2c0-8861-4399-b379-df07a6451bba",
   "metadata": {},
   "outputs": [
    {
     "data": {
      "text/plain": [
       "20"
      ]
     },
     "execution_count": 22,
     "metadata": {},
     "output_type": "execute_result"
    }
   ],
   "source": [
    "concentration_of_piroxicam"
   ]
  },
  {
   "cell_type": "code",
   "execution_count": 33,
   "id": "c9cb9007-7531-4cba-8bc1-bbb701482045",
   "metadata": {},
   "outputs": [
    {
     "data": {
      "text/plain": [
       "20.46"
      ]
     },
     "execution_count": 33,
     "metadata": {},
     "output_type": "execute_result"
    }
   ],
   "source": [
    "# the built-in int funtion converts a floating point value to an integer or converts a string representation of an integer to an integer value\n",
    "float('6.2') * 3.3"
   ]
  },
  {
   "cell_type": "code",
   "execution_count": null,
   "id": "ebd5d0c7-adfa-4421-8ff6-e5f9b0c1a2bb",
   "metadata": {},
   "outputs": [],
   "source": [
    "# a string is a series of character, anything inside a quote is considered a string in python, it can either be double or single quotes.\n",
    "# eg \"i love my wife\"  , 'azaya is a good guy'  , '''my sister is a foolish human'''"
   ]
  },
  {
   "cell_type": "code",
   "execution_count": 37,
   "id": "0777e55a-ff25-47e2-8ef9-7b30a7c26e9a",
   "metadata": {},
   "outputs": [
    {
     "data": {
      "text/plain": [
       "'Rosemary Orji Ozua'"
      ]
     },
     "execution_count": 37,
     "metadata": {},
     "output_type": "execute_result"
    }
   ],
   "source": [
    "# changing case in a string with methods: this include .title(), .upper(), .lower()   etc\n",
    "# eg \n",
    "name = \"rosemary orji ozua\"\n",
    "(name.title())"
   ]
  },
  {
   "cell_type": "code",
   "execution_count": 38,
   "id": "550654a1-4a22-43b5-be71-ba55c241bf10",
   "metadata": {},
   "outputs": [
    {
     "data": {
      "text/plain": [
       "'ROSEMARY ORJI OZUA'"
      ]
     },
     "execution_count": 38,
     "metadata": {},
     "output_type": "execute_result"
    }
   ],
   "source": [
    "(name.upper())"
   ]
  },
  {
   "cell_type": "code",
   "execution_count": 39,
   "id": "fe2f4a41-c93d-4cd6-be7f-7229170be746",
   "metadata": {},
   "outputs": [
    {
     "data": {
      "text/plain": [
       "'rosemary orji ozua'"
      ]
     },
     "execution_count": 39,
     "metadata": {},
     "output_type": "execute_result"
    }
   ],
   "source": [
    "(name.lower())"
   ]
  },
  {
   "cell_type": "code",
   "execution_count": 43,
   "id": "cfd20f3d-74d0-45e9-9712-3c9c6d01458b",
   "metadata": {},
   "outputs": [
    {
     "data": {
      "text/plain": [
       "'hello , Roziel Pharmacy '"
      ]
     },
     "execution_count": 43,
     "metadata": {},
     "output_type": "execute_result"
    }
   ],
   "source": [
    "# in some situation , you'll want to use variable's value inside a string\n",
    "# to insert a variable inside a string , the letter \"f\" is placed before the opening quotation mark, \n",
    "# a curly braces \"{}\" should be around the variable you want to use inside the string.\n",
    "# \"f\" is for format, f-string is known as a formatted string.\n",
    "\n",
    "company_name = \"roziel\"\n",
    "products = \"pharmacy\"\n",
    "full_name = f\"{company_name} {products}\"\n",
    "(f\"hello , {full_name.title()} \")\n"
   ]
  },
  {
   "cell_type": "code",
   "execution_count": 44,
   "id": "56372de1-250d-4e12-a4c2-5f1ca1a3f85e",
   "metadata": {},
   "outputs": [
    {
     "data": {
      "text/plain": [
       "'roziel'"
      ]
     },
     "execution_count": 44,
     "metadata": {},
     "output_type": "execute_result"
    }
   ],
   "source": [
    "# in programming, whitespace refers to any nonprinting character, such as spaces, tabs, and end-of-line symbols\n",
    "# \\t (tab), \\n(new line), \\n\\t (new line with a tab)\n",
    "(\"roziel\")"
   ]
  },
  {
   "cell_type": "code",
   "execution_count": 51,
   "id": "80910a7b-a624-43d3-9031-cb38f1151908",
   "metadata": {},
   "outputs": [
    {
     "name": "stdout",
     "output_type": "stream",
     "text": [
      "\tRoziel\n"
     ]
    }
   ],
   "source": [
    "print(\"\\tRoziel\")   # \\t (tab)"
   ]
  },
  {
   "cell_type": "code",
   "execution_count": 52,
   "id": "0e0489c3-af06-49fd-b22d-e3129ca53f57",
   "metadata": {},
   "outputs": [
    {
     "name": "stdout",
     "output_type": "stream",
     "text": [
      "\n",
      "roziel\n"
     ]
    }
   ],
   "source": [
    "print('\\nroziel')  #\\n (new line)"
   ]
  },
  {
   "cell_type": "code",
   "execution_count": 53,
   "id": "6fab5aae-af5a-4961-ac10-7a7925313072",
   "metadata": {},
   "outputs": [
    {
     "name": "stdout",
     "output_type": "stream",
     "text": [
      "\n",
      "\troziel\n"
     ]
    }
   ],
   "source": [
    "print('\\n\\troziel')"
   ]
  },
  {
   "cell_type": "code",
   "execution_count": 54,
   "id": "ea15574f-bcd7-4590-b1a8-f6ec005aaffd",
   "metadata": {},
   "outputs": [
    {
     "data": {
      "text/plain": [
       "'   ceftriaxone'"
      ]
     },
     "execution_count": 54,
     "metadata": {},
     "output_type": "execute_result"
    }
   ],
   "source": [
    "# whitespaces can be confusing in programming, there is a need to strip them off using the (.rstrip()), (.lstrip()) or the (.strip()) method.\n",
    "favorite_medicine = \"   ceftriaxone\"\n",
    "(favorite_medicine)"
   ]
  },
  {
   "cell_type": "code",
   "execution_count": 55,
   "id": "6f604b13-3ef8-4fd8-82a9-f9b591ee2594",
   "metadata": {},
   "outputs": [
    {
     "data": {
      "text/plain": [
       "'ceftriaxone'"
      ]
     },
     "execution_count": 55,
     "metadata": {},
     "output_type": "execute_result"
    }
   ],
   "source": [
    "favorite_medicine = \"    ceftriaxone\"\n",
    "(favorite_medicine.strip())"
   ]
  },
  {
   "cell_type": "code",
   "execution_count": 58,
   "id": "f230f403-1aee-4e55-aa61-94175c9de663",
   "metadata": {},
   "outputs": [
    {
     "data": {
      "text/plain": [
       "'ceftriaxone'"
      ]
     },
     "execution_count": 58,
     "metadata": {},
     "output_type": "execute_result"
    }
   ],
   "source": [
    "favorite_medicine = \"ceftriaxone     \"\n",
    "(favorite_medicine.rstrip())"
   ]
  },
  {
   "cell_type": "code",
   "execution_count": 59,
   "id": "5dcaaada-f10d-42a9-8002-f77abec9f29a",
   "metadata": {},
   "outputs": [
    {
     "data": {
      "text/plain": [
       "'ceftriaxone'"
      ]
     },
     "execution_count": 59,
     "metadata": {},
     "output_type": "execute_result"
    }
   ],
   "source": [
    "favorite_medicine = \"       ceftriaxone\"\n",
    "(favorite_medicine.lstrip())"
   ]
  },
  {
   "cell_type": "code",
   "execution_count": 60,
   "id": "0d94c69a-087f-4084-b476-ebad36c81e1e",
   "metadata": {},
   "outputs": [
    {
     "data": {
      "text/plain": [
       "'Hello Dozie, would you like to eat garri today'"
      ]
     },
     "execution_count": 60,
     "metadata": {},
     "output_type": "execute_result"
    }
   ],
   "source": [
    "# exercise\n",
    "first_name = \"dozie\"\n",
    "(f\"Hello {first_name.title()}, would you like to eat garri today\")"
   ]
  },
  {
   "cell_type": "code",
   "execution_count": 61,
   "id": "1f742397-57e6-46a3-af22-897d79af7b9f",
   "metadata": {},
   "outputs": [
    {
     "data": {
      "text/plain": [
       "'kachi'"
      ]
     },
     "execution_count": 61,
     "metadata": {},
     "output_type": "execute_result"
    }
   ],
   "source": [
    "adults_names = 'kachi' \n",
    "(adults_names.lower())"
   ]
  },
  {
   "cell_type": "code",
   "execution_count": 62,
   "id": "0216f9ef-d013-479d-b78d-3bc17e9382dd",
   "metadata": {},
   "outputs": [
    {
     "data": {
      "text/plain": [
       "'KACHI'"
      ]
     },
     "execution_count": 62,
     "metadata": {},
     "output_type": "execute_result"
    }
   ],
   "source": [
    "adults_names = 'kachi' \n",
    "(adults_names.upper())"
   ]
  },
  {
   "cell_type": "code",
   "execution_count": 63,
   "id": "ee6ca8c6-74da-4f6a-936a-92d8d829affd",
   "metadata": {},
   "outputs": [
    {
     "data": {
      "text/plain": [
       "'Kachi'"
      ]
     },
     "execution_count": 63,
     "metadata": {},
     "output_type": "execute_result"
    }
   ],
   "source": [
    "adults_names = 'kachi' \n",
    "(adults_names.title())"
   ]
  },
  {
   "cell_type": "code",
   "execution_count": 66,
   "id": "4a4518ba-966e-4ec8-92b4-3da22c6880b0",
   "metadata": {},
   "outputs": [
    {
     "data": {
      "text/plain": [
       "' Albert Einsteine once said, \"A person who ever made a mistake never tried anything new\".'"
      ]
     },
     "execution_count": 66,
     "metadata": {},
     "output_type": "execute_result"
    }
   ],
   "source": [
    "first_name = \" albert\"\n",
    "last_name = \"einsteine\"\n",
    "(f'''{first_name.title()} {last_name.title()} once said, \"A person who ever made a mistake never tried anything new\".''') "
   ]
  },
  {
   "cell_type": "code",
   "execution_count": 76,
   "id": "d38b7f40-45aa-4400-bcd3-719eae4cf3d0",
   "metadata": {},
   "outputs": [
    {
     "data": {
      "text/plain": [
       "'Hello, i am Mr Malawi Akoluche.'"
      ]
     },
     "execution_count": 76,
     "metadata": {},
     "output_type": "execute_result"
    }
   ],
   "source": [
    "first_name = \"malawi\"\n",
    "last_name = \"akoluche\"\n",
    "famous_name = f\"{first_name} {last_name}\"\n",
    "message = f\" Hello, i am Mr {famous_name.title()}.\"\n",
    "(message.strip())"
   ]
  },
  {
   "cell_type": "code",
   "execution_count": null,
   "id": "aab486dc-9291-4c49-bf86-ea79572a030e",
   "metadata": {},
   "outputs": [],
   "source": []
  }
 ],
 "metadata": {
  "kernelspec": {
   "display_name": "Python 3 (ipykernel)",
   "language": "python",
   "name": "python3"
  },
  "language_info": {
   "codemirror_mode": {
    "name": "ipython",
    "version": 3
   },
   "file_extension": ".py",
   "mimetype": "text/x-python",
   "name": "python",
   "nbconvert_exporter": "python",
   "pygments_lexer": "ipython3",
   "version": "3.13.0"
  }
 },
 "nbformat": 4,
 "nbformat_minor": 5
}
