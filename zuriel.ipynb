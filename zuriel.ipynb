{
 "cells": [
  {
   "cell_type": "code",
   "execution_count": 4,
   "id": "9f2923de-9e60-46c5-966b-4265dcf4b560",
   "metadata": {},
   "outputs": [
    {
     "name": "stdin",
     "output_type": "stream",
     "text": [
      "what is your surname ? Agwulonu\n"
     ]
    }
   ],
   "source": [
    "# getting input from the user; the built-in  input function requests and obtains user input:\n",
    "name = input(\"what is your surname ?\")\n",
    "# firstly, input displays its string argument called a prompt to tell the user what to type and wait for the user to respond.\n",
    "# we typed Agwulonu and pressed enter\n",
    "# the input function then returns Agwulonu as a string that the program can use \n",
    "# input function always return a string"
   ]
  },
  {
   "cell_type": "code",
   "execution_count": 5,
   "id": "94783706-476a-4581-a512-48105a6aa5d5",
   "metadata": {},
   "outputs": [
    {
     "data": {
      "text/plain": [
       "'Agwulonu'"
      ]
     },
     "execution_count": 5,
     "metadata": {},
     "output_type": "execute_result"
    }
   ],
   "source": [
    "name"
   ]
  },
  {
   "cell_type": "code",
   "execution_count": 8,
   "id": "d19186e7-f2ed-43eb-a9dc-b32ee9853a3b",
   "metadata": {},
   "outputs": [
    {
     "name": "stdout",
     "output_type": "stream",
     "text": [
      "Agwulonu\n"
     ]
    }
   ],
   "source": [
    "print(name)"
   ]
  },
  {
   "cell_type": "code",
   "execution_count": 31,
   "id": "941c7406-2eb3-4326-bcae-d9ab4e077f16",
   "metadata": {},
   "outputs": [
    {
     "name": "stdin",
     "output_type": "stream",
     "text": [
      " : 20\n"
     ]
    }
   ],
   "source": [
    "# getting an integer from the user, the need to convert the string to an integer using the int function is necessary\n",
    "concentration_of_piroxicam = int(input(\" :\"))"
   ]
  },
  {
   "cell_type": "code",
   "execution_count": 21,
   "id": "8ef62bdc-2f1f-4e82-8c45-7cce96a98974",
   "metadata": {},
   "outputs": [],
   "source": [
    "concentration_of_piroxicam = int(concentration_of_piroxicam)"
   ]
  },
  {
   "cell_type": "code",
   "execution_count": 22,
   "id": "3db2a2c0-8861-4399-b379-df07a6451bba",
   "metadata": {},
   "outputs": [
    {
     "data": {
      "text/plain": [
       "20"
      ]
     },
     "execution_count": 22,
     "metadata": {},
     "output_type": "execute_result"
    }
   ],
   "source": [
    "concentration_of_piroxicam"
   ]
  },
  {
   "cell_type": "code",
   "execution_count": 33,
   "id": "c9cb9007-7531-4cba-8bc1-bbb701482045",
   "metadata": {},
   "outputs": [
    {
     "data": {
      "text/plain": [
       "20.46"
      ]
     },
     "execution_count": 33,
     "metadata": {},
     "output_type": "execute_result"
    }
   ],
   "source": [
    "# the built-in int funtion converts a floating point value to an integer or converts a string representation of an integer to an integer value\n",
    "float('6.2') * 3.3"
   ]
  },
  {
   "cell_type": "code",
   "execution_count": null,
   "id": "ebd5d0c7-adfa-4421-8ff6-e5f9b0c1a2bb",
   "metadata": {},
   "outputs": [],
   "source": [
    "# a string is a series of character, anything inside a quote is considered a string in python, it can either be double or single quotes.\n",
    "# eg \"i love my wife\"  , 'azaya is a good guy'  , '''my sister is a foolish human'''"
   ]
  },
  {
   "cell_type": "code",
   "execution_count": 37,
   "id": "0777e55a-ff25-47e2-8ef9-7b30a7c26e9a",
   "metadata": {},
   "outputs": [
    {
     "data": {
      "text/plain": [
       "'Rosemary Orji Ozua'"
      ]
     },
     "execution_count": 37,
     "metadata": {},
     "output_type": "execute_result"
    }
   ],
   "source": [
    "# changing case in a string with methods: this include .title(), .upper(), .lower()   etc\n",
    "# eg \n",
    "name = \"rosemary orji ozua\"\n",
    "(name.title())"
   ]
  },
  {
   "cell_type": "code",
   "execution_count": 38,
   "id": "550654a1-4a22-43b5-be71-ba55c241bf10",
   "metadata": {},
   "outputs": [
    {
     "data": {
      "text/plain": [
       "'ROSEMARY ORJI OZUA'"
      ]
     },
     "execution_count": 38,
     "metadata": {},
     "output_type": "execute_result"
    }
   ],
   "source": [
    "(name.upper())"
   ]
  },
  {
   "cell_type": "code",
   "execution_count": 39,
   "id": "fe2f4a41-c93d-4cd6-be7f-7229170be746",
   "metadata": {},
   "outputs": [
    {
     "data": {
      "text/plain": [
       "'rosemary orji ozua'"
      ]
     },
     "execution_count": 39,
     "metadata": {},
     "output_type": "execute_result"
    }
   ],
   "source": [
    "(name.lower())"
   ]
  },
  {
   "cell_type": "code",
   "execution_count": 43,
   "id": "cfd20f3d-74d0-45e9-9712-3c9c6d01458b",
   "metadata": {},
   "outputs": [
    {
     "data": {
      "text/plain": [
       "'hello , Roziel Pharmacy '"
      ]
     },
     "execution_count": 43,
     "metadata": {},
     "output_type": "execute_result"
    }
   ],
   "source": [
    "# in some situation , you'll want to use variable's value inside a string\n",
    "# to insert a variable inside a string , the letter \"f\" is placed before the opening quotation mark, \n",
    "# a curly braces \"{}\" should be around the variable you want to use inside the string.\n",
    "# \"f\" is for format, f-string is known as a formatted string.\n",
    "\n",
    "company_name = \"roziel\"\n",
    "products = \"pharmacy\"\n",
    "full_name = f\"{company_name} {products}\"\n",
    "(f\"hello , {full_name.title()} \")\n"
   ]
  },
  {
   "cell_type": "code",
   "execution_count": 44,
   "id": "56372de1-250d-4e12-a4c2-5f1ca1a3f85e",
   "metadata": {},
   "outputs": [
    {
     "data": {
      "text/plain": [
       "'roziel'"
      ]
     },
     "execution_count": 44,
     "metadata": {},
     "output_type": "execute_result"
    }
   ],
   "source": [
    "# in programming, whitespace refers to any nonprinting character, such as spaces, tabs, and end-of-line symbols\n",
    "# \\t (tab), \\n(new line), \\n\\t (new line with a tab)\n",
    "(\"roziel\")"
   ]
  },
  {
   "cell_type": "code",
   "execution_count": 51,
   "id": "80910a7b-a624-43d3-9031-cb38f1151908",
   "metadata": {},
   "outputs": [
    {
     "name": "stdout",
     "output_type": "stream",
     "text": [
      "\tRoziel\n"
     ]
    }
   ],
   "source": [
    "print(\"\\tRoziel\")   # \\t (tab)"
   ]
  },
  {
   "cell_type": "code",
   "execution_count": 52,
   "id": "0e0489c3-af06-49fd-b22d-e3129ca53f57",
   "metadata": {},
   "outputs": [
    {
     "name": "stdout",
     "output_type": "stream",
     "text": [
      "\n",
      "roziel\n"
     ]
    }
   ],
   "source": [
    "print('\\nroziel')  #\\n (new line)"
   ]
  },
  {
   "cell_type": "code",
   "execution_count": 53,
   "id": "6fab5aae-af5a-4961-ac10-7a7925313072",
   "metadata": {},
   "outputs": [
    {
     "name": "stdout",
     "output_type": "stream",
     "text": [
      "\n",
      "\troziel\n"
     ]
    }
   ],
   "source": [
    "print('\\n\\troziel')"
   ]
  },
  {
   "cell_type": "code",
   "execution_count": 54,
   "id": "ea15574f-bcd7-4590-b1a8-f6ec005aaffd",
   "metadata": {},
   "outputs": [
    {
     "data": {
      "text/plain": [
       "'   ceftriaxone'"
      ]
     },
     "execution_count": 54,
     "metadata": {},
     "output_type": "execute_result"
    }
   ],
   "source": [
    "# whitespaces can be confusing in programming, there is a need to strip them off using the (.rstrip()), (.lstrip()) or the (.strip()) method.\n",
    "favorite_medicine = \"   ceftriaxone\"\n",
    "(favorite_medicine)"
   ]
  },
  {
   "cell_type": "code",
   "execution_count": 55,
   "id": "6f604b13-3ef8-4fd8-82a9-f9b591ee2594",
   "metadata": {},
   "outputs": [
    {
     "data": {
      "text/plain": [
       "'ceftriaxone'"
      ]
     },
     "execution_count": 55,
     "metadata": {},
     "output_type": "execute_result"
    }
   ],
   "source": [
    "favorite_medicine = \"    ceftriaxone\"\n",
    "(favorite_medicine.strip())"
   ]
  },
  {
   "cell_type": "code",
   "execution_count": 58,
   "id": "f230f403-1aee-4e55-aa61-94175c9de663",
   "metadata": {},
   "outputs": [
    {
     "data": {
      "text/plain": [
       "'ceftriaxone'"
      ]
     },
     "execution_count": 58,
     "metadata": {},
     "output_type": "execute_result"
    }
   ],
   "source": [
    "favorite_medicine = \"ceftriaxone     \"\n",
    "(favorite_medicine.rstrip())"
   ]
  },
  {
   "cell_type": "code",
   "execution_count": 59,
   "id": "5dcaaada-f10d-42a9-8002-f77abec9f29a",
   "metadata": {},
   "outputs": [
    {
     "data": {
      "text/plain": [
       "'ceftriaxone'"
      ]
     },
     "execution_count": 59,
     "metadata": {},
     "output_type": "execute_result"
    }
   ],
   "source": [
    "favorite_medicine = \"       ceftriaxone\"\n",
    "(favorite_medicine.lstrip())"
   ]
  },
  {
   "cell_type": "code",
   "execution_count": 60,
   "id": "0d94c69a-087f-4084-b476-ebad36c81e1e",
   "metadata": {},
   "outputs": [
    {
     "data": {
      "text/plain": [
       "'Hello Dozie, would you like to eat garri today'"
      ]
     },
     "execution_count": 60,
     "metadata": {},
     "output_type": "execute_result"
    }
   ],
   "source": [
    "# exercise\n",
    "first_name = \"dozie\"\n",
    "(f\"Hello {first_name.title()}, would you like to eat garri today\")"
   ]
  },
  {
   "cell_type": "code",
   "execution_count": 61,
   "id": "1f742397-57e6-46a3-af22-897d79af7b9f",
   "metadata": {},
   "outputs": [
    {
     "data": {
      "text/plain": [
       "'kachi'"
      ]
     },
     "execution_count": 61,
     "metadata": {},
     "output_type": "execute_result"
    }
   ],
   "source": [
    "adults_names = 'kachi' \n",
    "(adults_names.lower())"
   ]
  },
  {
   "cell_type": "code",
   "execution_count": 62,
   "id": "0216f9ef-d013-479d-b78d-3bc17e9382dd",
   "metadata": {},
   "outputs": [
    {
     "data": {
      "text/plain": [
       "'KACHI'"
      ]
     },
     "execution_count": 62,
     "metadata": {},
     "output_type": "execute_result"
    }
   ],
   "source": [
    "adults_names = 'kachi' \n",
    "(adults_names.upper())"
   ]
  },
  {
   "cell_type": "code",
   "execution_count": 63,
   "id": "ee6ca8c6-74da-4f6a-936a-92d8d829affd",
   "metadata": {},
   "outputs": [
    {
     "data": {
      "text/plain": [
       "'Kachi'"
      ]
     },
     "execution_count": 63,
     "metadata": {},
     "output_type": "execute_result"
    }
   ],
   "source": [
    "adults_names = 'kachi' \n",
    "(adults_names.title())"
   ]
  },
  {
   "cell_type": "code",
   "execution_count": 66,
   "id": "4a4518ba-966e-4ec8-92b4-3da22c6880b0",
   "metadata": {},
   "outputs": [
    {
     "data": {
      "text/plain": [
       "' Albert Einsteine once said, \"A person who ever made a mistake never tried anything new\".'"
      ]
     },
     "execution_count": 66,
     "metadata": {},
     "output_type": "execute_result"
    }
   ],
   "source": [
    "first_name = \" albert\"\n",
    "last_name = \"einsteine\"\n",
    "(f'''{first_name.title()} {last_name.title()} once said, \"A person who ever made a mistake never tried anything new\".''') "
   ]
  },
  {
   "cell_type": "code",
   "execution_count": 76,
   "id": "d38b7f40-45aa-4400-bcd3-719eae4cf3d0",
   "metadata": {},
   "outputs": [
    {
     "data": {
      "text/plain": [
       "'Hello, i am Mr Malawi Akoluche.'"
      ]
     },
     "execution_count": 76,
     "metadata": {},
     "output_type": "execute_result"
    }
   ],
   "source": [
    "first_name = \"malawi\"\n",
    "last_name = \"akoluche\"\n",
    "famous_name = f\"{first_name} {last_name}\"\n",
    "message = f\" Hello, i am Mr {famous_name.title()}.\"\n",
    "(message.strip())"
   ]
  },
  {
   "cell_type": "code",
   "execution_count": 77,
   "id": "aab486dc-9291-4c49-bf86-ea79572a030e",
   "metadata": {},
   "outputs": [
    {
     "data": {
      "text/plain": [
       "['lagos', 'abuja', 'kano', 'kaduna', 'osun']"
      ]
     },
     "execution_count": 77,
     "metadata": {},
     "output_type": "execute_result"
    }
   ],
   "source": [
    "# a list is a collection of items in a particular order, it can either be an alphabet or numbers, the name of a list is better in plural form\n",
    "# \"[]\" indicates a list, individual elements in a list are seperated by commas.\n",
    "cities = ['lagos', 'abuja' , 'kano' , 'kaduna', 'osun']\n",
    "(cities)"
   ]
  },
  {
   "cell_type": "code",
   "execution_count": 79,
   "id": "8ea883a9-53da-4a24-bc43-00b28b520859",
   "metadata": {},
   "outputs": [
    {
     "data": {
      "text/plain": [
       "'lagos'"
      ]
     },
     "execution_count": 79,
     "metadata": {},
     "output_type": "execute_result"
    }
   ],
   "source": [
    "# you can access any element in a list by telling python the position or index of the item desired\n",
    "cities = ['lagos', 'abuja' , 'kano' , 'kaduna', 'osun']\n",
    "(cities[0])\n",
    "# index 0 will give the first occurence , index 1, will give the second occurence etc"
   ]
  },
  {
   "cell_type": "code",
   "execution_count": 81,
   "id": "2b6ea9ae-44f9-41a1-bbe1-a39531f9a74e",
   "metadata": {},
   "outputs": [
    {
     "data": {
      "text/plain": [
       "'abuja'"
      ]
     },
     "execution_count": 81,
     "metadata": {},
     "output_type": "execute_result"
    }
   ],
   "source": [
    "cities = ['lagos', 'abuja' , 'kano' , 'kaduna', 'osun']\n",
    "(cities[1])"
   ]
  },
  {
   "cell_type": "code",
   "execution_count": 82,
   "id": "fd4ea92d-8353-4e16-8202-a9f403fd76f8",
   "metadata": {},
   "outputs": [
    {
     "data": {
      "text/plain": [
       "'kaduna'"
      ]
     },
     "execution_count": 82,
     "metadata": {},
     "output_type": "execute_result"
    }
   ],
   "source": [
    "cities = ['lagos', 'abuja' , 'kano' , 'kaduna', 'osun']\n",
    "(cities[3])"
   ]
  },
  {
   "cell_type": "code",
   "execution_count": 83,
   "id": "652ee616-c480-4ea2-bf55-6966b116d1e7",
   "metadata": {},
   "outputs": [
    {
     "data": {
      "text/plain": [
       "'Abuja'"
      ]
     },
     "execution_count": 83,
     "metadata": {},
     "output_type": "execute_result"
    }
   ],
   "source": [
    "cities = ['lagos', 'abuja' , 'kano' , 'kaduna', 'osun']\n",
    "(cities[1].title())"
   ]
  },
  {
   "cell_type": "code",
   "execution_count": 85,
   "id": "eb0f55f7-6e28-4b75-89bf-ca6082e9ac0b",
   "metadata": {},
   "outputs": [
    {
     "data": {
      "text/plain": [
       "'i lived in Lagos.'"
      ]
     },
     "execution_count": 85,
     "metadata": {},
     "output_type": "execute_result"
    }
   ],
   "source": [
    "# you can also use individual value from a list\n",
    "cities = ['lagos', 'abuja' , 'kano' , 'kaduna', 'osun']\n",
    "message = f\"i lived in {cities[0].title()}.\"\n",
    "(message)"
   ]
  },
  {
   "cell_type": "code",
   "execution_count": 86,
   "id": "0b23dec3-66fb-4324-8f7d-e647e6c5a694",
   "metadata": {},
   "outputs": [
    {
     "data": {
      "text/plain": [
       "'i lived in Kano.'"
      ]
     },
     "execution_count": 86,
     "metadata": {},
     "output_type": "execute_result"
    }
   ],
   "source": [
    "cities = ['lagos', 'abuja' , 'kano' , 'kaduna', 'osun']\n",
    "message = f\"i lived in {cities[2].title()}.\"\n",
    "(message)"
   ]
  },
  {
   "cell_type": "code",
   "execution_count": 87,
   "id": "589332a9-a1f1-4e65-972c-7ac3650971b2",
   "metadata": {},
   "outputs": [
    {
     "data": {
      "text/plain": [
       "'i lived in KADUNA.'"
      ]
     },
     "execution_count": 87,
     "metadata": {},
     "output_type": "execute_result"
    }
   ],
   "source": [
    "cities = ['lagos', 'abuja' , 'kano' , 'kaduna', 'osun']\n",
    "message = f\"i lived in {cities[3].upper()}.\"\n",
    "(message)"
   ]
  },
  {
   "cell_type": "code",
   "execution_count": 88,
   "id": "2328acdf-bb75-40b5-85cc-39126161617b",
   "metadata": {},
   "outputs": [
    {
     "data": {
      "text/plain": [
       "'i lived in kano.'"
      ]
     },
     "execution_count": 88,
     "metadata": {},
     "output_type": "execute_result"
    }
   ],
   "source": [
    "cities = ['lagos', 'abuja' , 'kano' , 'kaduna', 'osun']\n",
    "message = f\"i lived in {cities[2].lower()}.\"\n",
    "(message)"
   ]
  },
  {
   "cell_type": "code",
   "execution_count": 89,
   "id": "e9f7e9ae-3d0f-4cbf-b3d2-aaf1889a4eb8",
   "metadata": {},
   "outputs": [
    {
     "data": {
      "text/plain": [
       "['gestid', 'acipep', 'relcer', 'gaviscon', 'jawasil']"
      ]
     },
     "execution_count": 89,
     "metadata": {},
     "output_type": "execute_result"
    }
   ],
   "source": [
    "# changing, adding and removing elements from a list acan be dynamic, it involves building a list and then add and removing element from it.\n",
    "# we can actually modify an element in a list ; eg \n",
    "antacids = ['gestid' , 'acipep' , 'relcer' , 'gaviscon' , 'jawasil']\n",
    "(antacids)"
   ]
  },
  {
   "cell_type": "code",
   "execution_count": 91,
   "id": "9909969c-e735-4044-86f5-daf3f97dcc43",
   "metadata": {},
   "outputs": [
    {
     "data": {
      "text/plain": [
       "['gestid', 'grenocid', 'relcer', 'gaviscon', 'jawasil']"
      ]
     },
     "execution_count": 91,
     "metadata": {},
     "output_type": "execute_result"
    }
   ],
   "source": [
    "antacids[1] = 'grenocid'    # i am trying to modify the initial list by replacing acipep with grenocid\n",
    "(antacids)"
   ]
  },
  {
   "cell_type": "code",
   "execution_count": 92,
   "id": "f0439536-258f-4b4e-80f3-8f17cee1e915",
   "metadata": {},
   "outputs": [
    {
     "data": {
      "text/plain": [
       "['gestid', 'acipep', 'relcer', 'gaviscon', 'jawasil', 'rulox']"
      ]
     },
     "execution_count": 92,
     "metadata": {},
     "output_type": "execute_result"
    }
   ],
   "source": [
    "# we can also add elements into a list by using the \"append\" :eg\n",
    "antacids = ['gestid' , 'acipep' , 'relcer' , 'gaviscon' , 'jawasil']\n",
    "antacids.append('rulox')  # i am trying to add rulox into the original list\n",
    "(antacids)"
   ]
  },
  {
   "cell_type": "code",
   "execution_count": 93,
   "id": "73ffc022-a963-49a5-acc8-02a14737bef6",
   "metadata": {},
   "outputs": [
    {
     "data": {
      "text/plain": [
       "['diclofenac', 'naproxen', 'ibuprofen', 'paracetamol']"
      ]
     },
     "execution_count": 93,
     "metadata": {},
     "output_type": "execute_result"
    }
   ],
   "source": [
    "# we can start with an emtpty list \"[]\" and add items into it using series of append: eg \n",
    "analgesics =[]\n",
    "analgesics.append('diclofenac')\n",
    "analgesics.append('naproxen')\n",
    "analgesics.append('ibuprofen')\n",
    "analgesics.append('paracetamol')\n",
    "(analgesics)\n"
   ]
  },
  {
   "cell_type": "code",
   "execution_count": 96,
   "id": "fcfa9f89-e063-4b58-9629-e6686fc13042",
   "metadata": {},
   "outputs": [
    {
     "data": {
      "text/plain": [
       "['gestid', 'acipep', 'relcer', 'nazaneen', 'gaviscon', 'jawasil']"
      ]
     },
     "execution_count": 96,
     "metadata": {},
     "output_type": "execute_result"
    }
   ],
   "source": [
    "# inserting an element into a list CAN BE DONE AT ANY POSITION by using the \"insert()method\"\n",
    "antacids = ['gestid' , 'acipep' , 'relcer' , 'gaviscon' , 'jawasil']\n",
    "antacids.insert(3,'nazaneen')\n",
    "(antacids)"
   ]
  },
  {
   "cell_type": "code",
   "execution_count": 97,
   "id": "6c5b872a-4df4-4b74-b23e-9910e0443ea9",
   "metadata": {},
   "outputs": [
    {
     "data": {
      "text/plain": [
       "['rice', 'yam', 'garri', 'egusi', 'ogbono']"
      ]
     },
     "execution_count": 97,
     "metadata": {},
     "output_type": "execute_result"
    }
   ],
   "source": [
    "# removing an item can be done according to their position or its value\n",
    "# removing based on its position , the \"del\" statement if the position is known.\n",
    "foods = ['rice' , 'beans' , 'yam' , 'garri' , 'egusi' , 'ogbono']\n",
    "del foods[1]\n",
    "(foods)"
   ]
  },
  {
   "cell_type": "code",
   "execution_count": 103,
   "id": "4bf1ec11-7907-4529-9f8a-ad3405044a7e",
   "metadata": {},
   "outputs": [
    {
     "data": {
      "text/plain": [
       "['rice', 'beans', 'yam', 'garri', 'egusi']"
      ]
     },
     "execution_count": 103,
     "metadata": {},
     "output_type": "execute_result"
    }
   ],
   "source": [
    "# removing using the pop() method, it removes the last item in a list, but allows you you to work with it after removing it\n",
    "foods = ['rice' , 'beans' , 'yam' , 'garri' , 'egusi' , 'ogbono']\n",
    "popped_foods = foods.pop()\n",
    "(foods)"
   ]
  },
  {
   "cell_type": "code",
   "execution_count": 104,
   "id": "4ae125f6-5304-4b4a-b05d-067ce4807f1d",
   "metadata": {},
   "outputs": [
    {
     "data": {
      "text/plain": [
       "'ogbono'"
      ]
     },
     "execution_count": 104,
     "metadata": {},
     "output_type": "execute_result"
    }
   ],
   "source": [
    "(popped_foods)"
   ]
  },
  {
   "cell_type": "code",
   "execution_count": 105,
   "id": "8f424032-1447-4699-852a-85494e92697e",
   "metadata": {},
   "outputs": [
    {
     "data": {
      "text/plain": [
       "'the antacid i used recently was Gaviscon'"
      ]
     },
     "execution_count": 105,
     "metadata": {},
     "output_type": "execute_result"
    }
   ],
   "source": [
    "# you can pop() to remove an item from any position in a list by including the index of the item you want to remove\n",
    "antacids = ['gestid' , 'acipep' , 'relcer' , 'gaviscon' , 'jawasil']\n",
    "recently_used_antacids = antacids.pop(3)\n",
    "(f\"the antacid i used recently was {recently_used_antacids.title()}\")"
   ]
  },
  {
   "cell_type": "code",
   "execution_count": 106,
   "id": "2a1dc822-b6de-42b3-a6f4-17ea572bc1aa",
   "metadata": {},
   "outputs": [
    {
     "data": {
      "text/plain": [
       "['lagos', 'abuja', 'kaduna', 'osun']"
      ]
     },
     "execution_count": 106,
     "metadata": {},
     "output_type": "execute_result"
    }
   ],
   "source": [
    "# removing an item based on value involves using the remove() method\n",
    "cities = ['lagos', 'abuja' , 'kano' , 'kaduna', 'osun']\n",
    "cities.remove('kano')\n",
    "(cities)"
   ]
  },
  {
   "cell_type": "code",
   "execution_count": 107,
   "id": "88e31521-e881-4b0d-a82f-c7549818d242",
   "metadata": {},
   "outputs": [
    {
     "data": {
      "text/plain": [
       "['lagos', 'abuja', 'kano', 'osun']"
      ]
     },
     "execution_count": 107,
     "metadata": {},
     "output_type": "execute_result"
    }
   ],
   "source": [
    "cities = ['lagos', 'abuja' , 'kano' , 'kaduna', 'osun']\n",
    "disliked_city = 'kaduna'\n",
    "cities.remove(disliked_city)\n",
    "(cities)"
   ]
  },
  {
   "cell_type": "code",
   "execution_count": 109,
   "id": "5569dee4-2ab5-4d8b-b2ea-81dd775faaed",
   "metadata": {},
   "outputs": [
    {
     "name": "stdout",
     "output_type": "stream",
     "text": [
      "\n",
      "Lagos is too expensive to live in\n"
     ]
    }
   ],
   "source": [
    "cities = ['lagos', 'abuja' , 'kano' , 'kaduna', 'osun']\n",
    "too_expensive = 'lagos'\n",
    "cities.remove(too_expensive)\n",
    "print(f'\\n{too_expensive.title()} is too expensive to live in')"
   ]
  },
  {
   "cell_type": "code",
   "execution_count": 110,
   "id": "6f1593a0-e709-464f-9739-540000f8b6f6",
   "metadata": {},
   "outputs": [
    {
     "data": {
      "text/plain": [
       "['amoxicilline',\n",
       " 'azithromycin',\n",
       " 'cefixime',\n",
       " 'doxycycline',\n",
       " 'mupirocin',\n",
       " 'ofloxacin']"
      ]
     },
     "execution_count": 110,
     "metadata": {},
     "output_type": "execute_result"
    }
   ],
   "source": [
    "# the sort() method makes it relatively easy to sort a list, it changes the order of the list permanently.\n",
    "antibiotics = ['amoxicilline' , 'mupirocin' , 'cefixime' , 'ofloxacin', 'azithromycin', 'doxycycline']\n",
    "antibiotics.sort()\n",
    "(antibiotics)"
   ]
  },
  {
   "cell_type": "code",
   "execution_count": 111,
   "id": "5ff611a2-ffdc-4630-a9ea-33186ca720e2",
   "metadata": {},
   "outputs": [
    {
     "data": {
      "text/plain": [
       "['ofloxacin',\n",
       " 'mupirocin',\n",
       " 'doxycycline',\n",
       " 'cefixime',\n",
       " 'azithromycin',\n",
       " 'amoxicilline']"
      ]
     },
     "execution_count": 111,
     "metadata": {},
     "output_type": "execute_result"
    }
   ],
   "source": [
    "# the reverse=True to the sort() method can sort the list in the reverse alphabetical order\n",
    "antibiotics = ['amoxicilline' , 'mupirocin' , 'cefixime' , 'ofloxacin', 'azithromycin', 'doxycycline']\n",
    "antibiotics.sort(reverse=True)\n",
    "(antibiotics)\n"
   ]
  },
  {
   "cell_type": "code",
   "execution_count": 113,
   "id": "73f4b44b-b4b1-4f34-82bb-a9bf03b8b46e",
   "metadata": {},
   "outputs": [
    {
     "data": {
      "text/plain": [
       "['amoxicilline',\n",
       " 'mupirocin',\n",
       " 'cefixime',\n",
       " 'ofloxacin',\n",
       " 'azithromycin',\n",
       " 'doxycycline']"
      ]
     },
     "execution_count": 113,
     "metadata": {},
     "output_type": "execute_result"
    }
   ],
   "source": [
    "# the sorted() function allows you display your list in a particular order but doesnt affect the actual order of the list.\n",
    "# the sorted() function can also accept a reverse=true argument\n",
    "antibiotics = ['amoxicilline' , 'mupirocin' , 'cefixime' , 'ofloxacin', 'azithromycin', 'doxycycline']\n",
    "('original list')\n",
    "(antibiotics)"
   ]
  },
  {
   "cell_type": "code",
   "execution_count": 114,
   "id": "f3807106-5a90-457d-8650-a875d0de57c8",
   "metadata": {},
   "outputs": [
    {
     "data": {
      "text/plain": [
       "['amoxicilline',\n",
       " 'azithromycin',\n",
       " 'cefixime',\n",
       " 'doxycycline',\n",
       " 'mupirocin',\n",
       " 'ofloxacin']"
      ]
     },
     "execution_count": 114,
     "metadata": {},
     "output_type": "execute_result"
    }
   ],
   "source": [
    "antibiotics = ['amoxicilline' , 'mupirocin' , 'cefixime' , 'ofloxacin', 'azithromycin', 'doxycycline']\n",
    "('sorted list')\n",
    "(sorted(antibiotics))"
   ]
  },
  {
   "cell_type": "code",
   "execution_count": 115,
   "id": "04f8ba8a-1d0d-4709-be1d-731cb7f20525",
   "metadata": {},
   "outputs": [
    {
     "data": {
      "text/plain": [
       "['jawasil', 'gaviscon', 'relcer', 'acipep', 'gestid']"
      ]
     },
     "execution_count": 115,
     "metadata": {},
     "output_type": "execute_result"
    }
   ],
   "source": [
    "# the reverse() method can be used to reverse the original order of a list, it changes the order of the list permanently\n",
    "# it does not sort backwards alphabetically\n",
    "antacids = ['gestid' , 'acipep' , 'relcer' , 'gaviscon' , 'jawasil']\n",
    "antacids.reverse()\n",
    "(antacids)"
   ]
  },
  {
   "cell_type": "code",
   "execution_count": 117,
   "id": "e749ef24-299d-4336-b046-1b7ffcdf02e5",
   "metadata": {},
   "outputs": [
    {
     "data": {
      "text/plain": [
       "5"
      ]
     },
     "execution_count": 117,
     "metadata": {},
     "output_type": "execute_result"
    }
   ],
   "source": [
    "# to find the lenght of a list, the len() function is used.\n",
    "cities = ['lagos', 'abuja' , 'kano' , 'kaduna', 'osun']\n",
    "len(cities)\n"
   ]
  },
  {
   "cell_type": "code",
   "execution_count": 124,
   "id": "2713b02d-3bf8-49a1-920d-655f65a0e140",
   "metadata": {},
   "outputs": [
    {
     "name": "stdout",
     "output_type": "stream",
     "text": [
      "dettol\n",
      "izal\n",
      "savlon\n"
     ]
    }
   ],
   "source": [
    "# looping through an entire list allows you to do the same action with every item in a list using the \"for loop\"\n",
    "anticeptics = ['dettol' , 'izal' , 'savlon']\n",
    "for anticeptic in anticeptics:\n",
    "    print(anticeptic)"
   ]
  },
  {
   "cell_type": "code",
   "execution_count": 129,
   "id": "5817d20f-b90b-46f2-9cea-a1b43ac7b4d6",
   "metadata": {},
   "outputs": [
    {
     "name": "stdout",
     "output_type": "stream",
     "text": [
      " i enjoy eating Rice in the morning\n",
      " i enjoy eating Beans in the morning\n",
      " i enjoy eating Yam in the morning\n",
      " i enjoy eating Garri in the morning\n",
      " i enjoy eating Egusi in the morning\n",
      " i enjoy eating Ogbono in the morning\n"
     ]
    }
   ],
   "source": [
    "foods = ['rice' , 'beans' , 'yam' , 'garri' , 'egusi' , 'ogbono']\n",
    "for food in foods:\n",
    "    print(f\" i enjoy eating {food.strip().title()} in the morning\")"
   ]
  },
  {
   "cell_type": "code",
   "execution_count": 130,
   "id": "c7d3643a-ac00-401e-a578-e06b6fd8653b",
   "metadata": {},
   "outputs": [
    {
     "name": "stdout",
     "output_type": "stream",
     "text": [
      "my wife prepares Rice anytime she is happy\n",
      "my wife prepares Beans anytime she is happy\n",
      "my wife prepares Yam anytime she is happy\n",
      "my wife prepares Garri anytime she is happy\n",
      "my wife prepares Egusi anytime she is happy\n",
      "my wife prepares Ogbono anytime she is happy\n"
     ]
    }
   ],
   "source": [
    "foods = ['rice' , 'beans' , 'yam' , 'garri' , 'egusi' , 'ogbono']\n",
    "for food in foods:\n",
    "    #print(f\" i enjoy eating {food.strip().title()} and in the morning\")\n",
    "    print(f\"my wife prepares {food.strip().title()} anytime she is happy\")"
   ]
  },
  {
   "cell_type": "code",
   "execution_count": 132,
   "id": "0ce0aea2-2cac-4bfb-9076-b8e6d91549a6",
   "metadata": {},
   "outputs": [
    {
     "name": "stdout",
     "output_type": "stream",
     "text": [
      "i enjoy eating Rice and in the morning\n",
      "my wife prepares Rice anytime she is happy.\n",
      "\n",
      "i enjoy eating Beans and in the morning\n",
      "my wife prepares Beans anytime she is happy.\n",
      "\n",
      "i enjoy eating Yam and in the morning\n",
      "my wife prepares Yam anytime she is happy.\n",
      "\n",
      "i enjoy eating Garri and in the morning\n",
      "my wife prepares Garri anytime she is happy.\n",
      "\n",
      "i enjoy eating Egusi and in the morning\n",
      "my wife prepares Egusi anytime she is happy.\n",
      "\n",
      "i enjoy eating Ogbono and in the morning\n",
      "my wife prepares Ogbono anytime she is happy.\n",
      "\n"
     ]
    }
   ],
   "source": [
    "foods = ['rice' , 'beans' , 'yam' , 'garri' , 'egusi' , 'ogbono']\n",
    "for food in foods:\n",
    "    print(f\"i enjoy eating {food.strip().title()} and in the morning\")\n",
    "    print(f\"my wife prepares {food.strip().title()} anytime she is happy.\\n\")"
   ]
  },
  {
   "cell_type": "code",
   "execution_count": 133,
   "id": "af9de499-73cd-4ca8-8297-3e1aefa6463b",
   "metadata": {},
   "outputs": [
    {
     "name": "stdout",
     "output_type": "stream",
     "text": [
      "i enjoy eating Rice and in the morning\n",
      "my wife prepares Rice anytime she is happy.\n",
      "\n",
      "i enjoy eating Beans and in the morning\n",
      "my wife prepares Beans anytime she is happy.\n",
      "\n",
      "i enjoy eating Yam and in the morning\n",
      "my wife prepares Yam anytime she is happy.\n",
      "\n",
      "i enjoy eating Garri and in the morning\n",
      "my wife prepares Garri anytime she is happy.\n",
      "\n",
      "i enjoy eating Egusi and in the morning\n",
      "my wife prepares Egusi anytime she is happy.\n",
      "\n",
      "i enjoy eating Ogbono and in the morning\n",
      "my wife prepares Ogbono anytime she is happy.\n",
      "\n",
      "thank you\n"
     ]
    }
   ],
   "source": [
    "foods = ['rice' , 'beans' , 'yam' , 'garri' , 'egusi' , 'ogbono']\n",
    "for food in foods:\n",
    "    print(f\"i enjoy eating {food.strip().title()} and in the morning\")\n",
    "    print(f\"my wife prepares {food.strip().title()} anytime she is happy.\\n\")\n",
    "print('thank you') # this is not part of the for loop because it is not indented and executed once"
   ]
  },
  {
   "cell_type": "code",
   "execution_count": 145,
   "id": "e17890e1-b9be-4a8a-a7ee-65d61e25a1e7",
   "metadata": {},
   "outputs": [
    {
     "name": "stdout",
     "output_type": "stream",
     "text": [
      "1\n",
      "2\n",
      "3\n",
      "4\n",
      "5\n",
      "6\n",
      "7\n",
      "8\n",
      "9\n"
     ]
    }
   ],
   "source": [
    "# using the range() function makes it easy to generate a series of numbers, it does not include the last number on the list\n",
    "for value in range(1, 10):\n",
    "    print(value)"
   ]
  },
  {
   "cell_type": "code",
   "execution_count": 142,
   "id": "e0e6118d-4a26-4dfd-bb3b-d36c3eda58b2",
   "metadata": {},
   "outputs": [
    {
     "data": {
      "text/plain": [
       "[1, 2, 3, 4, 5, 6, 7, 8, 9, 10, 11, 12, 13, 14, 15, 16, 17, 18, 19]"
      ]
     },
     "execution_count": 142,
     "metadata": {},
     "output_type": "execute_result"
    }
   ],
   "source": [
    "# using the range() fuction to make a list of numbers\n",
    "numericals = list(range(1, 20))\n",
    "(numericals)"
   ]
  },
  {
   "cell_type": "code",
   "execution_count": 146,
   "id": "0e0cb53f-c341-4daf-8ae1-d3e8748f70a0",
   "metadata": {},
   "outputs": [
    {
     "data": {
      "text/plain": [
       "[2, 4, 6, 8, 10, 12, 14, 16, 18, 20]"
      ]
     },
     "execution_count": 146,
     "metadata": {},
     "output_type": "execute_result"
    }
   ],
   "source": [
    "even_numbers = list(range(2, 21, 2)) # this is how to list even numbers between 1 and 20\n",
    "(even_numbers)"
   ]
  },
  {
   "cell_type": "code",
   "execution_count": 147,
   "id": "177223dc-0511-4248-8521-8e7035b80830",
   "metadata": {},
   "outputs": [
    {
     "data": {
      "text/plain": [
       "1"
      ]
     },
     "execution_count": 147,
     "metadata": {},
     "output_type": "execute_result"
    }
   ],
   "source": [
    "digits = [1, 2, 3, 4, 5, 6, 7, 8, 9, 10]\n",
    "min(digits) # this is to get the minimum number in the list"
   ]
  },
  {
   "cell_type": "code",
   "execution_count": 148,
   "id": "60e81fd8-4a84-47cd-994e-42014ac55fb0",
   "metadata": {},
   "outputs": [
    {
     "data": {
      "text/plain": [
       "10"
      ]
     },
     "execution_count": 148,
     "metadata": {},
     "output_type": "execute_result"
    }
   ],
   "source": [
    "digits = [1, 2, 3, 4, 5, 6, 7, 8, 9, 10]\n",
    "max(digits) # this is to get the maximum number inthe list"
   ]
  },
  {
   "cell_type": "code",
   "execution_count": 149,
   "id": "538b74d8-68fd-46bb-87f1-bbdd90e46119",
   "metadata": {},
   "outputs": [
    {
     "data": {
      "text/plain": [
       "55"
      ]
     },
     "execution_count": 149,
     "metadata": {},
     "output_type": "execute_result"
    }
   ],
   "source": [
    "digits = [1, 2, 3, 4, 5, 6, 7, 8, 9, 10]\n",
    "sum(digits) # this enable me to sum the digits "
   ]
  },
  {
   "cell_type": "code",
   "execution_count": 153,
   "id": "7e1992f7-43f9-4bfe-ba84-92171f258296",
   "metadata": {},
   "outputs": [
    {
     "data": {
      "text/plain": [
       "['palmer', 'jackson', 'neto', 'sancho']"
      ]
     },
     "execution_count": 153,
     "metadata": {},
     "output_type": "execute_result"
    }
   ],
   "source": [
    "# slicing a list involves specifying the index of the first and last element you want to work with.\n",
    "chelsea_players = ['palmer' , 'jackson' , 'neto' , 'sancho' , 'colwill' , 'cucurella' , 'enzo' , 'nkuku', 'caicedo']\n",
    "(chelsea_players[0:4])"
   ]
  },
  {
   "cell_type": "code",
   "execution_count": 154,
   "id": "d5e4778c-5156-40b4-847e-4b573c52310e",
   "metadata": {},
   "outputs": [
    {
     "data": {
      "text/plain": [
       "['palmer',\n",
       " 'jackson',\n",
       " 'neto',\n",
       " 'sancho',\n",
       " 'colwill',\n",
       " 'cucurella',\n",
       " 'enzo',\n",
       " 'nkuku',\n",
       " 'caicedo']"
      ]
     },
     "execution_count": 154,
     "metadata": {},
     "output_type": "execute_result"
    }
   ],
   "source": [
    "chelsea_players = ['palmer' , 'jackson' , 'neto' , 'sancho' , 'colwill' , 'cucurella' , 'enzo' , 'nkuku', 'caicedo']\n",
    "(chelsea_players[:]) # an empty square bracket with a colon , gives the entire element in the list"
   ]
  },
  {
   "cell_type": "code",
   "execution_count": 155,
   "id": "7dd30085-4af6-4e22-9cbc-c8b26ceeee60",
   "metadata": {},
   "outputs": [
    {
     "data": {
      "text/plain": [
       "['palmer', 'jackson', 'neto', 'sancho']"
      ]
     },
     "execution_count": 155,
     "metadata": {},
     "output_type": "execute_result"
    }
   ],
   "source": [
    "chelsea_players = ['palmer' , 'jackson' , 'neto' , 'sancho' , 'colwill' , 'cucurella' , 'enzo' , 'nkuku', 'caicedo']\n",
    "(chelsea_players[:4]) # without the starting index, python starts at the begining of the list."
   ]
  },
  {
   "cell_type": "code",
   "execution_count": 156,
   "id": "e6fdd1da-008e-4392-85ec-a047af9dddd7",
   "metadata": {},
   "outputs": [
    {
     "data": {
      "text/plain": [
       "['enzo', 'nkuku', 'caicedo']"
      ]
     },
     "execution_count": 156,
     "metadata": {},
     "output_type": "execute_result"
    }
   ],
   "source": [
    "chelsea_players = ['palmer' , 'jackson' , 'neto' , 'sancho' , 'colwill' , 'cucurella' , 'enzo' , 'nkuku', 'caicedo']\n",
    "(chelsea_players[-3:]) # this prints the names of the last three chelsea players"
   ]
  },
  {
   "cell_type": "code",
   "execution_count": 159,
   "id": "5b9813e8-d8a0-4d37-9e3f-4d0a7ed86d7a",
   "metadata": {},
   "outputs": [
    {
     "data": {
      "text/plain": [
       "'here are the first six players on arsenal team:'"
      ]
     },
     "execution_count": 159,
     "metadata": {},
     "output_type": "execute_result"
    }
   ],
   "source": [
    "# you can use a slice in a for loop if you want to loop through a subset of the elements in a list.\n",
    "arsenal_players = ['raya', 'gabriel', 'saliba', 'timber', 'rice', 'saka', 'martinelli', 'odegaard', 'kai', 'partey']\n",
    "(\"here are the first six players on arsenal team:\")\n",
    "#for player in arsenal_players[:6]:\n",
    "   # print(player.title())"
   ]
  },
  {
   "cell_type": "code",
   "execution_count": 160,
   "id": "09196623-f175-4c58-852a-ea911287be3a",
   "metadata": {},
   "outputs": [
    {
     "name": "stdout",
     "output_type": "stream",
     "text": [
      "Raya\n",
      "Gabriel\n",
      "Saliba\n",
      "Timber\n",
      "Rice\n",
      "Saka\n"
     ]
    }
   ],
   "source": [
    "# you can use a slice in a for loop if you want to loop through a subset of the elements in a list.\n",
    "arsenal_players = ['raya', 'gabriel', 'saliba', 'timber', 'rice', 'saka', 'martinelli', 'odegaard', 'kai', 'partey']\n",
    "(\"here are the first six players on arsenal team:\")\n",
    "for player in arsenal_players[:6]:\n",
    "    print(player.title())"
   ]
  },
  {
   "cell_type": "code",
   "execution_count": 162,
   "id": "df36e90f-190c-4802-9bd1-00e521f02c63",
   "metadata": {},
   "outputs": [
    {
     "data": {
      "text/plain": [
       "['palmer',\n",
       " 'jackson',\n",
       " 'neto',\n",
       " 'sancho',\n",
       " 'colwill',\n",
       " 'cucurella',\n",
       " 'enzo',\n",
       " 'nkuku',\n",
       " 'caicedo']"
      ]
     },
     "execution_count": 162,
     "metadata": {},
     "output_type": "execute_result"
    }
   ],
   "source": [
    "# to copy a list , i can make the the slice that includes the entire original list by omitting the first and second index.\n",
    "chelsea_players = ['palmer' , 'jackson' , 'neto' , 'sancho' , 'colwill' , 'cucurella' , 'enzo' , 'nkuku', 'caicedo']\n",
    "best_chelsea_player = chelsea_players[:]\n",
    "(chelsea_players)"
   ]
  },
  {
   "cell_type": "code",
   "execution_count": 164,
   "id": "2c632102-3d2e-4610-9505-3fc0760c37e4",
   "metadata": {},
   "outputs": [
    {
     "data": {
      "text/plain": [
       "['palmer',\n",
       " 'jackson',\n",
       " 'neto',\n",
       " 'sancho',\n",
       " 'colwill',\n",
       " 'cucurella',\n",
       " 'enzo',\n",
       " 'nkuku',\n",
       " 'caicedo']"
      ]
     },
     "execution_count": 164,
     "metadata": {},
     "output_type": "execute_result"
    }
   ],
   "source": [
    "chelsea_players = ['palmer' , 'jackson' , 'neto' , 'sancho' , 'colwill' , 'cucurella' , 'enzo' , 'nkuku', 'caicedo']\n",
    "best_chelsea_player = chelsea_players[:]\n",
    "(best_chelsea_player)"
   ]
  },
  {
   "cell_type": "code",
   "execution_count": 165,
   "id": "541f0215-80bc-4b35-afcd-146c8f0b8f02",
   "metadata": {},
   "outputs": [
    {
     "data": {
      "text/plain": [
       "['palmer',\n",
       " 'jackson',\n",
       " 'neto',\n",
       " 'sancho',\n",
       " 'colwill',\n",
       " 'cucurella',\n",
       " 'enzo',\n",
       " 'nkuku',\n",
       " 'caicedo',\n",
       " 'sanchez']"
      ]
     },
     "execution_count": 165,
     "metadata": {},
     "output_type": "execute_result"
    }
   ],
   "source": [
    "chelsea_players = ['palmer' , 'jackson' , 'neto' , 'sancho' , 'colwill' , 'cucurella' , 'enzo' , 'nkuku', 'caicedo']\n",
    "best_chelsea_player = chelsea_players[:]\n",
    "chelsea_players.append('sanchez')\n",
    "(chelsea_players)"
   ]
  },
  {
   "cell_type": "code",
   "execution_count": 167,
   "id": "7ca5fd99-d2ea-435c-8d60-f1f035697471",
   "metadata": {},
   "outputs": [
    {
     "data": {
      "text/plain": [
       "['palmer',\n",
       " 'jackson',\n",
       " 'neto',\n",
       " 'sancho',\n",
       " 'colwill',\n",
       " 'cucurella',\n",
       " 'enzo',\n",
       " 'nkuku',\n",
       " 'caicedo',\n",
       " 'madueke']"
      ]
     },
     "execution_count": 167,
     "metadata": {},
     "output_type": "execute_result"
    }
   ],
   "source": [
    "chelsea_players = ['palmer' , 'jackson' , 'neto' , 'sancho' , 'colwill' , 'cucurella' , 'enzo' , 'nkuku', 'caicedo']\n",
    "best_chelsea_player = chelsea_players[:]\n",
    "best_chelsea_player.append('madueke')\n",
    "(best_chelsea_player)"
   ]
  },
  {
   "cell_type": "code",
   "execution_count": 170,
   "id": "1159618f-b046-4403-97df-6d2de3c02037",
   "metadata": {},
   "outputs": [
    {
     "data": {
      "text/plain": [
       "300"
      ]
     },
     "execution_count": 170,
     "metadata": {},
     "output_type": "execute_result"
    }
   ],
   "source": [
    "# a Tuple is an immutable list, \n",
    "# its value cannot change, \n",
    "# it looks like a list but it uses the \"()\" instead of \"[]\"\n",
    "dimensions = (300, 100)\n",
    "(dimensions[0])\n",
    "#(dimensions[1])\n"
   ]
  },
  {
   "cell_type": "code",
   "execution_count": 171,
   "id": "92883578-c41b-415e-8d94-4ea4854cc331",
   "metadata": {},
   "outputs": [
    {
     "data": {
      "text/plain": [
       "100"
      ]
     },
     "execution_count": 171,
     "metadata": {},
     "output_type": "execute_result"
    }
   ],
   "source": [
    "dimensions = (300, 100)\n",
    "#(dimensions[0])\n",
    "(dimensions[1])\n",
    "# if you want to change the item, it gives an error\n",
    "# if you want to define a tuple with one element, you need to include a trailing comma. eg my_age = (36,)"
   ]
  },
  {
   "cell_type": "code",
   "execution_count": 173,
   "id": "c08ac180-7472-4b93-8a2b-4f7377b10129",
   "metadata": {},
   "outputs": [
    {
     "name": "stdout",
     "output_type": "stream",
     "text": [
      "300\n",
      "100\n"
     ]
    }
   ],
   "source": [
    "# you can loop through all values in a tuple using the for loop just as we did for list\n",
    "dimensions = (300, 100)\n",
    "for dimension in dimensions:\n",
    "    print(dimension)"
   ]
  },
  {
   "cell_type": "code",
   "execution_count": 174,
   "id": "0dae1cf7-63d0-422b-aa54-276a7ca5836f",
   "metadata": {},
   "outputs": [
    {
     "name": "stdout",
     "output_type": "stream",
     "text": [
      "egg\n",
      "salad\n",
      "chops\n",
      "samosa\n",
      "sausage\n"
     ]
    }
   ],
   "source": [
    "buffet_style_restaurant = ('egg', 'salad','chops','samosa', 'sausage')\n",
    "for food in buffet_style_restaurant:\n",
    "    print(food)"
   ]
  },
  {
   "cell_type": "code",
   "execution_count": 175,
   "id": "0357e1b8-ef18-40e7-bbf2-c362455e9342",
   "metadata": {},
   "outputs": [
    {
     "data": {
      "text/plain": [
       "tuple"
      ]
     },
     "execution_count": 175,
     "metadata": {},
     "output_type": "execute_result"
    }
   ],
   "source": [
    "buffet_style_restaurant = ('egg', 'salad','chops','samosa', 'sausage')\n",
    "type(buffet_style_restaurant)"
   ]
  },
  {
   "cell_type": "code",
   "execution_count": 178,
   "id": "edbc198b-0d28-4073-8d8e-20bbca2814bb",
   "metadata": {},
   "outputs": [
    {
     "name": "stdout",
     "output_type": "stream",
     "text": [
      "ROZIEL\n",
      "Joniel\n",
      "Maximum\n",
      "Evergreen\n",
      "Sazel\n",
      "Fishpie\n",
      "Dogmeat\n"
     ]
    }
   ],
   "source": [
    "# the if tests allows you to repond to special situations correctly\n",
    "# the conditional test is at the heart of every if statement and has an expression that can be evaluated as True or False.\n",
    "# python uses the values True and False to decide whether the code in an if statement should be executed.\n",
    "# if a conditional test evaluates to True, python excutes the code following the if statement.\n",
    "# most conditional test compare the current value of the variable to a specific value of interest (checking for equality)\n",
    "# testing for equality is case sensitive in python.\n",
    "# the use of != indicates the inequality sign in python.\n",
    "# the boolean expression is a condition test , boolean value is either True or False\n",
    "NTA_zone_pharmacies = ['roziel', 'joniel', 'maximum', 'evergreen', 'sazel', 'fishpie', 'dogmeat']\n",
    "for pharmacy in NTA_zone_pharmacies:\n",
    "    if pharmacy == 'roziel': # the loop checks if the current value of pharmacy is roziel\n",
    "        print(pharmacy.upper()) # it prints it if the value is true and in upper case\n",
    "    else:\n",
    "        print(pharmacy.title()) # it prints if the value of pharmacy is other than roziel"
   ]
  },
  {
   "cell_type": "code",
   "execution_count": 179,
   "id": "26b2b750-32f7-4f87-9c30-3e976f1b7bb5",
   "metadata": {},
   "outputs": [
    {
     "data": {
      "text/plain": [
       "True"
      ]
     },
     "execution_count": 179,
     "metadata": {},
     "output_type": "execute_result"
    }
   ],
   "source": [
    "pharmacy = 'roziel'\n",
    "pharmacy == 'roziel' # this equality operator returns True if the values on the left and right side of the operator match"
   ]
  },
  {
   "cell_type": "code",
   "execution_count": 180,
   "id": "a023cf20-7e21-4b0d-9a03-e3912daa5770",
   "metadata": {},
   "outputs": [
    {
     "data": {
      "text/plain": [
       "False"
      ]
     },
     "execution_count": 180,
     "metadata": {},
     "output_type": "execute_result"
    }
   ],
   "source": [
    "pharmacy = 'roziel'\n",
    "pharmacy == 'joniel' # this will return False as roziel doesnt match joniel"
   ]
  },
  {
   "cell_type": "code",
   "execution_count": 185,
   "id": "75dbeee0-f622-4aab-8a8f-905fbf372e5a",
   "metadata": {},
   "outputs": [
    {
     "data": {
      "text/plain": [
       "False"
      ]
     },
     "execution_count": 185,
     "metadata": {},
     "output_type": "execute_result"
    }
   ],
   "source": [
    "pharmacy = 'Roziel'\n",
    "pharmacy == 'roziel' # two values with different capitalization are not considered equal"
   ]
  },
  {
   "cell_type": "code",
   "execution_count": 184,
   "id": "c0c4d9dc-ca29-4d03-9d62-f63d72f1f8ca",
   "metadata": {},
   "outputs": [
    {
     "data": {
      "text/plain": [
       "True"
      ]
     },
     "execution_count": 184,
     "metadata": {},
     "output_type": "execute_result"
    }
   ],
   "source": [
    "pharmacy = 'Roziel'\n",
    "pharmacy.lower() == 'roziel'"
   ]
  },
  {
   "cell_type": "code",
   "execution_count": 186,
   "id": "bbb1b811-bee3-4e71-86af-819543c32345",
   "metadata": {},
   "outputs": [
    {
     "data": {
      "text/plain": [
       "True"
      ]
     },
     "execution_count": 186,
     "metadata": {},
     "output_type": "execute_result"
    }
   ],
   "source": [
    "age = 20\n",
    "age == 20"
   ]
  },
  {
   "cell_type": "code",
   "execution_count": 187,
   "id": "c345ba75-61ba-42f4-9c26-b2e479fed16c",
   "metadata": {},
   "outputs": [
    {
     "data": {
      "text/plain": [
       "True"
      ]
     },
     "execution_count": 187,
     "metadata": {},
     "output_type": "execute_result"
    }
   ],
   "source": [
    "age = 30\n",
    "age < 35"
   ]
  },
  {
   "cell_type": "code",
   "execution_count": 188,
   "id": "e7d5dae7-b5fc-42c3-bace-4095a2f833cc",
   "metadata": {},
   "outputs": [
    {
     "data": {
      "text/plain": [
       "False"
      ]
     },
     "execution_count": 188,
     "metadata": {},
     "output_type": "execute_result"
    }
   ],
   "source": [
    "age <= 40\n",
    "age > 42"
   ]
  },
  {
   "cell_type": "code",
   "execution_count": 189,
   "id": "a397c3c9-a8e3-47ca-a9f5-8676c9a541fd",
   "metadata": {},
   "outputs": [
    {
     "name": "stdout",
     "output_type": "stream",
     "text": [
      "look for the rest and come back\n"
     ]
    }
   ],
   "source": [
    "quantity = 100\n",
    "if quantity != 105: # the not equal sign was used here\n",
    "    print(\"look for the rest and come back\")"
   ]
  },
  {
   "cell_type": "code",
   "execution_count": 191,
   "id": "b7a97c79-6381-43ca-a5ab-5395b7cd5f60",
   "metadata": {},
   "outputs": [
    {
     "data": {
      "text/plain": [
       "True"
      ]
     },
     "execution_count": 191,
     "metadata": {},
     "output_type": "execute_result"
    }
   ],
   "source": [
    "roziel_inventory1 = 950\n",
    "roziel_inventory2 = 1000\n",
    "roziel_inventory1 >= 900 and roziel_inventory2 <= 1500 # the \"and\" symbol conbine the two conditional test, if either test passes, it prints True"
   ]
  },
  {
   "cell_type": "code",
   "execution_count": 196,
   "id": "780eb981-ae3e-4dbb-9fbd-3cc7ac33b358",
   "metadata": {},
   "outputs": [
    {
     "data": {
      "text/plain": [
       "True"
      ]
     },
     "execution_count": 196,
     "metadata": {},
     "output_type": "execute_result"
    }
   ],
   "source": [
    "roziel_inventory1 = 950\n",
    "roziel_inventory2 = 1000\n",
    "roziel_inventory1 <= 900 or roziel_inventory2 >=1000 # the \"or\" symbol passes when either or both indivdual test passes, it fails only when both tests fails."
   ]
  },
  {
   "cell_type": "code",
   "execution_count": 197,
   "id": "65a4d66f-e6e8-4f80-a81a-720b2c47bcf1",
   "metadata": {},
   "outputs": [
    {
     "data": {
      "text/plain": [
       "True"
      ]
     },
     "execution_count": 197,
     "metadata": {},
     "output_type": "execute_result"
    }
   ],
   "source": [
    "# to check whether a value is in a list.\n",
    "fruits = ['mango', 'orange', 'pawpaw', 'grape','strawberry']\n",
    "'grape' in fruits"
   ]
  },
  {
   "cell_type": "code",
   "execution_count": 198,
   "id": "660b6f21-6069-4f71-830f-fc9bef04df09",
   "metadata": {},
   "outputs": [
    {
     "data": {
      "text/plain": [
       "True"
      ]
     },
     "execution_count": 198,
     "metadata": {},
     "output_type": "execute_result"
    }
   ],
   "source": [
    "# to check whether a value is not in a list.\n",
    "fruits = ['mango', 'orange', 'pawpaw', 'grape','strawberry']\n",
    "'tangerine' not in fruits"
   ]
  },
  {
   "cell_type": "code",
   "execution_count": 203,
   "id": "f77a18e0-f879-4039-b66f-9f1b7e375fb4",
   "metadata": {},
   "outputs": [
    {
     "name": "stdout",
     "output_type": "stream",
     "text": [
      "Tangerine, is not on the list\n"
     ]
    }
   ],
   "source": [
    "# to check whether a value is not in a list.\n",
    "fruits = ['mango', 'orange', 'pawpaw', 'grape','strawberry']\n",
    "old = 'tangerine'\n",
    "if old not in fruits:\n",
    "    print(f\"{old.title()}, is not on the list\")"
   ]
  },
  {
   "cell_type": "code",
   "execution_count": 205,
   "id": "50d6cce6-2aef-4437-89da-eefbe0e6c357",
   "metadata": {},
   "outputs": [
    {
     "name": "stdout",
     "output_type": "stream",
     "text": [
      "you are old enough to vote\n"
     ]
    }
   ],
   "source": [
    "# the simplest kind of if statements has one test and one action\n",
    "age = 25\n",
    "if age >= 18:\n",
    "    print(\"you are old enough to vote\") # identation plays a key role in \"if\""
   ]
  },
  {
   "cell_type": "code",
   "execution_count": 206,
   "id": "4244a071-4d1d-4b7e-9f41-f92822ecc94f",
   "metadata": {},
   "outputs": [
    {
     "name": "stdout",
     "output_type": "stream",
     "text": [
      "sorry you are too young to view this channel\n"
     ]
    }
   ],
   "source": [
    "# an if-else statement is similar to a simple if-statement,but else-statement allows you to define an action if the conditional test fail.\n",
    "age = 25\n",
    "if age >= 30:\n",
    "    print(\"you are old enough to view this channel\")\n",
    "else:\n",
    "    print(\"sorry you are too young to view this channel\")"
   ]
  },
  {
   "cell_type": "code",
   "execution_count": 207,
   "id": "652950ec-b0bb-4791-a8e1-a9b09f577887",
   "metadata": {},
   "outputs": [
    {
     "name": "stdout",
     "output_type": "stream",
     "text": [
      "you have to check your blood pressure regularly\n"
     ]
    }
   ],
   "source": [
    "# the if-elif-else statement test more than two possible situations.\n",
    "# only one block is executed in an if-elif-else statement.\n",
    "age = 30\n",
    "if age < 15:\n",
    "    print(\"you are not up to the age of those with high blood pressure\")\n",
    "elif age >= 30:\n",
    "    print(\"you have to check your blood pressure regularly\")\n",
    "else:\n",
    "    print(\"you are fine\")\n",
    "# the else block is a catchall statement . it matches any condition that wasnt matched by a specific if or elif test."
   ]
  },
  {
   "cell_type": "code",
   "execution_count": 209,
   "id": "3972ef9b-ae2e-4049-83c2-8cf149a9c4d5",
   "metadata": {},
   "outputs": [
    {
     "name": "stdout",
     "output_type": "stream",
     "text": [
      "include flagyl.\n",
      "include dopatab\n",
      "thank you\n"
     ]
    }
   ],
   "source": [
    "list_of_drugs =['dopatab', 'flagyl', 'acycor', 'cataflam']\n",
    "if 'flagyl' in list_of_drugs:\n",
    "    print(\"include flagyl.\")\n",
    "if 'dopatab' in list_of_drugs:\n",
    "    print(\"include dopatab\")\n",
    "if 'amoxil' in list_of_drugs:\n",
    "    print(\"adding amoxil\")\n",
    "print(\"thank you\")\n",
    "# in this case, we are testing for multiple conditions, every condition here is evaluated.\n",
    "# this code will not work properly if we had used the if-elif-else chain because the code would stop running after only one test passes.\n",
    "\n"
   ]
  },
  {
   "cell_type": "code",
   "execution_count": 211,
   "id": "608f46dc-d866-446e-b751-d7a812c6d7d2",
   "metadata": {},
   "outputs": [
    {
     "name": "stdout",
     "output_type": "stream",
     "text": [
      "adding mango\n",
      "adding orange\n",
      "adding pawpaw\n",
      "adding grape\n",
      "adding strawberry\n",
      "\n",
      "go and die\n"
     ]
    }
   ],
   "source": [
    "# using the if statements with lists helps to locate special values that need to be treated differently than other values in the list.\n",
    "fruits = ['mango', 'orange', 'pawpaw', 'grape','strawberry']\n",
    "for poison_fruit in fruits:\n",
    "    print(f\"adding {poison_fruit}\")\n",
    "print(\"\\ngo and die\")    "
   ]
  },
  {
   "cell_type": "code",
   "execution_count": 212,
   "id": "ac45ecad-d2b5-43c8-8ca7-ae24fb525da9",
   "metadata": {},
   "outputs": [
    {
     "name": "stdout",
     "output_type": "stream",
     "text": [
      "adding mango\n",
      "adding orange\n",
      "thank you for taking it out\n",
      "adding grape\n",
      "adding strawberry\n",
      "\n",
      "go and die\n"
     ]
    }
   ],
   "source": [
    "fruits = ['mango', 'orange', 'pawpaw', 'grape','strawberry']\n",
    "for poison_fruit in fruits:\n",
    "    if poison_fruit == \"pawpaw\":\n",
    "        print(\"thank you for taking it out\")\n",
    "    else:\n",
    "        print(f\"adding {poison_fruit}\")\n",
    "print(\"\\ngo and die\")          "
   ]
  },
  {
   "cell_type": "code",
   "execution_count": 215,
   "id": "044ab056-9ae2-4a08-a313-1eea4d46c8da",
   "metadata": {},
   "outputs": [
    {
     "data": {
      "text/plain": [
       "245"
      ]
     },
     "execution_count": 215,
     "metadata": {},
     "output_type": "execute_result"
    }
   ],
   "source": [
    "# a dictionary in python is a collection of key-value pairs. each key is connected to a value.\n",
    "# a key's value can be a number, a string, a list or even another dictionary.\n",
    "# a dictionary is wrapped in \"{}\" with a series of key-value pairs inside the braces.\n",
    "# a key-value pair is set of values associated with each other.\n",
    "# every key is connected to its value by a colon, and individual key-value pair are seperated by a comma.\n",
    "roziel_pharmacy = {'color' : 'blue' , 'number' : 245 }\n",
    "(roziel_pharmacy['color'])\n",
    "(roziel_pharmacy['number'])\n"
   ]
  },
  {
   "cell_type": "code",
   "execution_count": 216,
   "id": "9607f3da-b8b9-40e1-8fda-50c59ec7bd36",
   "metadata": {},
   "outputs": [
    {
     "data": {
      "text/plain": [
       "{'color': 'blue', 'number': 245}"
      ]
     },
     "execution_count": 216,
     "metadata": {},
     "output_type": "execute_result"
    }
   ],
   "source": [
    "# a new key-value pair can be added to a dictionary any time.\n",
    "roziel_pharmacy = {'color' : 'blue' , 'number' : 245 }\n",
    "(roziel_pharmacy)"
   ]
  },
  {
   "cell_type": "code",
   "execution_count": 217,
   "id": "c3e75f2f-3021-4c60-b15a-c2ab086bcb84",
   "metadata": {},
   "outputs": [
    {
     "data": {
      "text/plain": [
       "{'color': 'blue', 'number': 245, 'x_position': 0, 'y_position': 25}"
      ]
     },
     "execution_count": 217,
     "metadata": {},
     "output_type": "execute_result"
    }
   ],
   "source": [
    "roziel_pharmacy['x_position'] = 0\n",
    "roziel_pharmacy['y_position'] = 25\n",
    "(roziel_pharmacy)"
   ]
  },
  {
   "cell_type": "code",
   "execution_count": 218,
   "id": "e3b1c2cf-ab18-4b0e-94ac-4bdf78d01acb",
   "metadata": {},
   "outputs": [
    {
     "data": {
      "text/plain": [
       "{'diclofenac': 50, 'naproxen': 500, 'ibuprofen': 400, 'celecoxib': 200}"
      ]
     },
     "execution_count": 218,
     "metadata": {},
     "output_type": "execute_result"
    }
   ],
   "source": [
    "# it is convenient and necessary to start with an empty dictionary and then add new item to it.\n",
    "# the dictionary has to be defined with an empty set of braces \"{}\" and then add each key-value pair on its own line.\n",
    "analgesics_medicine = {}\n",
    "analgesics_medicine['diclofenac'] = 50\n",
    "analgesics_medicine['naproxen'] = 500\n",
    "analgesics_medicine['ibuprofen'] = 400\n",
    "analgesics_medicine['celecoxib'] = 200\n",
    "(analgesics_medicine)"
   ]
  },
  {
   "cell_type": "code",
   "execution_count": 219,
   "id": "bbf31dea-5bd4-4afb-883b-ce02bc70285f",
   "metadata": {},
   "outputs": [
    {
     "data": {
      "text/plain": [
       "{'color': 'grey', 'number': 245}"
      ]
     },
     "execution_count": 219,
     "metadata": {},
     "output_type": "execute_result"
    }
   ],
   "source": [
    "# to modify a value in a dictionary,the name of the dictionary with the key in square brackets and then the new value you want associated with that key.\n",
    "roziel_pharmacy = {'color' : 'blue' , 'number' : 245 }\n",
    "roziel_pharmacy['color'] = 'grey'\n",
    "(roziel_pharmacy)"
   ]
  },
  {
   "cell_type": "code",
   "execution_count": 221,
   "id": "731be7e0-ff33-4874-ba83-d5c3b5f1c72b",
   "metadata": {},
   "outputs": [
    {
     "data": {
      "text/plain": [
       "{'diclofenac': 50, 'ibuprofen': 400, 'celecoxib': 200}"
      ]
     },
     "execution_count": 221,
     "metadata": {},
     "output_type": "execute_result"
    }
   ],
   "source": [
    "# you can use the del statement to completely remove a key-value pair.\n",
    "# all del needs is the name of the dictionary and the key that you want to remove.\n",
    "analgesics_medicine = {'diclofenac': 50, 'naproxen': 500, 'ibuprofen': 400, 'celecoxib': 200}\n",
    "#(analgesics_medicine)\n",
    "del analgesics_medicine['naproxen']\n",
    "(analgesics_medicine)\n",
    "# the deleted key-value pair is removed permanently."
   ]
  },
  {
   "cell_type": "code",
   "execution_count": 239,
   "id": "e06f2e7e-cc47-4302-8cff-694b723cb87a",
   "metadata": {},
   "outputs": [
    {
     "data": {
      "text/plain": [
       "\" ifeanyi's favorite food is Rice.\""
      ]
     },
     "execution_count": 239,
     "metadata": {},
     "output_type": "execute_result"
    }
   ],
   "source": [
    "# you can also use a dictionary to store one kind of information for many objects.\n",
    "favorite_food = {\n",
    "    'rose' : 'yam',\n",
    "    'ifeanyi' : 'rice',\n",
    "    'goddy' : 'bole',\n",
    "    'judith' : 'plantain',\n",
    "    'nancy' : 'cray_fish',\n",
    "    }\n",
    "food = favorite_food['ifeanyi'].title()\n",
    "(f\" ifeanyi's favorite food is {food}.\")"
   ]
  },
  {
   "cell_type": "code",
   "execution_count": 243,
   "id": "944775b0-f33d-4ea8-8661-f3eec840151a",
   "metadata": {},
   "outputs": [
    {
     "data": {
      "text/plain": [
       "'no points value assigned.'"
      ]
     },
     "execution_count": 243,
     "metadata": {},
     "output_type": "execute_result"
    }
   ],
   "source": [
    "# using key in \"[]\" to retrieve the value you're interested in from a dictionary my cause a problem if the key you asked for doesnt exist.\n",
    "# for dictionaries, specifically, you can use the get() method to set a default value that will be returned if the requested key doesnt exist.\n",
    "favorite_food = {\n",
    "    'rose' : 'yam',\n",
    "    'ifeanyi' : 'rice',\n",
    "    'goddy' : 'bole',\n",
    "    'judith' : 'plantain',\n",
    "    'nancy' : 'cray_fish',\n",
    "    }\n",
    "points_value = favorite_food.get('points' , 'no points value assigned.')\n",
    "(points_value)\n",
    "# if the key 'points' exist in the dictionary, you'll get the corresponding value.\n",
    "# in this case , it doesnt exist and we got a clean message insted of an error"
   ]
  },
  {
   "cell_type": "code",
   "execution_count": 245,
   "id": "ed132fbf-5b4c-445f-ae7c-b70b2fe08c24",
   "metadata": {},
   "outputs": [
    {
     "ename": "KeyError",
     "evalue": "'points'",
     "output_type": "error",
     "traceback": [
      "\u001b[1;31m---------------------------------------------------------------------------\u001b[0m",
      "\u001b[1;31mKeyError\u001b[0m                                  Traceback (most recent call last)",
      "Cell \u001b[1;32mIn[245], line 8\u001b[0m\n\u001b[0;32m      1\u001b[0m favorite_food \u001b[38;5;241m=\u001b[39m {\n\u001b[0;32m      2\u001b[0m     \u001b[38;5;124m'\u001b[39m\u001b[38;5;124mrose\u001b[39m\u001b[38;5;124m'\u001b[39m : \u001b[38;5;124m'\u001b[39m\u001b[38;5;124myam\u001b[39m\u001b[38;5;124m'\u001b[39m,\n\u001b[0;32m      3\u001b[0m     \u001b[38;5;124m'\u001b[39m\u001b[38;5;124mifeanyi\u001b[39m\u001b[38;5;124m'\u001b[39m : \u001b[38;5;124m'\u001b[39m\u001b[38;5;124mrice\u001b[39m\u001b[38;5;124m'\u001b[39m,\n\u001b[1;32m   (...)\u001b[0m\n\u001b[0;32m      6\u001b[0m     \u001b[38;5;124m'\u001b[39m\u001b[38;5;124mnancy\u001b[39m\u001b[38;5;124m'\u001b[39m : \u001b[38;5;124m'\u001b[39m\u001b[38;5;124mcray_fish\u001b[39m\u001b[38;5;124m'\u001b[39m,\n\u001b[0;32m      7\u001b[0m     }\n\u001b[1;32m----> 8\u001b[0m \u001b[38;5;28mprint\u001b[39m(\u001b[43mfavorite_food\u001b[49m\u001b[43m[\u001b[49m\u001b[38;5;124;43m'\u001b[39;49m\u001b[38;5;124;43mpoints\u001b[39;49m\u001b[38;5;124;43m'\u001b[39;49m\u001b[43m]\u001b[49m)\n",
      "\u001b[1;31mKeyError\u001b[0m: 'points'"
     ]
    }
   ],
   "source": [
    "favorite_food = {\n",
    "    'rose' : 'yam',\n",
    "    'ifeanyi' : 'rice',\n",
    "    'goddy' : 'bole',\n",
    "    'judith' : 'plantain',\n",
    "    'nancy' : 'cray_fish',\n",
    "    }\n",
    "print(favorite_food['points'])\n",
    "# using key in \"[]\" to retrieve the value you're interested in from a dictionary my cause a problem if the key you asked for doesnt exist."
   ]
  },
  {
   "cell_type": "code",
   "execution_count": 252,
   "id": "2814e226-b7ad-4b86-b411-a20f97c91531",
   "metadata": {},
   "outputs": [
    {
     "name": "stdout",
     "output_type": "stream",
     "text": [
      "\n",
      "key: username\n",
      "value: newheaven\n",
      "\n",
      "key: first name\n",
      "value: tonte\n",
      "\n",
      "key: last name\n",
      "value: zidiri\n"
     ]
    }
   ],
   "source": [
    "# looping through all key-value pairs\n",
    "roziel_client_1 = {\n",
    "    'username' : 'newheaven',\n",
    "    'first name' : 'tonte',\n",
    "    'last name' : 'zidiri',\n",
    "    }\n",
    "for key , value in roziel_client_1.items():\n",
    "    print(f\"\\nkey: {key}\")\n",
    "    print(f\"value: {value}\")"
   ]
  },
  {
   "cell_type": "code",
   "execution_count": 256,
   "id": "fa8294a3-79bc-4b9b-83ca-24643f189c0f",
   "metadata": {},
   "outputs": [
    {
     "name": "stdout",
     "output_type": "stream",
     "text": [
      "Rose\n",
      "Ifeanyi\n",
      "Goddy\n",
      "Judith\n",
      "Nancy\n"
     ]
    }
   ],
   "source": [
    "# looping through all the keys in a dictionary involves using the keys() method since i dont need to work with values\n",
    "favorite_food = {\n",
    "    'rose' : 'yam',\n",
    "    'ifeanyi' : 'rice',\n",
    "    'goddy' : 'bole',\n",
    "    'judith' : 'plantain',\n",
    "    'nancy' : 'cray_fish',\n",
    "    }\n",
    "for name in favorite_food.keys():\n",
    "    print(name.title())"
   ]
  },
  {
   "cell_type": "code",
   "execution_count": 265,
   "id": "3ce656a1-ab11-4611-a0cb-3a81bcc0fe32",
   "metadata": {},
   "outputs": [
    {
     "name": "stdout",
     "output_type": "stream",
     "text": [
      "Martha\n",
      "Victoria\n",
      "Silver\n",
      "\tSilver, i see you love Igbo\n",
      "Razaki\n",
      "\tRazaki, i see you love Yoruba\n"
     ]
    }
   ],
   "source": [
    "staffs_tribes = {\n",
    "'martha':'ogun', \n",
    "'victoria':'kalabari',\n",
    "'silver':'igbo',\n",
    "'razaki':'yoruba'\n",
    "}\n",
    "pals = ['razaki', 'silver']\n",
    "for name in staffs_tribes.keys():\n",
    "    print(name.title())\n",
    "    if name in pals:\n",
    "        tribe = staffs_tribes[name].title()\n",
    "        print(f\"\\t{name.title()}, i see you love {tribe}\")"
   ]
  },
  {
   "cell_type": "code",
   "execution_count": 279,
   "id": "ddd1a075-f81f-4162-ab9f-14b7c4cc5430",
   "metadata": {},
   "outputs": [
    {
     "name": "stdout",
     "output_type": "stream",
     "text": [
      "Rose\n",
      "Ifeanyi\n",
      "\tIfeanyi, i see you love Rice \n",
      "Goddy\n",
      "\tGoddy, i see you love Bole \n",
      "Judith\n",
      "Nancy\n"
     ]
    }
   ],
   "source": [
    "favorite_food = {\n",
    "    'rose' : 'yam',\n",
    "    'ifeanyi' : 'rice',\n",
    "    'goddy' : 'bole',\n",
    "    'judith' : 'plantain',\n",
    "    'nancy' : 'cray_fish',\n",
    "    }\n",
    "neigbours = ['ifeanyi' , 'goddy']\n",
    "for name in favorite_food.keys():\n",
    "    print(name.title())\n",
    "    if name in neigbours:\n",
    "        food = favorite_food[name].title()\n",
    "        print(f\"\\t{name.title()}, i see you love {food} \")\n",
    "# you can access the value associated with any key you care about inside a loop by using the current key.\n",
    "# the key() method isn't just for looping: it actually returns a list of all the keys."
   ]
  },
  {
   "cell_type": "code",
   "execution_count": 280,
   "id": "e12a69f5-90c6-4137-82d5-c7b94e572a45",
   "metadata": {},
   "outputs": [
    {
     "name": "stdout",
     "output_type": "stream",
     "text": [
      "Martha, thank you for working at roziel.\n",
      "Razaki, thank you for working at roziel.\n",
      "Silver, thank you for working at roziel.\n",
      "Victoria, thank you for working at roziel.\n"
     ]
    }
   ],
   "source": [
    "# looping through a dictionary returns the items in the same order they were inserted.\n",
    "# you can use the sorted() function to get a copy of the keys in order \n",
    "staffs_tribes = {\n",
    "'martha':'ogun', \n",
    "'victoria':'kalabari',\n",
    "'silver':'igbo',\n",
    "'razaki':'yoruba'\n",
    "}\n",
    "for name in sorted(staffs_tribes.keys()):\n",
    "    print(f\"{name.title()}, thank you for working at roziel.\")\n",
    "# the for statement is like other for statement except that we've wrapped the sorted() function around the dictionary.keys() method    "
   ]
  },
  {
   "cell_type": "code",
   "execution_count": 283,
   "id": "847fbfdd-722a-4a11-b840-0014f7cb03bf",
   "metadata": {},
   "outputs": [
    {
     "name": "stdout",
     "output_type": "stream",
     "text": [
      "Yam\n",
      "Rice\n",
      "Bole\n",
      "Plantain\n",
      "Cray_Fish\n"
     ]
    }
   ],
   "source": [
    "# looping through all values in a dictionary involves using the values() method to return the list of values without any keys.\n",
    "favorite_food = {\n",
    "    'rose' : 'yam',\n",
    "    'ifeanyi' : 'rice',\n",
    "    'goddy' : 'bole',\n",
    "    'judith' : 'plantain',\n",
    "    'nancy' : 'cray_fish',\n",
    "    }\n",
    "for food in favorite_food.values():\n",
    "    print(food.title())\n",
    "# the for statement pulls each value from the dictionary and assign it to the variable \"food\"    \n",
    "# this approach pulls all the values from the dictionary without checking for repeats, this might work fine with a small number of values, \n",
    "    # but in a poll of large respondents,this would result in a very repetitive list."
   ]
  },
  {
   "cell_type": "code",
   "execution_count": 284,
   "id": "7e24366b-69bb-4784-8455-7162cd785239",
   "metadata": {},
   "outputs": [
    {
     "name": "stdout",
     "output_type": "stream",
     "text": [
      "Plantain\n",
      "Rice\n",
      "Cray_Fish\n",
      "Bole\n",
      "Yam\n"
     ]
    }
   ],
   "source": [
    "# to see each food choosen without repetition, we can use a \"set\"\n",
    "    # a set is a collection in which each item must be unique.\n",
    "favorite_food = {\n",
    "    'rose' : 'yam',\n",
    "    'ifeanyi' : 'rice',\n",
    "    'goddy' : 'bole',\n",
    "    'judith' : 'plantain',\n",
    "    'nancy' : 'cray_fish',\n",
    "    'uju' : 'rice',\n",
    "    }\n",
    "for food in set(favorite_food.values()):\n",
    "    print(food.title())\n",
    "    # when you wrap set() around a list containing duplicate items, python identifies it."
   ]
  },
  {
   "cell_type": "code",
   "execution_count": 285,
   "id": "61130419-7bac-406d-9c5e-2699eeb8d20d",
   "metadata": {},
   "outputs": [
    {
     "name": "stdout",
     "output_type": "stream",
     "text": [
      "{'colour': 'green', 'conc': 50}\n",
      "{'colour': 'black', 'conc': 100}\n",
      "{'colour': 'green', 'conc': 500}\n"
     ]
    }
   ],
   "source": [
    "# nesting is an act of storing multiple dictionaries in a list , or a list of items as a value in a dictionary.\n",
    "# you can nest dictionaries inside a list, a list of items inside a dictionary, or even a dictionary inside another dictionary.\n",
    "cephalosporin_0 = {'colour' : 'green' , 'conc' : 50}\n",
    "cephalosporin_1 = {'colour' : 'black' , 'conc' : 100}\n",
    "cephalosporin_2 = {'colour' : 'green' , 'conc' : 500}\n",
    "cephalosporins_pharmacy = [cephalosporin_0, cephalosporin_1, cephalosporin_2]\n",
    "for antibiotics in cephalosporins_pharmacy:\n",
    "    print(antibiotics)\n",
    "                 "
   ]
  },
  {
   "cell_type": "code",
   "execution_count": 289,
   "id": "a193acf5-31ca-45d2-a0e9-94dc651cd20f",
   "metadata": {},
   "outputs": [
    {
     "name": "stdout",
     "output_type": "stream",
     "text": [
      "you ordered a thick-crust pizza with the following toppings:\n",
      "\tmushroom\n",
      "\textra cheese\n"
     ]
    }
   ],
   "source": [
    "# rather than putting a dictionary inside a list,it's sometimes useful to put a list inside a dictionary.\n",
    "pizza = {'crust' : 'thick' , 'toppings' : ['mushroom' , 'extra cheese'],}\n",
    "print(f\"you ordered a {pizza['crust']}-crust pizza \"  \"with the following toppings:\")\n",
    "for topping in pizza['toppings']:\n",
    "    print(\"\\t\" + topping)"
   ]
  },
  {
   "cell_type": "code",
   "execution_count": 295,
   "id": "c0631548-8147-430f-a859-cda507aa5988",
   "metadata": {},
   "outputs": [
    {
     "name": "stdout",
     "output_type": "stream",
     "text": [
      "\n",
      "Awele's favorite_nri are:\n",
      "\tYam\n",
      "\tBeans\n",
      "\n",
      "Vincent's favorite_nri are:\n",
      "\tNoodles\n",
      "\n",
      "Christian's favorite_nri are:\n",
      "\tRice\n",
      "\tGarri\n",
      "\n",
      "Jude's favorite_nri are:\n",
      "\tBanga\n",
      "\tStarch\n"
     ]
    }
   ],
   "source": [
    "# you can nest a list inside a dictionary any time you want more than one value to be associated with a single KEY in a dictionary.\n",
    "favorite_nri = {\n",
    "    'awele' : ['yam' , 'beans'],\n",
    "    'vincent' : ['noodles'],\n",
    "    'christian' : ['rice', 'garri'],\n",
    "    'jude' : ['banga', 'starch'],\n",
    "}\n",
    "for name , foods in favorite_nri.items():\n",
    "    print(f\"\\n{name.title()}'s favorite_nri are:\")\n",
    "    for food in foods:\n",
    "        print(f\"\\t{food.title()}\")"
   ]
  },
  {
   "cell_type": "code",
   "execution_count": 301,
   "id": "c121f373-9b9a-4bf3-bad5-df450c6c0e78",
   "metadata": {},
   "outputs": [
    {
     "name": "stdout",
     "output_type": "stream",
     "text": [
      "\n",
      "username: malawii\n",
      "\tfull name: Nnadozie Agwulonu\n",
      "\tlocation: Ozuoba\n",
      "\n",
      "username: rosey\n",
      "\tfull name: Rosemary Ozua\n",
      "\tlocation: Mgbuoba\n"
     ]
    }
   ],
   "source": [
    "# You can nest a dictionary inside a dictionary, but your code can become complicated quickly when you do.\n",
    "roziel_client = {                            \n",
    "    'malawii' : {\n",
    "        'first' : 'nnadozie',\n",
    "        'last' : 'agwulonu',\n",
    "        'location' : 'ozuoba',\n",
    "    },\n",
    "    'rosey' : {\n",
    "        'first' : 'rosemary',\n",
    "        'last'  : 'ozua',\n",
    "        'location' : 'mgbuoba',\n",
    "    },\n",
    "}\n",
    "# we first define a dictionary called roziel_client with two keys, one each for the usernames \"malawii\" and \"rosey\"\n",
    "# the values associated with each key is a dictionary that includes each users first name, last name and location\n",
    "\n",
    "for username, user_info in roziel_client.items():   # we loop through the roziel_client dictionary\n",
    "    print(f\"\\nusername: {username}\")          # we print the username at here\n",
    "    full_name = f\"{user_info['first']} {user_info['last']}\"  # accessing the inner dictionary\n",
    "    location = user_info['location']\n",
    "    print(f\"\\tfull name: {full_name.title()}\")\n",
    "    print(f\"\\tlocation: {location.title()}\")"
   ]
  },
  {
   "cell_type": "code",
   "execution_count": 302,
   "id": "a558ff8a-67a0-4cca-bee9-6082421d572c",
   "metadata": {},
   "outputs": [
    {
     "name": "stdin",
     "output_type": "stream",
     "text": [
      "what do you think is good for a child to play with:    toys\n"
     ]
    },
    {
     "data": {
      "text/plain": [
       "'toys'"
      ]
     },
     "execution_count": 302,
     "metadata": {},
     "output_type": "execute_result"
    }
   ],
   "source": [
    "# the input() function pauses your program and waits for the user to enter some text.\n",
    "# python receives the user's input, it assigns that input to a variable to make it convenient for me to work with.\n",
    "message = input(\"what do you think is good for a child to play with:   \") # the prompt or instructions.\n",
    "(message)\n",
    "# the response is assigned to the variable \"mesage\""
   ]
  },
  {
   "cell_type": "code",
   "execution_count": 304,
   "id": "6f0204aa-980d-4ae3-a3c7-a2a2c8af3fe4",
   "metadata": {},
   "outputs": [
    {
     "name": "stdin",
     "output_type": "stream",
     "text": [
      "please enter your name:    nnadozie\n"
     ]
    },
    {
     "name": "stdout",
     "output_type": "stream",
     "text": [
      "\n",
      "Hello, nnadozie\n"
     ]
    }
   ],
   "source": [
    "# each time you use the input() function, you should inclue a clear, easy-to-follow prompt that tells the user exactly what kind of information you are lookig for.\n",
    "name = input(\"please enter your name:   \")\n",
    "print(f\"\\nHello, {name}\")"
   ]
  },
  {
   "cell_type": "code",
   "execution_count": 305,
   "id": "5f8b4fc8-4231-4c70-a7d1-df6ae259e275",
   "metadata": {},
   "outputs": [
    {
     "name": "stdin",
     "output_type": "stream",
     "text": [
      "we need to know you, what you do and where stay.\n",
      "what is your first name ?   nnadozie\n"
     ]
    },
    {
     "name": "stdout",
     "output_type": "stream",
     "text": [
      "\n",
      "hello, nnadozie!\n"
     ]
    }
   ],
   "source": [
    "# sometimes, prompt are usually more than one line, you can assign the prompt to a variable and pass that variable to the input() function\n",
    "prompt = \"we need to know you, what you do and where stay.\"\n",
    "prompt += \"\\nwhat is your first name ?  \"\n",
    "name = input(prompt)\n",
    "print(f\"\\nhello, {name}!\")\n",
    "# you can build a multi line string using using this way"
   ]
  },
  {
   "cell_type": "code",
   "execution_count": 306,
   "id": "694fe7ab-3a5c-4c61-b074-a2206dc99e68",
   "metadata": {},
   "outputs": [
    {
     "name": "stdin",
     "output_type": "stream",
     "text": [
      "please tell us your date of birth?   1986\n"
     ]
    },
    {
     "data": {
      "text/plain": [
       "'1986'"
      ]
     },
     "execution_count": 306,
     "metadata": {},
     "output_type": "execute_result"
    }
   ],
   "source": [
    "# when you use the input() function to accept an int, python interpret everything as a string\n",
    "age = input(\"please tell us your date of birth?  \")\n",
    "(age)"
   ]
  },
  {
   "cell_type": "code",
   "execution_count": 308,
   "id": "20f1944c-cdf0-4999-821a-092b76b928a9",
   "metadata": {},
   "outputs": [
    {
     "name": "stdin",
     "output_type": "stream",
     "text": [
      "please tell us your date of birth?   1986\n"
     ]
    }
   ],
   "source": [
    "age = int(input(\"please tell us your date of birth?  \"))"
   ]
  },
  {
   "cell_type": "code",
   "execution_count": 309,
   "id": "1b9c6fbe-e6f1-4196-961e-134e54df3205",
   "metadata": {},
   "outputs": [
    {
     "data": {
      "text/plain": [
       "True"
      ]
     },
     "execution_count": 309,
     "metadata": {},
     "output_type": "execute_result"
    }
   ],
   "source": [
    "age >= 18"
   ]
  },
  {
   "cell_type": "code",
   "execution_count": 312,
   "id": "e0576d48-0801-4546-af52-daa04980f4f9",
   "metadata": {},
   "outputs": [
    {
     "name": "stdin",
     "output_type": "stream",
     "text": [
      "how tall are you, in inches ?  60\n"
     ]
    },
    {
     "name": "stdout",
     "output_type": "stream",
     "text": [
      "\n",
      "you're tall enough to ride\n"
     ]
    }
   ],
   "source": [
    "# the int() function is a actual program\n",
    "height = int(input(\"how tall are you, in inches ? \"))\n",
    "(height)\n",
    "if height >= 48:\n",
    "    print(\"\\nyou're tall enough to ride\")\n",
    "else:\n",
    "    print(\"\\nyou will be able to ride when you are a little older\")\n",
    "             "
   ]
  },
  {
   "cell_type": "code",
   "execution_count": 324,
   "id": "b99ce963-e9c2-4145-ab64-69ed2826728a",
   "metadata": {},
   "outputs": [
    {
     "name": "stdin",
     "output_type": "stream",
     "text": [
      "how many people are in their dinner group ?  20\n"
     ]
    },
    {
     "name": "stdout",
     "output_type": "stream",
     "text": [
      "\n",
      "you guys will have to wait for a table\n"
     ]
    }
   ],
   "source": [
    "restaurant_sitting = int(input(\"how many people are in their dinner group ? \"))\n",
    "if restaurant_sitting >= 8:\n",
    "    print(f\"\\nyou guys will have to wait for a table\")\n",
    "else:\n",
    "    print(f\"\\nthe table is ready\")\n",
    "                         "
   ]
  },
  {
   "cell_type": "code",
   "execution_count": 313,
   "id": "15b92cca-6e09-4b3d-ab69-eaf7bd17a474",
   "metadata": {},
   "outputs": [
    {
     "data": {
      "text/plain": [
       "1"
      ]
     },
     "execution_count": 313,
     "metadata": {},
     "output_type": "execute_result"
    }
   ],
   "source": [
    "# a useful tool for working with numerical information is the modulo operator (%)\n",
    "# it divides one number by another number and returns the remainder.\n",
    "# a modulo operator does not tell you how many times one number fits into another, it tells you what the remainder is.\n",
    "4 % 3"
   ]
  },
  {
   "cell_type": "code",
   "execution_count": 314,
   "id": "6b836ef2-a124-4044-96a8-4f141df09cf9",
   "metadata": {},
   "outputs": [
    {
     "data": {
      "text/plain": [
       "2"
      ]
     },
     "execution_count": 314,
     "metadata": {},
     "output_type": "execute_result"
    }
   ],
   "source": [
    "5 % 3"
   ]
  },
  {
   "cell_type": "code",
   "execution_count": 315,
   "id": "2d058498-a354-4329-9f0b-61307b060342",
   "metadata": {},
   "outputs": [
    {
     "data": {
      "text/plain": [
       "0"
      ]
     },
     "execution_count": 315,
     "metadata": {},
     "output_type": "execute_result"
    }
   ],
   "source": [
    "6 % 3"
   ]
  },
  {
   "cell_type": "code",
   "execution_count": 316,
   "id": "01d93336-81b7-42e6-bdff-7d770d5df77b",
   "metadata": {},
   "outputs": [
    {
     "data": {
      "text/plain": [
       "1"
      ]
     },
     "execution_count": 316,
     "metadata": {},
     "output_type": "execute_result"
    }
   ],
   "source": [
    "7 % 3"
   ]
  },
  {
   "cell_type": "code",
   "execution_count": 317,
   "id": "fd0b261d-db8c-4bf6-b1e3-3d62c746da0e",
   "metadata": {},
   "outputs": [
    {
     "name": "stdin",
     "output_type": "stream",
     "text": [
      "enter a number , and i'll tell you if it's even or odd:   31\n"
     ]
    },
    {
     "name": "stdout",
     "output_type": "stream",
     "text": [
      "\n",
      "the number 31 is odd. \n"
     ]
    }
   ],
   "source": [
    "number = int(input(\"enter a number , and i'll tell you if it's even or odd:  \"))\n",
    "if number % 2 == 0:\n",
    "    print(f\"\\nthe number {number} is even. \")\n",
    "else:\n",
    "    print(f\"\\nthe number {number} is odd. \")\n"
   ]
  },
  {
   "cell_type": "code",
   "execution_count": 318,
   "id": "cfd8c013-bf1a-4716-b8ea-25a394b5dd26",
   "metadata": {},
   "outputs": [
    {
     "name": "stdin",
     "output_type": "stream",
     "text": [
      "enter a number , and i'll tell you if it's even or odd:   40\n"
     ]
    },
    {
     "name": "stdout",
     "output_type": "stream",
     "text": [
      "\n",
      "the number 40 is even. \n"
     ]
    }
   ],
   "source": [
    "number = int(input(\"enter a number , and i'll tell you if it's even or odd:  \"))\n",
    "if number % 2 == 0:\n",
    "    print(f\"\\nthe number {number} is even. \")\n",
    "else:\n",
    "    print(f\"\\nthe number {number} is odd. \")\n"
   ]
  },
  {
   "cell_type": "code",
   "execution_count": 319,
   "id": "f03b32f1-9beb-4b0b-8d3e-ec7407d86eff",
   "metadata": {},
   "outputs": [
    {
     "name": "stdin",
     "output_type": "stream",
     "text": [
      "enter a number and i will tell you if it's amultiple of ten:  100\n"
     ]
    },
    {
     "name": "stdout",
     "output_type": "stream",
     "text": [
      "\n",
      "the number 100 is a multiple of ten. \n"
     ]
    }
   ],
   "source": [
    "number = int(input(\"enter a number and i will tell you if it's amultiple of ten: \"))\n",
    "if number % 10 == 0:\n",
    "    print(f\"\\nthe number {number} is a multiple of ten. \")\n",
    "else:\n",
    "    print(f\"\\nthe number {number} is not a multiple of ten\")"
   ]
  },
  {
   "cell_type": "code",
   "execution_count": null,
   "id": "a78ea9c2-6eeb-4573-a468-421fd971864d",
   "metadata": {},
   "outputs": [],
   "source": [
    "prompt = \"\\ntell me something, and i will repeat it back to you:\"\n",
    "prompt += \"\\nenter 'quit' to end the program. \"\n",
    "message = \"\"\n",
    "while message != 'quit':\n",
    "    message = input(prompt)\n",
    "print(message)"
   ]
  },
  {
   "cell_type": "code",
   "execution_count": null,
   "id": "c9e72320-ba3f-4f3b-b65a-80371d42ba37",
   "metadata": {},
   "outputs": [],
   "source": []
  }
 ],
 "metadata": {
  "kernelspec": {
   "display_name": "Python 3 (ipykernel)",
   "language": "python",
   "name": "python3"
  },
  "language_info": {
   "codemirror_mode": {
    "name": "ipython",
    "version": 3
   },
   "file_extension": ".py",
   "mimetype": "text/x-python",
   "name": "python",
   "nbconvert_exporter": "python",
   "pygments_lexer": "ipython3",
   "version": "3.13.0"
  }
 },
 "nbformat": 4,
 "nbformat_minor": 5
}
