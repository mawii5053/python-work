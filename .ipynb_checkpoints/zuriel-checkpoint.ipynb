{
 "cells": [
  {
   "cell_type": "code",
   "execution_count": 4,
   "id": "9f2923de-9e60-46c5-966b-4265dcf4b560",
   "metadata": {},
   "outputs": [
    {
     "name": "stdin",
     "output_type": "stream",
     "text": [
      "what is your surname ? Agwulonu\n"
     ]
    }
   ],
   "source": [
    "# getting input from the user; the built-in  input function requests and obtains user input:\n",
    "name = input(\"what is your surname ?\")\n",
    "# firstly, input displays its string argument called a prompt to tell the user what to type and wait for the user to respond.\n",
    "# we typed Agwulonu and pressed enter\n",
    "# the input function then returns Agwulonu as a string that the program can use \n",
    "# input function always return a string"
   ]
  },
  {
   "cell_type": "code",
   "execution_count": 5,
   "id": "94783706-476a-4581-a512-48105a6aa5d5",
   "metadata": {},
   "outputs": [
    {
     "data": {
      "text/plain": [
       "'Agwulonu'"
      ]
     },
     "execution_count": 5,
     "metadata": {},
     "output_type": "execute_result"
    }
   ],
   "source": [
    "name"
   ]
  },
  {
   "cell_type": "code",
   "execution_count": 8,
   "id": "d19186e7-f2ed-43eb-a9dc-b32ee9853a3b",
   "metadata": {},
   "outputs": [
    {
     "name": "stdout",
     "output_type": "stream",
     "text": [
      "Agwulonu\n"
     ]
    }
   ],
   "source": [
    "print(name)"
   ]
  },
  {
   "cell_type": "code",
   "execution_count": 31,
   "id": "941c7406-2eb3-4326-bcae-d9ab4e077f16",
   "metadata": {},
   "outputs": [
    {
     "name": "stdin",
     "output_type": "stream",
     "text": [
      " : 20\n"
     ]
    }
   ],
   "source": [
    "# getting an integer from the user, the need to convert the string to an integer using the int function is necessary\n",
    "concentration_of_piroxicam = int(input(\" :\"))"
   ]
  },
  {
   "cell_type": "code",
   "execution_count": 21,
   "id": "8ef62bdc-2f1f-4e82-8c45-7cce96a98974",
   "metadata": {},
   "outputs": [],
   "source": [
    "concentration_of_piroxicam = int(concentration_of_piroxicam)"
   ]
  },
  {
   "cell_type": "code",
   "execution_count": 22,
   "id": "3db2a2c0-8861-4399-b379-df07a6451bba",
   "metadata": {},
   "outputs": [
    {
     "data": {
      "text/plain": [
       "20"
      ]
     },
     "execution_count": 22,
     "metadata": {},
     "output_type": "execute_result"
    }
   ],
   "source": [
    "concentration_of_piroxicam"
   ]
  },
  {
   "cell_type": "code",
   "execution_count": 33,
   "id": "c9cb9007-7531-4cba-8bc1-bbb701482045",
   "metadata": {},
   "outputs": [
    {
     "data": {
      "text/plain": [
       "20.46"
      ]
     },
     "execution_count": 33,
     "metadata": {},
     "output_type": "execute_result"
    }
   ],
   "source": [
    "# the built-in int funtion converts a floating point value to an integer or converts a string representation of an integer to an integer value\n",
    "float('6.2') * 3.3"
   ]
  },
  {
   "cell_type": "code",
   "execution_count": null,
   "id": "ebd5d0c7-adfa-4421-8ff6-e5f9b0c1a2bb",
   "metadata": {},
   "outputs": [],
   "source": [
    "# a string is a series of character, anything inside a quote is considered a string in python, it can either be double or single quotes.\n",
    "# eg \"i love my wife\"  , 'azaya is a good guy'  , '''my sister is a foolish human'''"
   ]
  },
  {
   "cell_type": "code",
   "execution_count": 37,
   "id": "0777e55a-ff25-47e2-8ef9-7b30a7c26e9a",
   "metadata": {},
   "outputs": [
    {
     "data": {
      "text/plain": [
       "'Rosemary Orji Ozua'"
      ]
     },
     "execution_count": 37,
     "metadata": {},
     "output_type": "execute_result"
    }
   ],
   "source": [
    "# changing case in a string with methods: this include .title(), .upper(), .lower()   etc\n",
    "# eg \n",
    "name = \"rosemary orji ozua\"\n",
    "(name.title())"
   ]
  },
  {
   "cell_type": "code",
   "execution_count": 38,
   "id": "550654a1-4a22-43b5-be71-ba55c241bf10",
   "metadata": {},
   "outputs": [
    {
     "data": {
      "text/plain": [
       "'ROSEMARY ORJI OZUA'"
      ]
     },
     "execution_count": 38,
     "metadata": {},
     "output_type": "execute_result"
    }
   ],
   "source": [
    "(name.upper())"
   ]
  },
  {
   "cell_type": "code",
   "execution_count": 39,
   "id": "fe2f4a41-c93d-4cd6-be7f-7229170be746",
   "metadata": {},
   "outputs": [
    {
     "data": {
      "text/plain": [
       "'rosemary orji ozua'"
      ]
     },
     "execution_count": 39,
     "metadata": {},
     "output_type": "execute_result"
    }
   ],
   "source": [
    "(name.lower())"
   ]
  },
  {
   "cell_type": "code",
   "execution_count": 43,
   "id": "cfd20f3d-74d0-45e9-9712-3c9c6d01458b",
   "metadata": {},
   "outputs": [
    {
     "data": {
      "text/plain": [
       "'hello , Roziel Pharmacy '"
      ]
     },
     "execution_count": 43,
     "metadata": {},
     "output_type": "execute_result"
    }
   ],
   "source": [
    "# in some situation , you'll want to use variable's value inside a string\n",
    "# to insert a variable inside a string , the letter \"f\" is placed before the opening quotation mark, \n",
    "# a curly braces \"{}\" should be around the variable you want to use inside the string.\n",
    "# \"f\" is for format, f-string is known as a formatted string.\n",
    "\n",
    "company_name = \"roziel\"\n",
    "products = \"pharmacy\"\n",
    "full_name = f\"{company_name} {products}\"\n",
    "(f\"hello , {full_name.title()} \")\n"
   ]
  },
  {
   "cell_type": "code",
   "execution_count": 44,
   "id": "56372de1-250d-4e12-a4c2-5f1ca1a3f85e",
   "metadata": {},
   "outputs": [
    {
     "data": {
      "text/plain": [
       "'roziel'"
      ]
     },
     "execution_count": 44,
     "metadata": {},
     "output_type": "execute_result"
    }
   ],
   "source": [
    "# in programming, whitespace refers to any nonprinting character, such as spaces, tabs, and end-of-line symbols\n",
    "# \\t (tab), \\n(new line), \\n\\t (new line with a tab)\n",
    "(\"roziel\")"
   ]
  },
  {
   "cell_type": "code",
   "execution_count": 51,
   "id": "80910a7b-a624-43d3-9031-cb38f1151908",
   "metadata": {},
   "outputs": [
    {
     "name": "stdout",
     "output_type": "stream",
     "text": [
      "\tRoziel\n"
     ]
    }
   ],
   "source": [
    "print(\"\\tRoziel\")   # \\t (tab)"
   ]
  },
  {
   "cell_type": "code",
   "execution_count": 52,
   "id": "0e0489c3-af06-49fd-b22d-e3129ca53f57",
   "metadata": {},
   "outputs": [
    {
     "name": "stdout",
     "output_type": "stream",
     "text": [
      "\n",
      "roziel\n"
     ]
    }
   ],
   "source": [
    "print('\\nroziel')  #\\n (new line)"
   ]
  },
  {
   "cell_type": "code",
   "execution_count": 53,
   "id": "6fab5aae-af5a-4961-ac10-7a7925313072",
   "metadata": {},
   "outputs": [
    {
     "name": "stdout",
     "output_type": "stream",
     "text": [
      "\n",
      "\troziel\n"
     ]
    }
   ],
   "source": [
    "print('\\n\\troziel')"
   ]
  },
  {
   "cell_type": "code",
   "execution_count": 54,
   "id": "ea15574f-bcd7-4590-b1a8-f6ec005aaffd",
   "metadata": {},
   "outputs": [
    {
     "data": {
      "text/plain": [
       "'   ceftriaxone'"
      ]
     },
     "execution_count": 54,
     "metadata": {},
     "output_type": "execute_result"
    }
   ],
   "source": [
    "# whitespaces can be confusing in programming, there is a need to strip them off using the (.rstrip()), (.lstrip()) or the (.strip()) method.\n",
    "favorite_medicine = \"   ceftriaxone\"\n",
    "(favorite_medicine)"
   ]
  },
  {
   "cell_type": "code",
   "execution_count": 55,
   "id": "6f604b13-3ef8-4fd8-82a9-f9b591ee2594",
   "metadata": {},
   "outputs": [
    {
     "data": {
      "text/plain": [
       "'ceftriaxone'"
      ]
     },
     "execution_count": 55,
     "metadata": {},
     "output_type": "execute_result"
    }
   ],
   "source": [
    "favorite_medicine = \"    ceftriaxone\"\n",
    "(favorite_medicine.strip())"
   ]
  },
  {
   "cell_type": "code",
   "execution_count": 58,
   "id": "f230f403-1aee-4e55-aa61-94175c9de663",
   "metadata": {},
   "outputs": [
    {
     "data": {
      "text/plain": [
       "'ceftriaxone'"
      ]
     },
     "execution_count": 58,
     "metadata": {},
     "output_type": "execute_result"
    }
   ],
   "source": [
    "favorite_medicine = \"ceftriaxone     \"\n",
    "(favorite_medicine.rstrip())"
   ]
  },
  {
   "cell_type": "code",
   "execution_count": 59,
   "id": "5dcaaada-f10d-42a9-8002-f77abec9f29a",
   "metadata": {},
   "outputs": [
    {
     "data": {
      "text/plain": [
       "'ceftriaxone'"
      ]
     },
     "execution_count": 59,
     "metadata": {},
     "output_type": "execute_result"
    }
   ],
   "source": [
    "favorite_medicine = \"       ceftriaxone\"\n",
    "(favorite_medicine.lstrip())"
   ]
  },
  {
   "cell_type": "code",
   "execution_count": 60,
   "id": "0d94c69a-087f-4084-b476-ebad36c81e1e",
   "metadata": {},
   "outputs": [
    {
     "data": {
      "text/plain": [
       "'Hello Dozie, would you like to eat garri today'"
      ]
     },
     "execution_count": 60,
     "metadata": {},
     "output_type": "execute_result"
    }
   ],
   "source": [
    "# exercise\n",
    "first_name = \"dozie\"\n",
    "(f\"Hello {first_name.title()}, would you like to eat garri today\")"
   ]
  },
  {
   "cell_type": "code",
   "execution_count": 61,
   "id": "1f742397-57e6-46a3-af22-897d79af7b9f",
   "metadata": {},
   "outputs": [
    {
     "data": {
      "text/plain": [
       "'kachi'"
      ]
     },
     "execution_count": 61,
     "metadata": {},
     "output_type": "execute_result"
    }
   ],
   "source": [
    "adults_names = 'kachi' \n",
    "(adults_names.lower())"
   ]
  },
  {
   "cell_type": "code",
   "execution_count": 62,
   "id": "0216f9ef-d013-479d-b78d-3bc17e9382dd",
   "metadata": {},
   "outputs": [
    {
     "data": {
      "text/plain": [
       "'KACHI'"
      ]
     },
     "execution_count": 62,
     "metadata": {},
     "output_type": "execute_result"
    }
   ],
   "source": [
    "adults_names = 'kachi' \n",
    "(adults_names.upper())"
   ]
  },
  {
   "cell_type": "code",
   "execution_count": 63,
   "id": "ee6ca8c6-74da-4f6a-936a-92d8d829affd",
   "metadata": {},
   "outputs": [
    {
     "data": {
      "text/plain": [
       "'Kachi'"
      ]
     },
     "execution_count": 63,
     "metadata": {},
     "output_type": "execute_result"
    }
   ],
   "source": [
    "adults_names = 'kachi' \n",
    "(adults_names.title())"
   ]
  },
  {
   "cell_type": "code",
   "execution_count": 66,
   "id": "4a4518ba-966e-4ec8-92b4-3da22c6880b0",
   "metadata": {},
   "outputs": [
    {
     "data": {
      "text/plain": [
       "' Albert Einsteine once said, \"A person who ever made a mistake never tried anything new\".'"
      ]
     },
     "execution_count": 66,
     "metadata": {},
     "output_type": "execute_result"
    }
   ],
   "source": [
    "first_name = \" albert\"\n",
    "last_name = \"einsteine\"\n",
    "(f'''{first_name.title()} {last_name.title()} once said, \"A person who ever made a mistake never tried anything new\".''') "
   ]
  },
  {
   "cell_type": "code",
   "execution_count": 76,
   "id": "d38b7f40-45aa-4400-bcd3-719eae4cf3d0",
   "metadata": {},
   "outputs": [
    {
     "data": {
      "text/plain": [
       "'Hello, i am Mr Malawi Akoluche.'"
      ]
     },
     "execution_count": 76,
     "metadata": {},
     "output_type": "execute_result"
    }
   ],
   "source": [
    "first_name = \"malawi\"\n",
    "last_name = \"akoluche\"\n",
    "famous_name = f\"{first_name} {last_name}\"\n",
    "message = f\" Hello, i am Mr {famous_name.title()}.\"\n",
    "(message.strip())"
   ]
  },
  {
   "cell_type": "code",
   "execution_count": 77,
   "id": "aab486dc-9291-4c49-bf86-ea79572a030e",
   "metadata": {},
   "outputs": [
    {
     "data": {
      "text/plain": [
       "['lagos', 'abuja', 'kano', 'kaduna', 'osun']"
      ]
     },
     "execution_count": 77,
     "metadata": {},
     "output_type": "execute_result"
    }
   ],
   "source": [
    "# a list is a collection of items in a particular order, it can either be an alphabet or numbers, the name of a list is better in plural form\n",
    "# \"[]\" indicates a list, individual elements in a list are seperated by commas.\n",
    "cities = ['lagos', 'abuja' , 'kano' , 'kaduna', 'osun']\n",
    "(cities)"
   ]
  },
  {
   "cell_type": "code",
   "execution_count": 79,
   "id": "8ea883a9-53da-4a24-bc43-00b28b520859",
   "metadata": {},
   "outputs": [
    {
     "data": {
      "text/plain": [
       "'lagos'"
      ]
     },
     "execution_count": 79,
     "metadata": {},
     "output_type": "execute_result"
    }
   ],
   "source": [
    "# you can access any element in a list by telling python the position or index of the item desired\n",
    "cities = ['lagos', 'abuja' , 'kano' , 'kaduna', 'osun']\n",
    "(cities[0])\n",
    "# index 0 will give the first occurence , index 1, will give the second occurence etc"
   ]
  },
  {
   "cell_type": "code",
   "execution_count": 81,
   "id": "2b6ea9ae-44f9-41a1-bbe1-a39531f9a74e",
   "metadata": {},
   "outputs": [
    {
     "data": {
      "text/plain": [
       "'abuja'"
      ]
     },
     "execution_count": 81,
     "metadata": {},
     "output_type": "execute_result"
    }
   ],
   "source": [
    "cities = ['lagos', 'abuja' , 'kano' , 'kaduna', 'osun']\n",
    "(cities[1])"
   ]
  },
  {
   "cell_type": "code",
   "execution_count": 82,
   "id": "fd4ea92d-8353-4e16-8202-a9f403fd76f8",
   "metadata": {},
   "outputs": [
    {
     "data": {
      "text/plain": [
       "'kaduna'"
      ]
     },
     "execution_count": 82,
     "metadata": {},
     "output_type": "execute_result"
    }
   ],
   "source": [
    "cities = ['lagos', 'abuja' , 'kano' , 'kaduna', 'osun']\n",
    "(cities[3])"
   ]
  },
  {
   "cell_type": "code",
   "execution_count": 83,
   "id": "652ee616-c480-4ea2-bf55-6966b116d1e7",
   "metadata": {},
   "outputs": [
    {
     "data": {
      "text/plain": [
       "'Abuja'"
      ]
     },
     "execution_count": 83,
     "metadata": {},
     "output_type": "execute_result"
    }
   ],
   "source": [
    "cities = ['lagos', 'abuja' , 'kano' , 'kaduna', 'osun']\n",
    "(cities[1].title())"
   ]
  },
  {
   "cell_type": "code",
   "execution_count": 85,
   "id": "eb0f55f7-6e28-4b75-89bf-ca6082e9ac0b",
   "metadata": {},
   "outputs": [
    {
     "data": {
      "text/plain": [
       "'i lived in Lagos.'"
      ]
     },
     "execution_count": 85,
     "metadata": {},
     "output_type": "execute_result"
    }
   ],
   "source": [
    "# you can also use individual value from a list\n",
    "cities = ['lagos', 'abuja' , 'kano' , 'kaduna', 'osun']\n",
    "message = f\"i lived in {cities[0].title()}.\"\n",
    "(message)"
   ]
  },
  {
   "cell_type": "code",
   "execution_count": 86,
   "id": "0b23dec3-66fb-4324-8f7d-e647e6c5a694",
   "metadata": {},
   "outputs": [
    {
     "data": {
      "text/plain": [
       "'i lived in Kano.'"
      ]
     },
     "execution_count": 86,
     "metadata": {},
     "output_type": "execute_result"
    }
   ],
   "source": [
    "cities = ['lagos', 'abuja' , 'kano' , 'kaduna', 'osun']\n",
    "message = f\"i lived in {cities[2].title()}.\"\n",
    "(message)"
   ]
  },
  {
   "cell_type": "code",
   "execution_count": 87,
   "id": "589332a9-a1f1-4e65-972c-7ac3650971b2",
   "metadata": {},
   "outputs": [
    {
     "data": {
      "text/plain": [
       "'i lived in KADUNA.'"
      ]
     },
     "execution_count": 87,
     "metadata": {},
     "output_type": "execute_result"
    }
   ],
   "source": [
    "cities = ['lagos', 'abuja' , 'kano' , 'kaduna', 'osun']\n",
    "message = f\"i lived in {cities[3].upper()}.\"\n",
    "(message)"
   ]
  },
  {
   "cell_type": "code",
   "execution_count": 88,
   "id": "2328acdf-bb75-40b5-85cc-39126161617b",
   "metadata": {},
   "outputs": [
    {
     "data": {
      "text/plain": [
       "'i lived in kano.'"
      ]
     },
     "execution_count": 88,
     "metadata": {},
     "output_type": "execute_result"
    }
   ],
   "source": [
    "cities = ['lagos', 'abuja' , 'kano' , 'kaduna', 'osun']\n",
    "message = f\"i lived in {cities[2].lower()}.\"\n",
    "(message)"
   ]
  },
  {
   "cell_type": "code",
   "execution_count": 89,
   "id": "e9f7e9ae-3d0f-4cbf-b3d2-aaf1889a4eb8",
   "metadata": {},
   "outputs": [
    {
     "data": {
      "text/plain": [
       "['gestid', 'acipep', 'relcer', 'gaviscon', 'jawasil']"
      ]
     },
     "execution_count": 89,
     "metadata": {},
     "output_type": "execute_result"
    }
   ],
   "source": [
    "# changing, adding and removing elements from a list acan be dynamic, it involves building a list and then add and removing element from it.\n",
    "# we can actually modify an element in a list ; eg \n",
    "antacids = ['gestid' , 'acipep' , 'relcer' , 'gaviscon' , 'jawasil']\n",
    "(antacids)"
   ]
  },
  {
   "cell_type": "code",
   "execution_count": 91,
   "id": "9909969c-e735-4044-86f5-daf3f97dcc43",
   "metadata": {},
   "outputs": [
    {
     "data": {
      "text/plain": [
       "['gestid', 'grenocid', 'relcer', 'gaviscon', 'jawasil']"
      ]
     },
     "execution_count": 91,
     "metadata": {},
     "output_type": "execute_result"
    }
   ],
   "source": [
    "antacids[1] = 'grenocid'    # i am trying to modify the initial list by replacing acipep with grenocid\n",
    "(antacids)"
   ]
  },
  {
   "cell_type": "code",
   "execution_count": 92,
   "id": "f0439536-258f-4b4e-80f3-8f17cee1e915",
   "metadata": {},
   "outputs": [
    {
     "data": {
      "text/plain": [
       "['gestid', 'acipep', 'relcer', 'gaviscon', 'jawasil', 'rulox']"
      ]
     },
     "execution_count": 92,
     "metadata": {},
     "output_type": "execute_result"
    }
   ],
   "source": [
    "# we can also add elements into a list by using the \"append\" :eg\n",
    "antacids = ['gestid' , 'acipep' , 'relcer' , 'gaviscon' , 'jawasil']\n",
    "antacids.append('rulox')  # i am trying to add rulox into the original list\n",
    "(antacids)"
   ]
  },
  {
   "cell_type": "code",
   "execution_count": 93,
   "id": "73ffc022-a963-49a5-acc8-02a14737bef6",
   "metadata": {},
   "outputs": [
    {
     "data": {
      "text/plain": [
       "['diclofenac', 'naproxen', 'ibuprofen', 'paracetamol']"
      ]
     },
     "execution_count": 93,
     "metadata": {},
     "output_type": "execute_result"
    }
   ],
   "source": [
    "# we can start with an emtpty list \"[]\" and add items into it using series of append: eg \n",
    "analgesics =[]\n",
    "analgesics.append('diclofenac')\n",
    "analgesics.append('naproxen')\n",
    "analgesics.append('ibuprofen')\n",
    "analgesics.append('paracetamol')\n",
    "(analgesics)\n"
   ]
  },
  {
   "cell_type": "code",
   "execution_count": 96,
   "id": "fcfa9f89-e063-4b58-9629-e6686fc13042",
   "metadata": {},
   "outputs": [
    {
     "data": {
      "text/plain": [
       "['gestid', 'acipep', 'relcer', 'nazaneen', 'gaviscon', 'jawasil']"
      ]
     },
     "execution_count": 96,
     "metadata": {},
     "output_type": "execute_result"
    }
   ],
   "source": [
    "# inserting an element into a list CAN BE DONE AT ANY POSITION by using the \"insert()method\"\n",
    "antacids = ['gestid' , 'acipep' , 'relcer' , 'gaviscon' , 'jawasil']\n",
    "antacids.insert(3,'nazaneen')\n",
    "(antacids)"
   ]
  },
  {
   "cell_type": "code",
   "execution_count": 97,
   "id": "6c5b872a-4df4-4b74-b23e-9910e0443ea9",
   "metadata": {},
   "outputs": [
    {
     "data": {
      "text/plain": [
       "['rice', 'yam', 'garri', 'egusi', 'ogbono']"
      ]
     },
     "execution_count": 97,
     "metadata": {},
     "output_type": "execute_result"
    }
   ],
   "source": [
    "# removing an item can be done according to their position or its value\n",
    "# removing based on its position , the \"del\" statement if the position is known.\n",
    "foods = ['rice' , 'beans' , 'yam' , 'garri' , 'egusi' , 'ogbono']\n",
    "del foods[1]\n",
    "(foods)"
   ]
  },
  {
   "cell_type": "code",
   "execution_count": 103,
   "id": "4bf1ec11-7907-4529-9f8a-ad3405044a7e",
   "metadata": {},
   "outputs": [
    {
     "data": {
      "text/plain": [
       "['rice', 'beans', 'yam', 'garri', 'egusi']"
      ]
     },
     "execution_count": 103,
     "metadata": {},
     "output_type": "execute_result"
    }
   ],
   "source": [
    "# removing using the pop() method, it removes the last item in a list, but allows you you to work with it after removing it\n",
    "foods = ['rice' , 'beans' , 'yam' , 'garri' , 'egusi' , 'ogbono']\n",
    "popped_foods = foods.pop()\n",
    "(foods)"
   ]
  },
  {
   "cell_type": "code",
   "execution_count": 104,
   "id": "4ae125f6-5304-4b4a-b05d-067ce4807f1d",
   "metadata": {},
   "outputs": [
    {
     "data": {
      "text/plain": [
       "'ogbono'"
      ]
     },
     "execution_count": 104,
     "metadata": {},
     "output_type": "execute_result"
    }
   ],
   "source": [
    "(popped_foods)"
   ]
  },
  {
   "cell_type": "code",
   "execution_count": 105,
   "id": "8f424032-1447-4699-852a-85494e92697e",
   "metadata": {},
   "outputs": [
    {
     "data": {
      "text/plain": [
       "'the antacid i used recently was Gaviscon'"
      ]
     },
     "execution_count": 105,
     "metadata": {},
     "output_type": "execute_result"
    }
   ],
   "source": [
    "# you can pop() to remove an item from any position in a list by including the index of the item you want to remove\n",
    "antacids = ['gestid' , 'acipep' , 'relcer' , 'gaviscon' , 'jawasil']\n",
    "recently_used_antacids = antacids.pop(3)\n",
    "(f\"the antacid i used recently was {recently_used_antacids.title()}\")"
   ]
  },
  {
   "cell_type": "code",
   "execution_count": 106,
   "id": "2a1dc822-b6de-42b3-a6f4-17ea572bc1aa",
   "metadata": {},
   "outputs": [
    {
     "data": {
      "text/plain": [
       "['lagos', 'abuja', 'kaduna', 'osun']"
      ]
     },
     "execution_count": 106,
     "metadata": {},
     "output_type": "execute_result"
    }
   ],
   "source": [
    "# removing an item based on value involves using the remove() method\n",
    "cities = ['lagos', 'abuja' , 'kano' , 'kaduna', 'osun']\n",
    "cities.remove('kano')\n",
    "(cities)"
   ]
  },
  {
   "cell_type": "code",
   "execution_count": 107,
   "id": "88e31521-e881-4b0d-a82f-c7549818d242",
   "metadata": {},
   "outputs": [
    {
     "data": {
      "text/plain": [
       "['lagos', 'abuja', 'kano', 'osun']"
      ]
     },
     "execution_count": 107,
     "metadata": {},
     "output_type": "execute_result"
    }
   ],
   "source": [
    "cities = ['lagos', 'abuja' , 'kano' , 'kaduna', 'osun']\n",
    "disliked_city = 'kaduna'\n",
    "cities.remove(disliked_city)\n",
    "(cities)"
   ]
  },
  {
   "cell_type": "code",
   "execution_count": 109,
   "id": "5569dee4-2ab5-4d8b-b2ea-81dd775faaed",
   "metadata": {},
   "outputs": [
    {
     "name": "stdout",
     "output_type": "stream",
     "text": [
      "\n",
      "Lagos is too expensive to live in\n"
     ]
    }
   ],
   "source": [
    "cities = ['lagos', 'abuja' , 'kano' , 'kaduna', 'osun']\n",
    "too_expensive = 'lagos'\n",
    "cities.remove(too_expensive)\n",
    "print(f'\\n{too_expensive.title()} is too expensive to live in')"
   ]
  },
  {
   "cell_type": "code",
   "execution_count": 110,
   "id": "6f1593a0-e709-464f-9739-540000f8b6f6",
   "metadata": {},
   "outputs": [
    {
     "data": {
      "text/plain": [
       "['amoxicilline',\n",
       " 'azithromycin',\n",
       " 'cefixime',\n",
       " 'doxycycline',\n",
       " 'mupirocin',\n",
       " 'ofloxacin']"
      ]
     },
     "execution_count": 110,
     "metadata": {},
     "output_type": "execute_result"
    }
   ],
   "source": [
    "# the sort() method makes it relatively easy to sort a list, it changes the order of the list permanently.\n",
    "antibiotics = ['amoxicilline' , 'mupirocin' , 'cefixime' , 'ofloxacin', 'azithromycin', 'doxycycline']\n",
    "antibiotics.sort()\n",
    "(antibiotics)"
   ]
  },
  {
   "cell_type": "code",
   "execution_count": 111,
   "id": "5ff611a2-ffdc-4630-a9ea-33186ca720e2",
   "metadata": {},
   "outputs": [
    {
     "data": {
      "text/plain": [
       "['ofloxacin',\n",
       " 'mupirocin',\n",
       " 'doxycycline',\n",
       " 'cefixime',\n",
       " 'azithromycin',\n",
       " 'amoxicilline']"
      ]
     },
     "execution_count": 111,
     "metadata": {},
     "output_type": "execute_result"
    }
   ],
   "source": [
    "# the reverse=True to the sort() method can sort the list in the reverse alphabetical order\n",
    "antibiotics = ['amoxicilline' , 'mupirocin' , 'cefixime' , 'ofloxacin', 'azithromycin', 'doxycycline']\n",
    "antibiotics.sort(reverse=True)\n",
    "(antibiotics)\n"
   ]
  },
  {
   "cell_type": "code",
   "execution_count": 113,
   "id": "73f4b44b-b4b1-4f34-82bb-a9bf03b8b46e",
   "metadata": {},
   "outputs": [
    {
     "data": {
      "text/plain": [
       "['amoxicilline',\n",
       " 'mupirocin',\n",
       " 'cefixime',\n",
       " 'ofloxacin',\n",
       " 'azithromycin',\n",
       " 'doxycycline']"
      ]
     },
     "execution_count": 113,
     "metadata": {},
     "output_type": "execute_result"
    }
   ],
   "source": [
    "# the sorted() function allows you display your list in a particular order but doesnt affect the actual order of the list.\n",
    "# the sorted() function can also accept a reverse=true argument\n",
    "antibiotics = ['amoxicilline' , 'mupirocin' , 'cefixime' , 'ofloxacin', 'azithromycin', 'doxycycline']\n",
    "('original list')\n",
    "(antibiotics)"
   ]
  },
  {
   "cell_type": "code",
   "execution_count": 114,
   "id": "f3807106-5a90-457d-8650-a875d0de57c8",
   "metadata": {},
   "outputs": [
    {
     "data": {
      "text/plain": [
       "['amoxicilline',\n",
       " 'azithromycin',\n",
       " 'cefixime',\n",
       " 'doxycycline',\n",
       " 'mupirocin',\n",
       " 'ofloxacin']"
      ]
     },
     "execution_count": 114,
     "metadata": {},
     "output_type": "execute_result"
    }
   ],
   "source": [
    "antibiotics = ['amoxicilline' , 'mupirocin' , 'cefixime' , 'ofloxacin', 'azithromycin', 'doxycycline']\n",
    "('sorted list')\n",
    "(sorted(antibiotics))"
   ]
  },
  {
   "cell_type": "code",
   "execution_count": 115,
   "id": "04f8ba8a-1d0d-4709-be1d-731cb7f20525",
   "metadata": {},
   "outputs": [
    {
     "data": {
      "text/plain": [
       "['jawasil', 'gaviscon', 'relcer', 'acipep', 'gestid']"
      ]
     },
     "execution_count": 115,
     "metadata": {},
     "output_type": "execute_result"
    }
   ],
   "source": [
    "# the reverse() method can be used to reverse the original order of a list, it changes the order of the list permanently\n",
    "# it does not sort backwards alphabetically\n",
    "antacids = ['gestid' , 'acipep' , 'relcer' , 'gaviscon' , 'jawasil']\n",
    "antacids.reverse()\n",
    "(antacids)"
   ]
  },
  {
   "cell_type": "code",
   "execution_count": 117,
   "id": "e749ef24-299d-4336-b046-1b7ffcdf02e5",
   "metadata": {},
   "outputs": [
    {
     "data": {
      "text/plain": [
       "5"
      ]
     },
     "execution_count": 117,
     "metadata": {},
     "output_type": "execute_result"
    }
   ],
   "source": [
    "# to find the lenght of a list, the len() function is used.\n",
    "cities = ['lagos', 'abuja' , 'kano' , 'kaduna', 'osun']\n",
    "len(cities)\n"
   ]
  },
  {
   "cell_type": "code",
   "execution_count": 124,
   "id": "2713b02d-3bf8-49a1-920d-655f65a0e140",
   "metadata": {},
   "outputs": [
    {
     "name": "stdout",
     "output_type": "stream",
     "text": [
      "dettol\n",
      "izal\n",
      "savlon\n"
     ]
    }
   ],
   "source": [
    "# looping through an entire list allows you to do the same action with every item in a list using the \"for loop\"\n",
    "anticeptics = ['dettol' , 'izal' , 'savlon']\n",
    "for anticeptic in anticeptics:\n",
    "    print(anticeptic)"
   ]
  },
  {
   "cell_type": "code",
   "execution_count": 129,
   "id": "5817d20f-b90b-46f2-9cea-a1b43ac7b4d6",
   "metadata": {},
   "outputs": [
    {
     "name": "stdout",
     "output_type": "stream",
     "text": [
      " i enjoy eating Rice in the morning\n",
      " i enjoy eating Beans in the morning\n",
      " i enjoy eating Yam in the morning\n",
      " i enjoy eating Garri in the morning\n",
      " i enjoy eating Egusi in the morning\n",
      " i enjoy eating Ogbono in the morning\n"
     ]
    }
   ],
   "source": [
    "foods = ['rice' , 'beans' , 'yam' , 'garri' , 'egusi' , 'ogbono']\n",
    "for food in foods:\n",
    "    print(f\" i enjoy eating {food.strip().title()} in the morning\")"
   ]
  },
  {
   "cell_type": "code",
   "execution_count": 130,
   "id": "c7d3643a-ac00-401e-a578-e06b6fd8653b",
   "metadata": {},
   "outputs": [
    {
     "name": "stdout",
     "output_type": "stream",
     "text": [
      "my wife prepares Rice anytime she is happy\n",
      "my wife prepares Beans anytime she is happy\n",
      "my wife prepares Yam anytime she is happy\n",
      "my wife prepares Garri anytime she is happy\n",
      "my wife prepares Egusi anytime she is happy\n",
      "my wife prepares Ogbono anytime she is happy\n"
     ]
    }
   ],
   "source": [
    "foods = ['rice' , 'beans' , 'yam' , 'garri' , 'egusi' , 'ogbono']\n",
    "for food in foods:\n",
    "    #print(f\" i enjoy eating {food.strip().title()} and in the morning\")\n",
    "    print(f\"my wife prepares {food.strip().title()} anytime she is happy\")"
   ]
  },
  {
   "cell_type": "code",
   "execution_count": 132,
   "id": "0ce0aea2-2cac-4bfb-9076-b8e6d91549a6",
   "metadata": {},
   "outputs": [
    {
     "name": "stdout",
     "output_type": "stream",
     "text": [
      "i enjoy eating Rice and in the morning\n",
      "my wife prepares Rice anytime she is happy.\n",
      "\n",
      "i enjoy eating Beans and in the morning\n",
      "my wife prepares Beans anytime she is happy.\n",
      "\n",
      "i enjoy eating Yam and in the morning\n",
      "my wife prepares Yam anytime she is happy.\n",
      "\n",
      "i enjoy eating Garri and in the morning\n",
      "my wife prepares Garri anytime she is happy.\n",
      "\n",
      "i enjoy eating Egusi and in the morning\n",
      "my wife prepares Egusi anytime she is happy.\n",
      "\n",
      "i enjoy eating Ogbono and in the morning\n",
      "my wife prepares Ogbono anytime she is happy.\n",
      "\n"
     ]
    }
   ],
   "source": [
    "foods = ['rice' , 'beans' , 'yam' , 'garri' , 'egusi' , 'ogbono']\n",
    "for food in foods:\n",
    "    print(f\"i enjoy eating {food.strip().title()} and in the morning\")\n",
    "    print(f\"my wife prepares {food.strip().title()} anytime she is happy.\\n\")"
   ]
  },
  {
   "cell_type": "code",
   "execution_count": 133,
   "id": "af9de499-73cd-4ca8-8297-3e1aefa6463b",
   "metadata": {},
   "outputs": [
    {
     "name": "stdout",
     "output_type": "stream",
     "text": [
      "i enjoy eating Rice and in the morning\n",
      "my wife prepares Rice anytime she is happy.\n",
      "\n",
      "i enjoy eating Beans and in the morning\n",
      "my wife prepares Beans anytime she is happy.\n",
      "\n",
      "i enjoy eating Yam and in the morning\n",
      "my wife prepares Yam anytime she is happy.\n",
      "\n",
      "i enjoy eating Garri and in the morning\n",
      "my wife prepares Garri anytime she is happy.\n",
      "\n",
      "i enjoy eating Egusi and in the morning\n",
      "my wife prepares Egusi anytime she is happy.\n",
      "\n",
      "i enjoy eating Ogbono and in the morning\n",
      "my wife prepares Ogbono anytime she is happy.\n",
      "\n",
      "thank you\n"
     ]
    }
   ],
   "source": [
    "foods = ['rice' , 'beans' , 'yam' , 'garri' , 'egusi' , 'ogbono']\n",
    "for food in foods:\n",
    "    print(f\"i enjoy eating {food.strip().title()} and in the morning\")\n",
    "    print(f\"my wife prepares {food.strip().title()} anytime she is happy.\\n\")\n",
    "print('thank you') # this is not part of the for loop because it is not indented and executed once"
   ]
  },
  {
   "cell_type": "code",
   "execution_count": 145,
   "id": "e17890e1-b9be-4a8a-a7ee-65d61e25a1e7",
   "metadata": {},
   "outputs": [
    {
     "name": "stdout",
     "output_type": "stream",
     "text": [
      "1\n",
      "2\n",
      "3\n",
      "4\n",
      "5\n",
      "6\n",
      "7\n",
      "8\n",
      "9\n"
     ]
    }
   ],
   "source": [
    "# using the range() function makes it easy to generate a series of numbers, it does not include the last number on the list\n",
    "for value in range(1, 10):\n",
    "    print(value)"
   ]
  },
  {
   "cell_type": "code",
   "execution_count": 142,
   "id": "e0e6118d-4a26-4dfd-bb3b-d36c3eda58b2",
   "metadata": {},
   "outputs": [
    {
     "data": {
      "text/plain": [
       "[1, 2, 3, 4, 5, 6, 7, 8, 9, 10, 11, 12, 13, 14, 15, 16, 17, 18, 19]"
      ]
     },
     "execution_count": 142,
     "metadata": {},
     "output_type": "execute_result"
    }
   ],
   "source": [
    "# using the range() fuction to make a list of numbers\n",
    "numericals = list(range(1, 20))\n",
    "(numericals)"
   ]
  },
  {
   "cell_type": "code",
   "execution_count": null,
   "id": "0e0cb53f-c341-4daf-8ae1-d3e8748f70a0",
   "metadata": {},
   "outputs": [],
   "source": []
  }
 ],
 "metadata": {
  "kernelspec": {
   "display_name": "Python 3 (ipykernel)",
   "language": "python",
   "name": "python3"
  },
  "language_info": {
   "codemirror_mode": {
    "name": "ipython",
    "version": 3
   },
   "file_extension": ".py",
   "mimetype": "text/x-python",
   "name": "python",
   "nbconvert_exporter": "python",
   "pygments_lexer": "ipython3",
   "version": "3.13.0"
  }
 },
 "nbformat": 4,
 "nbformat_minor": 5
}
