{
 "cells": [
  {
   "cell_type": "code",
   "execution_count": 4,
   "id": "9f2923de-9e60-46c5-966b-4265dcf4b560",
   "metadata": {},
   "outputs": [
    {
     "name": "stdin",
     "output_type": "stream",
     "text": [
      "what is your surname ? Agwulonu\n"
     ]
    }
   ],
   "source": [
    "# getting input from the user; the built-in  input function requests and obtains user input:\n",
    "name = input(\"what is your surname ?\")\n",
    "# firstly, input displays its string argument called a prompt to tell the user what to type and wait for the user to respond.\n",
    "# we typed Agwulonu and pressed enter\n",
    "# the input function then returns Agwulonu as a string that the program can use \n",
    "# input function always return a string"
   ]
  },
  {
   "cell_type": "code",
   "execution_count": 5,
   "id": "94783706-476a-4581-a512-48105a6aa5d5",
   "metadata": {},
   "outputs": [
    {
     "data": {
      "text/plain": [
       "'Agwulonu'"
      ]
     },
     "execution_count": 5,
     "metadata": {},
     "output_type": "execute_result"
    }
   ],
   "source": [
    "name"
   ]
  },
  {
   "cell_type": "code",
   "execution_count": 8,
   "id": "d19186e7-f2ed-43eb-a9dc-b32ee9853a3b",
   "metadata": {},
   "outputs": [
    {
     "name": "stdout",
     "output_type": "stream",
     "text": [
      "Agwulonu\n"
     ]
    }
   ],
   "source": [
    "print(name)"
   ]
  },
  {
   "cell_type": "code",
   "execution_count": 31,
   "id": "941c7406-2eb3-4326-bcae-d9ab4e077f16",
   "metadata": {},
   "outputs": [
    {
     "name": "stdin",
     "output_type": "stream",
     "text": [
      " : 20\n"
     ]
    }
   ],
   "source": [
    "# getting an integer from the user, the need to convert the string to an integer using the int function is necessary\n",
    "concentration_of_piroxicam = int(input(\" :\"))"
   ]
  },
  {
   "cell_type": "code",
   "execution_count": 21,
   "id": "8ef62bdc-2f1f-4e82-8c45-7cce96a98974",
   "metadata": {},
   "outputs": [],
   "source": [
    "concentration_of_piroxicam = int(concentration_of_piroxicam)"
   ]
  },
  {
   "cell_type": "code",
   "execution_count": 22,
   "id": "3db2a2c0-8861-4399-b379-df07a6451bba",
   "metadata": {},
   "outputs": [
    {
     "data": {
      "text/plain": [
       "20"
      ]
     },
     "execution_count": 22,
     "metadata": {},
     "output_type": "execute_result"
    }
   ],
   "source": [
    "concentration_of_piroxicam"
   ]
  },
  {
   "cell_type": "code",
   "execution_count": 33,
   "id": "c9cb9007-7531-4cba-8bc1-bbb701482045",
   "metadata": {},
   "outputs": [
    {
     "data": {
      "text/plain": [
       "20.46"
      ]
     },
     "execution_count": 33,
     "metadata": {},
     "output_type": "execute_result"
    }
   ],
   "source": [
    "# the built-in int funtion converts a floating point value to an integer or converts a string representation of an integer to an integer value\n",
    "float('6.2') * 3.3"
   ]
  },
  {
   "cell_type": "code",
   "execution_count": null,
   "id": "ebd5d0c7-adfa-4421-8ff6-e5f9b0c1a2bb",
   "metadata": {},
   "outputs": [],
   "source": []
  }
 ],
 "metadata": {
  "kernelspec": {
   "display_name": "Python 3 (ipykernel)",
   "language": "python",
   "name": "python3"
  },
  "language_info": {
   "codemirror_mode": {
    "name": "ipython",
    "version": 3
   },
   "file_extension": ".py",
   "mimetype": "text/x-python",
   "name": "python",
   "nbconvert_exporter": "python",
   "pygments_lexer": "ipython3",
   "version": "3.13.0"
  }
 },
 "nbformat": 4,
 "nbformat_minor": 5
}
