{
 "cells": [
  {
   "cell_type": "code",
   "execution_count": 4,
   "id": "d3284a0e-50bc-406e-ac91-77e84f860b67",
   "metadata": {},
   "outputs": [
    {
     "name": "stdout",
     "output_type": "stream",
     "text": [
      "1\n",
      "3\n",
      "5\n",
      "7\n",
      "9\n"
     ]
    }
   ],
   "source": [
    "# the for loop takes a collection of items and executes a block of code once for each item in the collection.\n",
    "# the while loop runs as long as , or while , a certain condition remains true.\n",
    "# you can use the while loop to count series of numbers.\n",
    "initial_number = 1 \n",
    "while initial_number <= 10: \n",
    "    print(initial_number) \n",
    "    initial_number += 2\n",
    "    "
   ]
  },
  {
   "cell_type": "code",
   "execution_count": 2,
   "id": "f6a34922-fe44-40d3-a3c6-da40999b7205",
   "metadata": {},
   "outputs": [
    {
     "name": "stdin",
     "output_type": "stream",
     "text": [
      "\n",
      "tell me something, and i will repeat it back to you:\n",
      "enter 'quit' to end the program.  dozie\n",
      "\n",
      "tell me something, and i will repeat it back to you:\n",
      "enter 'quit' to end the program.  ugonna\n",
      "\n",
      "tell me something, and i will repeat it back to you:\n",
      "enter 'quit' to end the program.  quit\n"
     ]
    },
    {
     "name": "stdout",
     "output_type": "stream",
     "text": [
      "quit\n"
     ]
    }
   ],
   "source": [
    "prompt = \"\\ntell me something, and i will repeat it back to you:\"\n",
    "prompt += \"\\nenter 'quit' to end the program. \"\n",
    "message = \"\"\n",
    "while message != 'quit':\n",
    "    message = input(prompt)\n",
    "print(message)"
   ]
  },
  {
   "cell_type": "code",
   "execution_count": 3,
   "id": "9e386751-13b8-4c43-bf0d-d1b5a5445e52",
   "metadata": {},
   "outputs": [
    {
     "name": "stdin",
     "output_type": "stream",
     "text": [
      "\n",
      "Please enter the name of the pharmacy you have visited: \n",
      "(Enter quit when you are finished.)  roziel\n"
     ]
    },
    {
     "name": "stdout",
     "output_type": "stream",
     "text": [
      "I have to visit the facility of Roziel \n"
     ]
    },
    {
     "name": "stdin",
     "output_type": "stream",
     "text": [
      "\n",
      "Please enter the name of the pharmacy you have visited: \n",
      "(Enter quit when you are finished.)  curascare\n"
     ]
    },
    {
     "name": "stdout",
     "output_type": "stream",
     "text": [
      "I have to visit the facility of Curascare \n"
     ]
    },
    {
     "name": "stdin",
     "output_type": "stream",
     "text": [
      "\n",
      "Please enter the name of the pharmacy you have visited: \n",
      "(Enter quit when you are finished.)  quit\n"
     ]
    }
   ],
   "source": [
    "# to exit a \"while loop\" immediately without running any remaining code in the loop,use the \"break statement\"\n",
    "# the break statement can be used to control which lines of code are executed and which aren't, so the program only excute code that you wish.\n",
    "prompt = \"\\nPlease enter the name of the pharmacy you have visited: \"\n",
    "prompt += \"\\n(Enter quit when you are finished.) \"\n",
    "while True:\n",
    "    pharmacy = input(prompt)\n",
    "    if pharmacy == \"quit\":\n",
    "        break\n",
    "    else:\n",
    "        print(f\"I have to visit the facility of {pharmacy.title()} \")\n",
    "# you can use the break statement in any python loops"
   ]
  },
  {
   "cell_type": "code",
   "execution_count": 12,
   "id": "0fe44549-ef57-4878-8952-d53c69475c27",
   "metadata": {},
   "outputs": [
    {
     "name": "stdout",
     "output_type": "stream",
     "text": [
      "1\n",
      "3\n",
      "5\n",
      "7\n",
      "9\n"
     ]
    }
   ],
   "source": [
    "# instead of breaking out of a loop entirely without executing the rest of its code, i can use the \"continue statement\"\n",
    "# the continue statement return to the beginning of the loop based on the result of a conditional test.\n",
    "initial_number = 0  # initial number is less than 10\n",
    "while initial_number < 10:\n",
    "    initial_number += 1 # we increment by 1\n",
    "    if initial_number % 2 == 0: # the if statement checks the modulo of initial number and 2\n",
    "        continue # the continue statement tells python to ignore the rest of the loop and return to the beginning\n",
    "    print(initial_number) # if the initial number is not divisible by 2, the rest of the loop is executed and the initial number is printed."
   ]
  },
  {
   "cell_type": "code",
   "execution_count": 13,
   "id": "c35308cc-7240-4765-b26b-b9a669596e32",
   "metadata": {},
   "outputs": [
    {
     "name": "stdout",
     "output_type": "stream",
     "text": [
      "1\n",
      "2\n",
      "3\n",
      "4\n",
      "5\n",
      "6\n",
      "7\n",
      "8\n",
      "9\n",
      "10\n"
     ]
    }
   ],
   "source": [
    "# every while loop needs a way to stop running so it wont continue to run forever\n",
    "x = 1\n",
    "while x <= 10:\n",
    "    print(x)\n",
    "    x += 1"
   ]
  },
  {
   "cell_type": "code",
   "execution_count": null,
   "id": "0555671e-c286-4fb4-82e2-205bceb72bfb",
   "metadata": {},
   "outputs": [],
   "source": []
  }
 ],
 "metadata": {
  "kernelspec": {
   "display_name": "Python 3 (ipykernel)",
   "language": "python",
   "name": "python3"
  },
  "language_info": {
   "codemirror_mode": {
    "name": "ipython",
    "version": 3
   },
   "file_extension": ".py",
   "mimetype": "text/x-python",
   "name": "python",
   "nbconvert_exporter": "python",
   "pygments_lexer": "ipython3",
   "version": "3.13.0"
  }
 },
 "nbformat": 4,
 "nbformat_minor": 5
}
