{
 "cells": [
  {
   "cell_type": "code",
   "execution_count": 1,
   "id": "be9ac3b4-3065-4eb2-a673-6de286627f33",
   "metadata": {},
   "outputs": [
    {
     "name": "stdin",
     "output_type": "stream",
     "text": [
      "enter result(1= pass, 2= fail):   1\n",
      "enter result(1= pass, 2= fail):   1\n",
      "enter result(1= pass, 2= fail):   1\n",
      "enter result(1= pass, 2= fail):   1\n",
      "enter result(1= pass, 2= fail):   2\n",
      "enter result(1= pass, 2= fail):   1\n",
      "enter result(1= pass, 2= fail):   1\n",
      "enter result(1= pass, 2= fail):   1\n",
      "enter result(1= pass, 2= fail):   1\n",
      "enter result(1= pass, 2= fail):   1\n"
     ]
    },
    {
     "name": "stdout",
     "output_type": "stream",
     "text": [
      "passed: 9\n",
      "failed: 1\n",
      "bonus to malawii\n"
     ]
    },
    {
     "name": "stdin",
     "output_type": "stream",
     "text": [
      "enter an integer:   20\n"
     ]
    },
    {
     "name": "stdout",
     "output_type": "stream",
     "text": [
      "20 is even\n"
     ]
    },
    {
     "name": "stdin",
     "output_type": "stream",
     "text": [
      "enter an integer:   15\n"
     ]
    },
    {
     "name": "stdout",
     "output_type": "stream",
     "text": [
      "15 is odd\n",
      "9\n",
      "27\n",
      "81\n",
      "P  r  o  g  r  a  m  m  i  n  g  0 1 2 3 4 5 6 7 8 9 0 1 3 6 10 15 21 28 36 45 55 66 78 91 105 "
     ]
    }
   ],
   "source": [
    "# Nested Control Statements\n",
    "#eg \n",
    "#a college offers a course that prepares students pharmacy licensing test.\n",
    "#the college wants to know how well its students did on the exam.\n",
    "#write a programm to compute the result, a list of 10 students were given.\n",
    "#write 1 if student passed and 2 if student failed. \n",
    "\n",
    "\"\"\"using nested control statement to analyze examination results\"\"\"\n",
    "\n",
    "#initialize variables\n",
    "passes = 0 # number of passes\n",
    "failures = 0 # number of failures\n",
    "\n",
    "# process 10 students\n",
    "for student in range(10):\n",
    "    # get one exam result\n",
    "    result = int(input('enter result(1= pass, 2= fail):  '))\n",
    "    if result == 1:\n",
    "        passes = passes + 1\n",
    "    else:\n",
    "        failures = failures + 1\n",
    "# termination phase\n",
    "print('passed:', passes)\n",
    "print('failed:', failures)\n",
    "\n",
    "if passes > 8:\n",
    "    print('bonus to malawii')\n",
    "\n",
    "# using a for statement to input two integers\n",
    "# using a nested if...else statemente to display whether each value is even or odd.\n",
    "# enter 20 and 15 to test my code\n",
    "\n",
    "for count in range(2):\n",
    "    value = int(input('enter an integer:  '))\n",
    "    if value % 2 == 0:\n",
    "        print(f'{value} is even')\n",
    "    else:\n",
    "        print(f'{value} is odd')    \n",
    "    \n",
    "\n",
    "\n",
    "# while statement\n",
    "# this statement allows you to repeat one or more actions while a condition remains True. the statement is called a loop.\n",
    "# using a while loop to find the first power of 3 larger than 50\n",
    "\n",
    "numbers = 3\n",
    "while numbers <= 50:\n",
    "    numbers = numbers * 3\n",
    "    print(numbers)    \n",
    "\n",
    "# for statement allows you to repeat an action or several actions, it perfoms its action for each item in a sequence of items\n",
    "#for example\n",
    "for character in \"Programming\":\n",
    "    print(character, end = \"  \")\n",
    "\n",
    "#range function create an iterable object that represent a sequence of consecutive\n",
    "#integer values starting from 0 and continuing up to , but not including, the argument value\n",
    "\n",
    "for counter in range(10):\n",
    "    print(counter, end=' ')\n",
    "\n",
    "total = 0\n",
    "for numbers in range(15):\n",
    "    total = total + numbers\n",
    "    print(total, end= ' ')"
   ]
  },
  {
   "cell_type": "code",
   "execution_count": 3,
   "id": "b90ec9c9-2371-4a6d-ad86-b3f38e4bf93a",
   "metadata": {},
   "outputs": [
    {
     "name": "stdin",
     "output_type": "stream",
     "text": [
      "enter result(1= pass, 2= fail):   1\n",
      "enter result(1= pass, 2= fail):   2\n",
      "enter result(1= pass, 2= fail):   1\n",
      "enter result(1= pass, 2= fail):   2\n",
      "enter result(1= pass, 2= fail):   1\n",
      "enter result(1= pass, 2= fail):   1\n",
      "enter result(1= pass, 2= fail):   2\n",
      "enter result(1= pass, 2= fail):   2\n",
      "enter result(1= pass, 2= fail):   2\n",
      "enter result(1= pass, 2= fail):   1\n"
     ]
    },
    {
     "name": "stdout",
     "output_type": "stream",
     "text": [
      "passed: 5\n",
      "failed: 5\n"
     ]
    },
    {
     "name": "stdin",
     "output_type": "stream",
     "text": [
      "enter an integer:   20\n"
     ]
    },
    {
     "name": "stdout",
     "output_type": "stream",
     "text": [
      "20 is even\n"
     ]
    },
    {
     "name": "stdin",
     "output_type": "stream",
     "text": [
      "enter an integer:   15\n"
     ]
    },
    {
     "name": "stdout",
     "output_type": "stream",
     "text": [
      "15 is odd\n",
      "9\n",
      "27\n",
      "81\n",
      "P  r  o  g  r  a  m  m  i  n  g  0 1 2 3 4 5 6 7 8 9 0 1 3 6 10 15 21 28 36 45 55 66 78 91 105 "
     ]
    }
   ],
   "source": [
    "# Nested Control Statements\n",
    "#eg \n",
    "#a college offers a course that prepares students pharmacy licensing test.\n",
    "#the college wants to know how well its students did on the exam.\n",
    "#write a programm to compute the result, a list of 10 students were given.\n",
    "#write 1 if student passed and 2 if student failed. \n",
    "\n",
    "\"\"\"using nested control statement to analyze examination results\"\"\"\n",
    "\n",
    "#initialize variables\n",
    "passes = 0 # number of passes\n",
    "failures = 0 # number of failures\n",
    "\n",
    "# process 10 students\n",
    "for student in range(10):\n",
    "    # get one exam result\n",
    "    result = int(input('enter result(1= pass, 2= fail):  '))\n",
    "    if result == 1:\n",
    "        passes = passes + 1\n",
    "    else:\n",
    "        failures = failures + 1\n",
    "# termination phase\n",
    "print('passed:', passes)\n",
    "print('failed:', failures)\n",
    "\n",
    "if passes > 8:\n",
    "    print('bonus to malawii')\n",
    "\n",
    "# using a for statement to input two integers\n",
    "# using a nested if...else statemente to display whether each value is even or odd.\n",
    "# enter 20 and 15 to test my code\n",
    "\n",
    "for count in range(2):\n",
    "    value = int(input('enter an integer:  '))\n",
    "    if value % 2 == 0:\n",
    "        print(f'{value} is even')\n",
    "    else:\n",
    "        print(f'{value} is odd')    \n",
    "    \n",
    "\n",
    "\n",
    "# while statement\n",
    "# this statement allows you to repeat one or more actions while a condition remains True. the statement is called a loop.\n",
    "# using a while loop to find the first power of 3 larger than 50\n",
    "\n",
    "numbers = 3\n",
    "while numbers <= 50:\n",
    "    numbers = numbers * 3\n",
    "    print(numbers)    \n",
    "\n",
    "# for statement allows you to repeat an action or several actions, it perfoms its action for each item in a sequence of items\n",
    "#for example\n",
    "for character in \"Programming\":\n",
    "    print(character, end = \"  \")\n",
    "\n",
    "#range function create an iterable object that represent a sequence of consecutive\n",
    "#integer values starting from 0 and continuing up to , but not including, the argument value\n",
    "\n",
    "for counter in range(10):\n",
    "    print(counter, end=' ')\n",
    "\n",
    "total = 0\n",
    "for numbers in range(15):\n",
    "    total = total + numbers\n",
    "    print(total, end= ' ')"
   ]
  },
  {
   "cell_type": "code",
   "execution_count": 4,
   "id": "542a0839-ec49-4520-87a4-5603b67c560a",
   "metadata": {},
   "outputs": [
    {
     "name": "stdout",
     "output_type": "stream",
     "text": [
      "9 10 11 12 13 14 15 16 17 18 "
     ]
    }
   ],
   "source": [
    "# Range function() has two and three-argument version;\n",
    "# 1 argument version produces a sequence of consecutive integers from 0 up to, but not including, the argument value.\n",
    "# 2 argument version produces a sequence of consecutive integers from its first arguments value up to,but not including the second argument value\n",
    "# 3 argument version produces a sequence of integers from its first argument value up to, but not including the second argument value,incrementing or decrementing(if negative) by the third argument value, which is known as step\n",
    "\n",
    "for number in range(9, 19):  # 1 argument in range\n",
    "    print(number, end= ' ')"
   ]
  },
  {
   "cell_type": "code",
   "execution_count": 5,
   "id": "d4943706-1952-4bd1-b78d-b458dc49dc12",
   "metadata": {},
   "outputs": [
    {
     "name": "stdout",
     "output_type": "stream",
     "text": [
      "1 4 7 "
     ]
    }
   ],
   "source": [
    "for number in range(1, 10, 3):  # 2 argument in range\n",
    "    print(number, end= ' ')"
   ]
  },
  {
   "cell_type": "code",
   "execution_count": 6,
   "id": "dba201b3-88fb-4066-8ea1-d802f87836f7",
   "metadata": {},
   "outputs": [
    {
     "name": "stdout",
     "output_type": "stream",
     "text": [
      "10 8 6 4 2 "
     ]
    }
   ],
   "source": [
    "for number in range(10, 0, -2): # 3 argument in range\n",
    "    print(number, end= ' ')"
   ]
  },
  {
   "cell_type": "code",
   "execution_count": 7,
   "id": "b9bac549-2069-48dd-abcf-211ea329ce5b",
   "metadata": {},
   "outputs": [
    {
     "name": "stdout",
     "output_type": "stream",
     "text": [
      "2 6 12 20 30 42 56 72 90 110 132 156 182 210 240 272 306 342 380 420 462 506 552 600 650 702 756 812 870 930 992 1056 1122 1190 1260 1332 1406 1482 1560 1640 1722 1806 1892 1980 2070 2162 2256 2352 2450 2550 "
     ]
    }
   ],
   "source": [
    "# what is the value of the total sum of even number between 2 to 500\n",
    "\n",
    "total = 0\n",
    "for number in range(2, 101, 2):\n",
    "    total += number\n",
    "    print(total, end= \" \")\n",
    "    "
   ]
  },
  {
   "cell_type": "code",
   "execution_count": 8,
   "id": "f53d054c-851a-4015-b2cc-d668daa7f5a4",
   "metadata": {},
   "outputs": [
    {
     "name": "stdout",
     "output_type": "stream",
     "text": [
      "1000.00\n"
     ]
    }
   ],
   "source": [
    "## the decimal module defines type decimal and its capabilities.\n",
    "## to use capabilities from a module, you must first import the entire module; such as import decimal(from decimal import deecimal)\n",
    "\n",
    "from decimal import Decimal\n",
    "principal = Decimal('1000.00')\n",
    "print(principal)"
   ]
  },
  {
   "cell_type": "code",
   "execution_count": 9,
   "id": "99ead67e-d85e-48d9-b7e4-ea2fc22a864d",
   "metadata": {},
   "outputs": [
    {
     "name": "stdout",
     "output_type": "stream",
     "text": [
      "0.05\n"
     ]
    }
   ],
   "source": [
    "rate = Decimal('0.05')\n",
    "print(rate)"
   ]
  },
  {
   "cell_type": "code",
   "execution_count": 44,
   "id": "b90c555d-fca0-47dd-be44-72d62e3ebf53",
   "metadata": {},
   "outputs": [
    {
     "name": "stdout",
     "output_type": "stream",
     "text": [
      "1     1050.0\n",
      "2     1102.5\n",
      "3     1157.6\n",
      "4     1215.5\n"
     ]
    }
   ],
   "source": [
    "# a mad man invested #1000 in roziel pharmacy at 5% interest. assuming he didnt request for his principal,calculate the amount at the end of each year for 10years\n",
    "  \n",
    "# use a = p(1 + r)^n\n",
    "\n",
    "for year in range(1, 5):\n",
    "    amount = principal *(1 + rate)**year\n",
    "    print(f'{year:>1} {amount:>10.1f}')\n",
    "    "
   ]
  },
  {
   "cell_type": "code",
   "execution_count": 47,
   "id": "8170a701-a5a0-47d1-bff1-b807a06a3ec8",
   "metadata": {},
   "outputs": [
    {
     "name": "stdout",
     "output_type": "stream",
     "text": [
      "2656.25\n"
     ]
    }
   ],
   "source": [
    "# a tax on a pharmacy is 6.25% and the bill amount is #2500, use type Decimal to calculate the total bill.\n",
    "# print the result with 2 digits to the rightof the decimal point\n",
    "\n",
    "from decimal import Decimal\n",
    "print(f\"{Decimal('2500') * Decimal('1.0625'):.2f}\")"
   ]
  },
  {
   "cell_type": "code",
   "execution_count": 48,
   "id": "b7cb0d77-0481-4802-8cdc-a74e6f6b124e",
   "metadata": {},
   "outputs": [
    {
     "name": "stdout",
     "output_type": "stream",
     "text": [
      "0 1 2 3 4 5 6 7 8 9 10 11 12 13 14 15 16 17 18 19 "
     ]
    }
   ],
   "source": [
    "# the break and continue statement alters the loop flow of control.\n",
    "# executing a break statement in a while loop or for loop immediately exits that statement.\n",
    "\n",
    "for number in range(1000000):\n",
    "    if number == 20:\n",
    "        break\n",
    "    print(number, end= \" \")"
   ]
  },
  {
   "cell_type": "code",
   "execution_count": 49,
   "id": "7e8762e0-769a-4df1-b5f1-90f83a147320",
   "metadata": {},
   "outputs": [
    {
     "name": "stdout",
     "output_type": "stream",
     "text": [
      "0 1 2 3 4 5 6 7 8 10 11 "
     ]
    }
   ],
   "source": [
    "for number in range(12):\n",
    "    if number == 9:\n",
    "        continue\n",
    "    print(number, end= \" \")"
   ]
  },
  {
   "cell_type": "code",
   "execution_count": 2,
   "id": "d759b73f-3443-4f97-bf95-24c3f6f40cc3",
   "metadata": {},
   "outputs": [
    {
     "name": "stdout",
     "output_type": "stream",
     "text": [
      "shut up\n"
     ]
    }
   ],
   "source": [
    "# the boolean operetor \"and\" , \"or\" and \"not\" are used to combine simple conditions\n",
    "# the conditional operators > < >= <= and  != can be used to form simple conditions.\n",
    "\n",
    "# the boolean operator \"and\"\n",
    "# it ensurea that two conditions are both true\n",
    "group = 'adult'\n",
    "age = 30\n",
    "if group == 'adult' and age >= 27:\n",
    "    print('shut up')\n"
   ]
  },
  {
   "cell_type": "code",
   "execution_count": 3,
   "id": "fd8cd146-3301-4bc8-8ae4-0ef9bc1765ab",
   "metadata": {},
   "outputs": [
    {
     "name": "stdout",
     "output_type": "stream",
     "text": [
      "students gets a C\n"
     ]
    }
   ],
   "source": [
    "# boolean operator \"or\"\n",
    "# it is used to test whether one or both of two conditions are true\n",
    "\n",
    "pharmacy_test = 60\n",
    "unn_exam = 80\n",
    "if pharmacy_test >= 70 or unn_exam >= 70:\n",
    "    print('students gets a C')"
   ]
  },
  {
   "cell_type": "code",
   "execution_count": 4,
   "id": "db935ea8-f60c-49b7-ab66-d77d7d6d3395",
   "metadata": {},
   "outputs": [
    {
     "name": "stdout",
     "output_type": "stream",
     "text": [
      "the next grade is 89\n"
     ]
    }
   ],
   "source": [
    "# boolean operator \"not\" reverses the meaning of a condition - true becomes false and false becomes true\n",
    "# this is a unary operator\n",
    "# it has one operand, the not operator is placed before a condition.\n",
    "grade = 89\n",
    "if not grade == -1:\n",
    "    print('the next grade is' , grade)"
   ]
  },
  {
   "cell_type": "code",
   "execution_count": 7,
   "id": "1ee4926a-f12e-4f50-a440-3f6b49cc65ae",
   "metadata": {},
   "outputs": [
    {
     "data": {
      "text/plain": [
       "66.28571428571429"
      ]
     },
     "execution_count": 7,
     "metadata": {},
     "output_type": "execute_result"
    }
   ],
   "source": [
    "# measures of central tendency produces a single value that represent a central value in a set of values.\n",
    "# mean is the average value in a set of values\n",
    "# median is the middle value when all the values are arranged in sorted order\n",
    "# mode is the most frequent occuring value in a set of values\n",
    "# 'sum' calculates the total \n",
    "# 'len' returns the number of grades\n",
    "\n",
    "grades = [96, 67, 83, 23, 54, 90, 51]\n",
    "sum(grades) / len(grades)\n"
   ]
  },
  {
   "cell_type": "code",
   "execution_count": 14,
   "id": "c65470a6-43b1-4a49-a0da-d5d76b77ae8a",
   "metadata": {},
   "outputs": [
    {
     "data": {
      "text/plain": [
       "75.85714285714286"
      ]
     },
     "execution_count": 14,
     "metadata": {},
     "output_type": "execute_result"
    }
   ],
   "source": [
    "grades = [96, 67, 83, 90, 54, 90, 51]\n",
    "statistics.mean(grades)"
   ]
  },
  {
   "cell_type": "code",
   "execution_count": 15,
   "id": "1b4a0a91-c6f1-4616-b063-38d03ee18730",
   "metadata": {},
   "outputs": [
    {
     "data": {
      "text/plain": [
       "83"
      ]
     },
     "execution_count": 15,
     "metadata": {},
     "output_type": "execute_result"
    }
   ],
   "source": [
    "grades = [96, 67, 83, 90, 54, 90, 51]\n",
    "statistics.median(grades)"
   ]
  },
  {
   "cell_type": "code",
   "execution_count": 16,
   "id": "3d580706-9362-4860-aec4-bf91848374d1",
   "metadata": {},
   "outputs": [
    {
     "data": {
      "text/plain": [
       "90"
      ]
     },
     "execution_count": 16,
     "metadata": {},
     "output_type": "execute_result"
    }
   ],
   "source": [
    "grades = [96, 67, 83, 90, 54, 90, 51]\n",
    "statistics.mode(grades)"
   ]
  },
  {
   "cell_type": "code",
   "execution_count": 17,
   "id": "09208d40-0b17-4428-84ff-a78d3d3e7aba",
   "metadata": {},
   "outputs": [
    {
     "data": {
      "text/plain": [
       "[51, 54, 67, 83, 90, 90, 96]"
      ]
     },
     "execution_count": 17,
     "metadata": {},
     "output_type": "execute_result"
    }
   ],
   "source": [
    "grades = [96, 67, 83, 90, 54, 90, 51]\n",
    "sorted(grades)"
   ]
  },
  {
   "cell_type": "code",
   "execution_count": 19,
   "id": "024a4bdb-e389-4c3a-b30e-3792370fb1cb",
   "metadata": {},
   "outputs": [
    {
     "data": {
      "text/plain": [
       "75.85714285714286"
      ]
     },
     "execution_count": 19,
     "metadata": {},
     "output_type": "execute_result"
    }
   ],
   "source": [
    "import statistics\n",
    "values = [47, 95, 88, 73, 88, 84]\n",
    "statistics.mean(values)"
   ]
  },
  {
   "cell_type": "code",
   "execution_count": 20,
   "id": "4741a90d-f328-4f7a-b1c7-364f93dfbe9a",
   "metadata": {},
   "outputs": [
    {
     "data": {
      "text/plain": [
       "88"
      ]
     },
     "execution_count": 20,
     "metadata": {},
     "output_type": "execute_result"
    }
   ],
   "source": [
    "values = [47, 95, 88, 73, 88, 84]\n",
    "statistics.mode(values)"
   ]
  },
  {
   "cell_type": "code",
   "execution_count": 21,
   "id": "85dac55f-4a18-4dde-a009-451c7b58bd9e",
   "metadata": {},
   "outputs": [
    {
     "data": {
      "text/plain": [
       "86.0"
      ]
     },
     "execution_count": 21,
     "metadata": {},
     "output_type": "execute_result"
    }
   ],
   "source": [
    "values = [47, 95, 88, 73, 88, 84]\n",
    "statistics.median(values)"
   ]
  },
  {
   "cell_type": "code",
   "execution_count": 23,
   "id": "6cf6e76c-541a-4679-9c17-5a532de48d64",
   "metadata": {},
   "outputs": [
    {
     "data": {
      "text/plain": [
       "49"
      ]
     },
     "execution_count": 23,
     "metadata": {},
     "output_type": "execute_result"
    }
   ],
   "source": [
    "# defining function begins with the \"def\" keywords\n",
    "def square(number):\n",
    "    \"\"\"calculate the square of number.\"\"\"\n",
    "    return number ** 2\n",
    "square(7)"
   ]
  },
  {
   "cell_type": "code",
   "execution_count": 24,
   "id": "ce99182b-43e5-4e89-a4d6-f82a5fe0dce0",
   "metadata": {},
   "outputs": [
    {
     "data": {
      "text/plain": [
       "6.25"
      ]
     },
     "execution_count": 24,
     "metadata": {},
     "output_type": "execute_result"
    }
   ],
   "source": [
    "square(2.5)"
   ]
  },
  {
   "cell_type": "code",
   "execution_count": null,
   "id": "68d9f1c1-b2c5-4c23-9e20-83ad49b1264d",
   "metadata": {},
   "outputs": [],
   "source": []
  }
 ],
 "metadata": {
  "kernelspec": {
   "display_name": "Python 3 (ipykernel)",
   "language": "python",
   "name": "python3"
  },
  "language_info": {
   "codemirror_mode": {
    "name": "ipython",
    "version": 3
   },
   "file_extension": ".py",
   "mimetype": "text/x-python",
   "name": "python",
   "nbconvert_exporter": "python",
   "pygments_lexer": "ipython3",
   "version": "3.13.0"
  }
 },
 "nbformat": 4,
 "nbformat_minor": 5
}
